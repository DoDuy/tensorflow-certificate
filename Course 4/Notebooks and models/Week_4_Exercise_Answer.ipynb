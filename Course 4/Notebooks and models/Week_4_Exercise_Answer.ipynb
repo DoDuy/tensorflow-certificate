{
  "nbformat": 4,
  "nbformat_minor": 0,
  "metadata": {
    "accelerator": "GPU",
    "colab": {
      "name": "Bản sao của S+P Week 4 Exercise Answer.ipynb",
      "provenance": [],
      "collapsed_sections": [],
      "toc_visible": true
    },
    "kernelspec": {
      "display_name": "Python 3",
      "name": "python3"
    }
  },
  "cells": [
    {
      "cell_type": "code",
      "metadata": {
        "id": "zX4Kg8DUTKWO"
      },
      "source": [
        "#@title Licensed under the Apache License, Version 2.0 (the \"License\");\n",
        "# you may not use this file except in compliance with the License.\n",
        "# You may obtain a copy of the License at\n",
        "#\n",
        "# https://www.apache.org/licenses/LICENSE-2.0\n",
        "#\n",
        "# Unless required by applicable law or agreed to in writing, software\n",
        "# distributed under the License is distributed on an \"AS IS\" BASIS,\n",
        "# WITHOUT WARRANTIES OR CONDITIONS OF ANY KIND, either express or implied.\n",
        "# See the License for the specific language governing permissions and\n",
        "# limitations under the License."
      ],
      "execution_count": null,
      "outputs": []
    },
    {
      "cell_type": "code",
      "metadata": {
        "colab": {
          "base_uri": "https://localhost:8080/",
          "height": 1000
        },
        "id": "2CCYYeBroK6l",
        "outputId": "c4c3dcb9-08a1-48e1-fd2f-8373da6e9281"
      },
      "source": [
        "!pip install tensorflow==2.3.0\r\n",
        "!pip install tensorflow-datasets==3.2.1\r\n",
        "!pip install Pillow==7.2.0"
      ],
      "execution_count": 1,
      "outputs": [
        {
          "output_type": "stream",
          "text": [
            "Collecting tensorflow==2.3.0\n",
            "\u001b[?25l  Downloading https://files.pythonhosted.org/packages/97/ae/0b08f53498417914f2274cc3b5576d2b83179b0cbb209457d0fde0152174/tensorflow-2.3.0-cp36-cp36m-manylinux2010_x86_64.whl (320.4MB)\n",
            "\u001b[K     |████████████████████████████████| 320.4MB 49kB/s \n",
            "\u001b[?25hRequirement already satisfied: h5py<2.11.0,>=2.10.0 in /usr/local/lib/python3.6/dist-packages (from tensorflow==2.3.0) (2.10.0)\n",
            "Requirement already satisfied: tensorboard<3,>=2.3.0 in /usr/local/lib/python3.6/dist-packages (from tensorflow==2.3.0) (2.4.0)\n",
            "Requirement already satisfied: astunparse==1.6.3 in /usr/local/lib/python3.6/dist-packages (from tensorflow==2.3.0) (1.6.3)\n",
            "Requirement already satisfied: wrapt>=1.11.1 in /usr/local/lib/python3.6/dist-packages (from tensorflow==2.3.0) (1.12.1)\n",
            "Requirement already satisfied: google-pasta>=0.1.8 in /usr/local/lib/python3.6/dist-packages (from tensorflow==2.3.0) (0.2.0)\n",
            "Requirement already satisfied: termcolor>=1.1.0 in /usr/local/lib/python3.6/dist-packages (from tensorflow==2.3.0) (1.1.0)\n",
            "Requirement already satisfied: wheel>=0.26 in /usr/local/lib/python3.6/dist-packages (from tensorflow==2.3.0) (0.36.2)\n",
            "Requirement already satisfied: keras-preprocessing<1.2,>=1.1.1 in /usr/local/lib/python3.6/dist-packages (from tensorflow==2.3.0) (1.1.2)\n",
            "Requirement already satisfied: six>=1.12.0 in /usr/local/lib/python3.6/dist-packages (from tensorflow==2.3.0) (1.15.0)\n",
            "\u001b[33mWARNING: Retrying (Retry(total=4, connect=None, read=None, redirect=None, status=None)) after connection broken by 'ProtocolError('Connection aborted.', ConnectionResetError(104, 'Connection reset by peer'))': /simple/tensorflow-estimator/\u001b[0m\n",
            "Collecting tensorflow-estimator<2.4.0,>=2.3.0\n",
            "\u001b[?25l  Downloading https://files.pythonhosted.org/packages/e9/ed/5853ec0ae380cba4588eab1524e18ece1583b65f7ae0e97321f5ff9dfd60/tensorflow_estimator-2.3.0-py2.py3-none-any.whl (459kB)\n",
            "\u001b[K     |████████████████████████████████| 460kB 49.2MB/s \n",
            "\u001b[?25hRequirement already satisfied: scipy==1.4.1 in /usr/local/lib/python3.6/dist-packages (from tensorflow==2.3.0) (1.4.1)\n",
            "Requirement already satisfied: absl-py>=0.7.0 in /usr/local/lib/python3.6/dist-packages (from tensorflow==2.3.0) (0.10.0)\n",
            "Requirement already satisfied: opt-einsum>=2.3.2 in /usr/local/lib/python3.6/dist-packages (from tensorflow==2.3.0) (3.3.0)\n",
            "Requirement already satisfied: grpcio>=1.8.6 in /usr/local/lib/python3.6/dist-packages (from tensorflow==2.3.0) (1.32.0)\n",
            "Requirement already satisfied: protobuf>=3.9.2 in /usr/local/lib/python3.6/dist-packages (from tensorflow==2.3.0) (3.12.4)\n",
            "Requirement already satisfied: gast==0.3.3 in /usr/local/lib/python3.6/dist-packages (from tensorflow==2.3.0) (0.3.3)\n",
            "Collecting numpy<1.19.0,>=1.16.0\n",
            "\u001b[?25l  Downloading https://files.pythonhosted.org/packages/b3/a9/b1bc4c935ed063766bce7d3e8c7b20bd52e515ff1c732b02caacf7918e5a/numpy-1.18.5-cp36-cp36m-manylinux1_x86_64.whl (20.1MB)\n",
            "\u001b[K     |████████████████████████████████| 20.1MB 1.3MB/s \n",
            "\u001b[?25hRequirement already satisfied: markdown>=2.6.8 in /usr/local/lib/python3.6/dist-packages (from tensorboard<3,>=2.3.0->tensorflow==2.3.0) (3.3.3)\n",
            "Requirement already satisfied: tensorboard-plugin-wit>=1.6.0 in /usr/local/lib/python3.6/dist-packages (from tensorboard<3,>=2.3.0->tensorflow==2.3.0) (1.7.0)\n",
            "Requirement already satisfied: google-auth<2,>=1.6.3 in /usr/local/lib/python3.6/dist-packages (from tensorboard<3,>=2.3.0->tensorflow==2.3.0) (1.17.2)\n",
            "Requirement already satisfied: google-auth-oauthlib<0.5,>=0.4.1 in /usr/local/lib/python3.6/dist-packages (from tensorboard<3,>=2.3.0->tensorflow==2.3.0) (0.4.2)\n",
            "Requirement already satisfied: werkzeug>=0.11.15 in /usr/local/lib/python3.6/dist-packages (from tensorboard<3,>=2.3.0->tensorflow==2.3.0) (1.0.1)\n",
            "Requirement already satisfied: setuptools>=41.0.0 in /usr/local/lib/python3.6/dist-packages (from tensorboard<3,>=2.3.0->tensorflow==2.3.0) (51.0.0)\n",
            "Requirement already satisfied: requests<3,>=2.21.0 in /usr/local/lib/python3.6/dist-packages (from tensorboard<3,>=2.3.0->tensorflow==2.3.0) (2.23.0)\n",
            "Requirement already satisfied: importlib-metadata; python_version < \"3.8\" in /usr/local/lib/python3.6/dist-packages (from markdown>=2.6.8->tensorboard<3,>=2.3.0->tensorflow==2.3.0) (3.3.0)\n",
            "Requirement already satisfied: cachetools<5.0,>=2.0.0 in /usr/local/lib/python3.6/dist-packages (from google-auth<2,>=1.6.3->tensorboard<3,>=2.3.0->tensorflow==2.3.0) (4.2.0)\n",
            "Requirement already satisfied: pyasn1-modules>=0.2.1 in /usr/local/lib/python3.6/dist-packages (from google-auth<2,>=1.6.3->tensorboard<3,>=2.3.0->tensorflow==2.3.0) (0.2.8)\n",
            "Requirement already satisfied: rsa<5,>=3.1.4; python_version >= \"3\" in /usr/local/lib/python3.6/dist-packages (from google-auth<2,>=1.6.3->tensorboard<3,>=2.3.0->tensorflow==2.3.0) (4.6)\n",
            "Requirement already satisfied: requests-oauthlib>=0.7.0 in /usr/local/lib/python3.6/dist-packages (from google-auth-oauthlib<0.5,>=0.4.1->tensorboard<3,>=2.3.0->tensorflow==2.3.0) (1.3.0)\n",
            "Requirement already satisfied: urllib3!=1.25.0,!=1.25.1,<1.26,>=1.21.1 in /usr/local/lib/python3.6/dist-packages (from requests<3,>=2.21.0->tensorboard<3,>=2.3.0->tensorflow==2.3.0) (1.24.3)\n",
            "Requirement already satisfied: chardet<4,>=3.0.2 in /usr/local/lib/python3.6/dist-packages (from requests<3,>=2.21.0->tensorboard<3,>=2.3.0->tensorflow==2.3.0) (3.0.4)\n",
            "Requirement already satisfied: certifi>=2017.4.17 in /usr/local/lib/python3.6/dist-packages (from requests<3,>=2.21.0->tensorboard<3,>=2.3.0->tensorflow==2.3.0) (2020.12.5)\n",
            "Requirement already satisfied: idna<3,>=2.5 in /usr/local/lib/python3.6/dist-packages (from requests<3,>=2.21.0->tensorboard<3,>=2.3.0->tensorflow==2.3.0) (2.10)\n",
            "Requirement already satisfied: zipp>=0.5 in /usr/local/lib/python3.6/dist-packages (from importlib-metadata; python_version < \"3.8\"->markdown>=2.6.8->tensorboard<3,>=2.3.0->tensorflow==2.3.0) (3.4.0)\n",
            "Requirement already satisfied: typing-extensions>=3.6.4; python_version < \"3.8\" in /usr/local/lib/python3.6/dist-packages (from importlib-metadata; python_version < \"3.8\"->markdown>=2.6.8->tensorboard<3,>=2.3.0->tensorflow==2.3.0) (3.7.4.3)\n",
            "Requirement already satisfied: pyasn1<0.5.0,>=0.4.6 in /usr/local/lib/python3.6/dist-packages (from pyasn1-modules>=0.2.1->google-auth<2,>=1.6.3->tensorboard<3,>=2.3.0->tensorflow==2.3.0) (0.4.8)\n",
            "Requirement already satisfied: oauthlib>=3.0.0 in /usr/local/lib/python3.6/dist-packages (from requests-oauthlib>=0.7.0->google-auth-oauthlib<0.5,>=0.4.1->tensorboard<3,>=2.3.0->tensorflow==2.3.0) (3.1.0)\n",
            "\u001b[31mERROR: datascience 0.10.6 has requirement folium==0.2.1, but you'll have folium 0.8.3 which is incompatible.\u001b[0m\n",
            "\u001b[31mERROR: albumentations 0.1.12 has requirement imgaug<0.2.7,>=0.2.5, but you'll have imgaug 0.2.9 which is incompatible.\u001b[0m\n",
            "Installing collected packages: tensorflow-estimator, numpy, tensorflow\n",
            "  Found existing installation: tensorflow-estimator 2.4.0\n",
            "    Uninstalling tensorflow-estimator-2.4.0:\n",
            "      Successfully uninstalled tensorflow-estimator-2.4.0\n",
            "  Found existing installation: numpy 1.19.4\n",
            "    Uninstalling numpy-1.19.4:\n",
            "      Successfully uninstalled numpy-1.19.4\n",
            "  Found existing installation: tensorflow 2.4.0\n",
            "    Uninstalling tensorflow-2.4.0:\n",
            "      Successfully uninstalled tensorflow-2.4.0\n",
            "Successfully installed numpy-1.18.5 tensorflow-2.3.0 tensorflow-estimator-2.3.0\n"
          ],
          "name": "stdout"
        },
        {
          "output_type": "display_data",
          "data": {
            "application/vnd.colab-display-data+json": {
              "pip_warning": {
                "packages": [
                  "numpy"
                ]
              }
            }
          },
          "metadata": {
            "tags": []
          }
        },
        {
          "output_type": "stream",
          "text": [
            "Collecting tensorflow-datasets==3.2.1\n",
            "\u001b[?25l  Downloading https://files.pythonhosted.org/packages/ca/c9/d97bdf931edbae9aebc767633d088bd674136d5fe7587ef693b7cb6a1883/tensorflow_datasets-3.2.1-py3-none-any.whl (3.4MB)\n",
            "\u001b[K     |████████████████████████████████| 3.4MB 11.7MB/s \n",
            "\u001b[?25hRequirement already satisfied: tensorflow-metadata in /usr/local/lib/python3.6/dist-packages (from tensorflow-datasets==3.2.1) (0.26.0)\n",
            "Requirement already satisfied: absl-py in /usr/local/lib/python3.6/dist-packages (from tensorflow-datasets==3.2.1) (0.10.0)\n",
            "Requirement already satisfied: promise in /usr/local/lib/python3.6/dist-packages (from tensorflow-datasets==3.2.1) (2.3)\n",
            "Requirement already satisfied: six in /usr/local/lib/python3.6/dist-packages (from tensorflow-datasets==3.2.1) (1.15.0)\n",
            "Requirement already satisfied: dill in /usr/local/lib/python3.6/dist-packages (from tensorflow-datasets==3.2.1) (0.3.3)\n",
            "Requirement already satisfied: tqdm in /usr/local/lib/python3.6/dist-packages (from tensorflow-datasets==3.2.1) (4.41.1)\n",
            "Requirement already satisfied: termcolor in /usr/local/lib/python3.6/dist-packages (from tensorflow-datasets==3.2.1) (1.1.0)\n",
            "Requirement already satisfied: future in /usr/local/lib/python3.6/dist-packages (from tensorflow-datasets==3.2.1) (0.16.0)\n",
            "Requirement already satisfied: requests>=2.19.0 in /usr/local/lib/python3.6/dist-packages (from tensorflow-datasets==3.2.1) (2.23.0)\n",
            "Requirement already satisfied: protobuf>=3.6.1 in /usr/local/lib/python3.6/dist-packages (from tensorflow-datasets==3.2.1) (3.12.4)\n",
            "Requirement already satisfied: numpy in /usr/local/lib/python3.6/dist-packages (from tensorflow-datasets==3.2.1) (1.18.5)\n",
            "Requirement already satisfied: attrs>=18.1.0 in /usr/local/lib/python3.6/dist-packages (from tensorflow-datasets==3.2.1) (20.3.0)\n",
            "Requirement already satisfied: wrapt in /usr/local/lib/python3.6/dist-packages (from tensorflow-datasets==3.2.1) (1.12.1)\n",
            "Requirement already satisfied: googleapis-common-protos<2,>=1.52.0 in /usr/local/lib/python3.6/dist-packages (from tensorflow-metadata->tensorflow-datasets==3.2.1) (1.52.0)\n",
            "Requirement already satisfied: chardet<4,>=3.0.2 in /usr/local/lib/python3.6/dist-packages (from requests>=2.19.0->tensorflow-datasets==3.2.1) (3.0.4)\n",
            "Requirement already satisfied: urllib3!=1.25.0,!=1.25.1,<1.26,>=1.21.1 in /usr/local/lib/python3.6/dist-packages (from requests>=2.19.0->tensorflow-datasets==3.2.1) (1.24.3)\n",
            "Requirement already satisfied: idna<3,>=2.5 in /usr/local/lib/python3.6/dist-packages (from requests>=2.19.0->tensorflow-datasets==3.2.1) (2.10)\n",
            "Requirement already satisfied: certifi>=2017.4.17 in /usr/local/lib/python3.6/dist-packages (from requests>=2.19.0->tensorflow-datasets==3.2.1) (2020.12.5)\n",
            "Requirement already satisfied: setuptools in /usr/local/lib/python3.6/dist-packages (from protobuf>=3.6.1->tensorflow-datasets==3.2.1) (51.0.0)\n",
            "Installing collected packages: tensorflow-datasets\n",
            "  Found existing installation: tensorflow-datasets 4.0.1\n",
            "    Uninstalling tensorflow-datasets-4.0.1:\n",
            "      Successfully uninstalled tensorflow-datasets-4.0.1\n",
            "Successfully installed tensorflow-datasets-3.2.1\n",
            "Collecting Pillow==7.2.0\n",
            "\u001b[?25l  Downloading https://files.pythonhosted.org/packages/30/bf/92385b4262178ca22b34f82e0e09c2922eb351fe39f3cc7b8ba9ea555b41/Pillow-7.2.0-cp36-cp36m-manylinux1_x86_64.whl (2.2MB)\n",
            "\u001b[K     |████████████████████████████████| 2.2MB 15.5MB/s \n",
            "\u001b[31mERROR: albumentations 0.1.12 has requirement imgaug<0.2.7,>=0.2.5, but you'll have imgaug 0.2.9 which is incompatible.\u001b[0m\n",
            "\u001b[?25hInstalling collected packages: Pillow\n",
            "  Found existing installation: Pillow 7.0.0\n",
            "    Uninstalling Pillow-7.0.0:\n",
            "      Successfully uninstalled Pillow-7.0.0\n",
            "Successfully installed Pillow-7.2.0\n"
          ],
          "name": "stdout"
        },
        {
          "output_type": "display_data",
          "data": {
            "application/vnd.colab-display-data+json": {
              "pip_warning": {
                "packages": [
                  "PIL"
                ]
              }
            }
          },
          "metadata": {
            "tags": []
          }
        }
      ]
    },
    {
      "cell_type": "code",
      "metadata": {
        "colab": {
          "base_uri": "https://localhost:8080/"
        },
        "id": "56XEQOGknrAk",
        "outputId": "5b07dd2f-295f-4ee2-ba95-6aa26f0463cf"
      },
      "source": [
        "import tensorflow as tf\n",
        "print(tf.__version__)"
      ],
      "execution_count": 1,
      "outputs": [
        {
          "output_type": "stream",
          "text": [
            "2.3.0\n"
          ],
          "name": "stdout"
        }
      ]
    },
    {
      "cell_type": "code",
      "metadata": {
        "id": "sLl52leVp5wU"
      },
      "source": [
        "import numpy as np\n",
        "import matplotlib.pyplot as plt\n",
        "def plot_series(time, series, format=\"-\", start=0, end=None):\n",
        "    plt.plot(time[start:end], series[start:end], format)\n",
        "    plt.xlabel(\"Time\")\n",
        "    plt.ylabel(\"Value\")\n",
        "    plt.grid(True)"
      ],
      "execution_count": 2,
      "outputs": []
    },
    {
      "cell_type": "code",
      "metadata": {
        "id": "tP7oqUdkk0gY",
        "colab": {
          "base_uri": "https://localhost:8080/"
        },
        "outputId": "79fe2b49-f042-4ffa-9cd6-735c2d75343c"
      },
      "source": [
        "!wget --no-check-certificate \\\n",
        "    https://raw.githubusercontent.com/jbrownlee/Datasets/master/daily-min-temperatures.csv \\\n",
        "    -O /tmp/daily-min-temperatures.csv"
      ],
      "execution_count": 3,
      "outputs": [
        {
          "output_type": "stream",
          "text": [
            "--2020-12-24 02:45:46--  https://raw.githubusercontent.com/jbrownlee/Datasets/master/daily-min-temperatures.csv\n",
            "Resolving raw.githubusercontent.com (raw.githubusercontent.com)... 151.101.0.133, 151.101.64.133, 151.101.128.133, ...\n",
            "Connecting to raw.githubusercontent.com (raw.githubusercontent.com)|151.101.0.133|:443... connected.\n",
            "HTTP request sent, awaiting response... 200 OK\n",
            "Length: 67921 (66K) [text/plain]\n",
            "Saving to: ‘/tmp/daily-min-temperatures.csv’\n",
            "\n",
            "\r          /tmp/dail   0%[                    ]       0  --.-KB/s               \r/tmp/daily-min-temp 100%[===================>]  66.33K  --.-KB/s    in 0.001s  \n",
            "\n",
            "2020-12-24 02:45:46 (52.2 MB/s) - ‘/tmp/daily-min-temperatures.csv’ saved [67921/67921]\n",
            "\n"
          ],
          "name": "stdout"
        }
      ]
    },
    {
      "cell_type": "code",
      "metadata": {
        "colab": {
          "base_uri": "https://localhost:8080/",
          "height": 388
        },
        "id": "NcG9r1eClbTh",
        "outputId": "b6c5ecaa-bb7e-47c6-fd4d-a737ed7d1558"
      },
      "source": [
        "import csv\n",
        "time_step = []\n",
        "temps = []\n",
        "\n",
        "with open('/tmp/daily-min-temperatures.csv') as csvfile:\n",
        "  reader = csv.reader(csvfile, delimiter=',')\n",
        "  next(reader)\n",
        "  step=0\n",
        "  for row in reader:\n",
        "    temps.append(float(row[1]))\n",
        "    time_step.append(step)\n",
        "    step = step + 1\n",
        "\n",
        "series = np.array(temps)\n",
        "time = np.array(time_step)\n",
        "plt.figure(figsize=(10, 6))\n",
        "plot_series(time, series)"
      ],
      "execution_count": 4,
      "outputs": [
        {
          "output_type": "display_data",
          "data": {
            "image/png": "[encoded data removed]",
            "text/plain": [
              "<Figure size 720x432 with 1 Axes>"
            ]
          },
          "metadata": {
            "tags": [],
            "needs_background": "light"
          }
        }
      ]
    },
    {
      "cell_type": "code",
      "metadata": {
        "id": "L92YRw_IpCFG"
      },
      "source": [
        "split_time = 2500\n",
        "time_train = time[:split_time]\n",
        "x_train = series[:split_time]\n",
        "time_valid = time[split_time:]\n",
        "x_valid = series[split_time:]\n",
        "\n",
        "window_size = 30\n",
        "batch_size = 32\n",
        "shuffle_buffer_size = 1000\n"
      ],
      "execution_count": 5,
      "outputs": []
    },
    {
      "cell_type": "code",
      "metadata": {
        "id": "lJwUUZscnG38"
      },
      "source": [
        "def windowed_dataset(series, window_size, batch_size, shuffle_buffer):\n",
        "    series = tf.expand_dims(series, axis=-1)\n",
        "    ds = tf.data.Dataset.from_tensor_slices(series)\n",
        "    ds = ds.window(window_size + 1, shift=1, drop_remainder=True)\n",
        "    ds = ds.flat_map(lambda w: w.batch(window_size + 1))\n",
        "    ds = ds.shuffle(shuffle_buffer)\n",
        "    ds = ds.map(lambda w: (w[:-1], w[1:]))\n",
        "    return ds.batch(batch_size).prefetch(1)"
      ],
      "execution_count": 6,
      "outputs": []
    },
    {
      "cell_type": "code",
      "metadata": {
        "id": "4XwGrf-A_wF0"
      },
      "source": [
        "def model_forecast(model, series, window_size):\n",
        "    ds = tf.data.Dataset.from_tensor_slices(series)\n",
        "    ds = ds.window(window_size, shift=1, drop_remainder=True)\n",
        "    ds = ds.flat_map(lambda w: w.batch(window_size))\n",
        "    ds = ds.batch(32).prefetch(1)\n",
        "    forecast = model.predict(ds)\n",
        "    return forecast"
      ],
      "execution_count": 7,
      "outputs": []
    },
    {
      "cell_type": "code",
      "metadata": {
        "colab": {
          "base_uri": "https://localhost:8080/"
        },
        "id": "AclfYY3Mn6Ph",
        "outputId": "2d0fe4d0-93c1-4bef-8ddd-94e378b19ac6"
      },
      "source": [
        "tf.keras.backend.clear_session()\n",
        "tf.random.set_seed(51)\n",
        "np.random.seed(51)\n",
        "window_size = 64\n",
        "batch_size = 256\n",
        "train_set = windowed_dataset(x_train, window_size, batch_size, shuffle_buffer_size)\n",
        "print(train_set)\n",
        "print(x_train.shape)\n",
        "\n",
        "model = tf.keras.models.Sequential([\n",
        "  tf.keras.layers.Conv1D(filters=32, kernel_size=5,\n",
        "                      strides=1, padding=\"causal\",\n",
        "                      activation=\"relu\",\n",
        "                      input_shape=[None, 1]),\n",
        "  tf.keras.layers.LSTM(64, return_sequences=True),\n",
        "  tf.keras.layers.LSTM(64, return_sequences=True),\n",
        "  tf.keras.layers.Dense(30, activation=\"relu\"),\n",
        "  tf.keras.layers.Dense(10, activation=\"relu\"),\n",
        "  tf.keras.layers.Dense(1),\n",
        "  tf.keras.layers.Lambda(lambda x: x * 400)\n",
        "])\n",
        "\n",
        "lr_schedule = tf.keras.callbacks.LearningRateScheduler(\n",
        "    lambda epoch: 1e-8 * 10**(epoch / 20))\n",
        "optimizer = tf.keras.optimizers.SGD(lr=1e-8, momentum=0.9)\n",
        "model.compile(loss=tf.keras.losses.Huber(),\n",
        "              optimizer=optimizer,\n",
        "              metrics=[\"mae\"])\n",
        "history = model.fit(train_set, epochs=100, callbacks=[lr_schedule])\n"
      ],
      "execution_count": 8,
      "outputs": [
        {
          "output_type": "stream",
          "text": [
            "<PrefetchDataset shapes: ((None, None, 1), (None, None, 1)), types: (tf.float64, tf.float64)>\n",
            "(2500,)\n",
            "Epoch 1/100\n",
            "10/10 [==============================] - 0s 27ms/step - loss: 31.1571 - mae: 31.6550\n",
            "Epoch 2/100\n",
            "10/10 [==============================] - 0s 24ms/step - loss: 30.5778 - mae: 31.0756\n",
            "Epoch 3/100\n",
            "10/10 [==============================] - 0s 25ms/step - loss: 29.6825 - mae: 30.1801\n",
            "Epoch 4/100\n",
            "10/10 [==============================] - 0s 24ms/step - loss: 28.5613 - mae: 29.0586\n",
            "Epoch 5/100\n",
            "10/10 [==============================] - 0s 25ms/step - loss: 27.1974 - mae: 27.6945\n",
            "Epoch 6/100\n",
            "10/10 [==============================] - 0s 25ms/step - loss: 25.5017 - mae: 25.9986\n",
            "Epoch 7/100\n",
            "10/10 [==============================] - 0s 26ms/step - loss: 23.3464 - mae: 23.8429\n",
            "Epoch 8/100\n",
            "10/10 [==============================] - 0s 26ms/step - loss: 20.6147 - mae: 21.1108\n",
            "Epoch 9/100\n",
            "10/10 [==============================] - 0s 28ms/step - loss: 17.3142 - mae: 17.8091\n",
            "Epoch 10/100\n",
            "10/10 [==============================] - 0s 25ms/step - loss: 13.6448 - mae: 14.1371\n",
            "Epoch 11/100\n",
            "10/10 [==============================] - 0s 26ms/step - loss: 10.1272 - mae: 10.6152\n",
            "Epoch 12/100\n",
            "10/10 [==============================] - 0s 26ms/step - loss: 7.6175 - mae: 8.1025\n",
            "Epoch 13/100\n",
            "10/10 [==============================] - 0s 26ms/step - loss: 6.2869 - mae: 6.7711\n",
            "Epoch 14/100\n",
            "10/10 [==============================] - 0s 25ms/step - loss: 5.7015 - mae: 6.1856\n",
            "Epoch 15/100\n",
            "10/10 [==============================] - 0s 26ms/step - loss: 5.3344 - mae: 5.8166\n",
            "Epoch 16/100\n",
            "10/10 [==============================] - 0s 25ms/step - loss: 4.9409 - mae: 5.4206\n",
            "Epoch 17/100\n",
            "10/10 [==============================] - 0s 25ms/step - loss: 4.5578 - mae: 5.0338\n",
            "Epoch 18/100\n",
            "10/10 [==============================] - 0s 27ms/step - loss: 4.2340 - mae: 4.7085\n",
            "Epoch 19/100\n",
            "10/10 [==============================] - 0s 26ms/step - loss: 3.9611 - mae: 4.4360\n",
            "Epoch 20/100\n",
            "10/10 [==============================] - 0s 27ms/step - loss: 3.7448 - mae: 4.2177\n",
            "Epoch 21/100\n",
            "10/10 [==============================] - 0s 27ms/step - loss: 3.5855 - mae: 4.0566\n",
            "Epoch 22/100\n",
            "10/10 [==============================] - 0s 26ms/step - loss: 3.4641 - mae: 3.9344\n",
            "Epoch 23/100\n",
            "10/10 [==============================] - 0s 25ms/step - loss: 3.3711 - mae: 3.8414\n",
            "Epoch 24/100\n",
            "10/10 [==============================] - 0s 24ms/step - loss: 3.2948 - mae: 3.7645\n",
            "Epoch 25/100\n",
            "10/10 [==============================] - 0s 26ms/step - loss: 3.2288 - mae: 3.6978\n",
            "Epoch 26/100\n",
            "10/10 [==============================] - 0s 25ms/step - loss: 3.1662 - mae: 3.6346\n",
            "Epoch 27/100\n",
            "10/10 [==============================] - 0s 25ms/step - loss: 3.1014 - mae: 3.5693\n",
            "Epoch 28/100\n",
            "10/10 [==============================] - 0s 27ms/step - loss: 3.0380 - mae: 3.5053\n",
            "Epoch 29/100\n",
            "10/10 [==============================] - 0s 28ms/step - loss: 2.9716 - mae: 3.4379\n",
            "Epoch 30/100\n",
            "10/10 [==============================] - 0s 27ms/step - loss: 2.9063 - mae: 3.3712\n",
            "Epoch 31/100\n",
            "10/10 [==============================] - 0s 26ms/step - loss: 2.8452 - mae: 3.3098\n",
            "Epoch 32/100\n",
            "10/10 [==============================] - 0s 25ms/step - loss: 2.7842 - mae: 3.2479\n",
            "Epoch 33/100\n",
            "10/10 [==============================] - 0s 25ms/step - loss: 2.7256 - mae: 3.1891\n",
            "Epoch 34/100\n",
            "10/10 [==============================] - 0s 25ms/step - loss: 2.6740 - mae: 3.1379\n",
            "Epoch 35/100\n",
            "10/10 [==============================] - 0s 26ms/step - loss: 2.6212 - mae: 3.0849\n",
            "Epoch 36/100\n",
            "10/10 [==============================] - 0s 25ms/step - loss: 2.5728 - mae: 3.0357\n",
            "Epoch 37/100\n",
            "10/10 [==============================] - 0s 26ms/step - loss: 2.5254 - mae: 2.9877\n",
            "Epoch 38/100\n",
            "10/10 [==============================] - 0s 26ms/step - loss: 2.4800 - mae: 2.9415\n",
            "Epoch 39/100\n",
            "10/10 [==============================] - 0s 26ms/step - loss: 2.4355 - mae: 2.8968\n",
            "Epoch 40/100\n",
            "10/10 [==============================] - 0s 25ms/step - loss: 2.3933 - mae: 2.8541\n",
            "Epoch 41/100\n",
            "10/10 [==============================] - 0s 25ms/step - loss: 2.3523 - mae: 2.8124\n",
            "Epoch 42/100\n",
            "10/10 [==============================] - 0s 26ms/step - loss: 2.3124 - mae: 2.7718\n",
            "Epoch 43/100\n",
            "10/10 [==============================] - 0s 25ms/step - loss: 2.2730 - mae: 2.7314\n",
            "Epoch 44/100\n",
            "10/10 [==============================] - 0s 25ms/step - loss: 2.2338 - mae: 2.6913\n",
            "Epoch 45/100\n",
            "10/10 [==============================] - 0s 24ms/step - loss: 2.1954 - mae: 2.6523\n",
            "Epoch 46/100\n",
            "10/10 [==============================] - 0s 26ms/step - loss: 2.1622 - mae: 2.6190\n",
            "Epoch 47/100\n",
            "10/10 [==============================] - 0s 26ms/step - loss: 2.1313 - mae: 2.5877\n",
            "Epoch 48/100\n",
            "10/10 [==============================] - 0s 26ms/step - loss: 2.1047 - mae: 2.5607\n",
            "Epoch 49/100\n",
            "10/10 [==============================] - 0s 27ms/step - loss: 2.0740 - mae: 2.5300\n",
            "Epoch 50/100\n",
            "10/10 [==============================] - 0s 26ms/step - loss: 2.0481 - mae: 2.5040\n",
            "Epoch 51/100\n",
            "10/10 [==============================] - 0s 25ms/step - loss: 2.0263 - mae: 2.4818\n",
            "Epoch 52/100\n",
            "10/10 [==============================] - 0s 26ms/step - loss: 2.0048 - mae: 2.4598\n",
            "Epoch 53/100\n",
            "10/10 [==============================] - 0s 25ms/step - loss: 1.9897 - mae: 2.4443\n",
            "Epoch 54/100\n",
            "10/10 [==============================] - 0s 26ms/step - loss: 1.9650 - mae: 2.4193\n",
            "Epoch 55/100\n",
            "10/10 [==============================] - 0s 25ms/step - loss: 1.9469 - mae: 2.4008\n",
            "Epoch 56/100\n",
            "10/10 [==============================] - 0s 27ms/step - loss: 1.9247 - mae: 2.3783\n",
            "Epoch 57/100\n",
            "10/10 [==============================] - 0s 27ms/step - loss: 1.9090 - mae: 2.3620\n",
            "Epoch 58/100\n",
            "10/10 [==============================] - 0s 26ms/step - loss: 1.8864 - mae: 2.3394\n",
            "Epoch 59/100\n",
            "10/10 [==============================] - 0s 27ms/step - loss: 1.8594 - mae: 2.3120\n",
            "Epoch 60/100\n",
            "10/10 [==============================] - 0s 26ms/step - loss: 2.1962 - mae: 2.6562\n",
            "Epoch 61/100\n",
            "10/10 [==============================] - 0s 25ms/step - loss: 2.6848 - mae: 3.1557\n",
            "Epoch 62/100\n",
            "10/10 [==============================] - 0s 26ms/step - loss: 3.0855 - mae: 3.5613\n",
            "Epoch 63/100\n",
            "10/10 [==============================] - 0s 26ms/step - loss: 3.5168 - mae: 3.9960\n",
            "Epoch 64/100\n",
            "10/10 [==============================] - 0s 26ms/step - loss: 3.6558 - mae: 4.1369\n",
            "Epoch 65/100\n",
            "10/10 [==============================] - 0s 26ms/step - loss: 4.2076 - mae: 4.6941\n",
            "Epoch 66/100\n",
            "10/10 [==============================] - 0s 29ms/step - loss: 4.3831 - mae: 4.8694\n",
            "Epoch 67/100\n",
            "10/10 [==============================] - 0s 26ms/step - loss: 4.6300 - mae: 5.1177\n",
            "Epoch 68/100\n",
            "10/10 [==============================] - 0s 27ms/step - loss: 4.7016 - mae: 5.1877\n",
            "Epoch 69/100\n",
            "10/10 [==============================] - 0s 28ms/step - loss: 4.9866 - mae: 5.4742\n",
            "Epoch 70/100\n",
            "10/10 [==============================] - 0s 27ms/step - loss: 5.2965 - mae: 5.7794\n",
            "Epoch 71/100\n",
            "10/10 [==============================] - 0s 26ms/step - loss: 14.5733 - mae: 15.0713\n",
            "Epoch 72/100\n",
            "10/10 [==============================] - 0s 26ms/step - loss: 12.7365 - mae: 13.2274\n",
            "Epoch 73/100\n",
            "10/10 [==============================] - 0s 26ms/step - loss: 7.5803 - mae: 8.0692\n",
            "Epoch 74/100\n",
            "10/10 [==============================] - 0s 25ms/step - loss: 2.9673 - mae: 3.4354\n",
            "Epoch 75/100\n",
            "10/10 [==============================] - 0s 25ms/step - loss: 2.1256 - mae: 2.5824\n",
            "Epoch 76/100\n",
            "10/10 [==============================] - 0s 26ms/step - loss: 2.0182 - mae: 2.4737\n",
            "Epoch 77/100\n",
            "10/10 [==============================] - 0s 25ms/step - loss: 1.9633 - mae: 2.4179\n",
            "Epoch 78/100\n",
            "10/10 [==============================] - 0s 26ms/step - loss: 2.0869 - mae: 2.5443\n",
            "Epoch 79/100\n",
            "10/10 [==============================] - 0s 26ms/step - loss: 2.3570 - mae: 2.8190\n",
            "Epoch 80/100\n",
            "10/10 [==============================] - 0s 27ms/step - loss: 3.0553 - mae: 3.5292\n",
            "Epoch 81/100\n",
            "10/10 [==============================] - 0s 25ms/step - loss: 3.3165 - mae: 3.7949\n",
            "Epoch 82/100\n",
            "10/10 [==============================] - 0s 26ms/step - loss: 3.8669 - mae: 4.3495\n",
            "Epoch 83/100\n",
            "10/10 [==============================] - 0s 25ms/step - loss: 4.6098 - mae: 5.0988\n",
            "Epoch 84/100\n",
            "10/10 [==============================] - 0s 25ms/step - loss: 5.1901 - mae: 5.6809\n",
            "Epoch 85/100\n",
            "10/10 [==============================] - 0s 27ms/step - loss: 5.7069 - mae: 6.1969\n",
            "Epoch 86/100\n",
            "10/10 [==============================] - 0s 26ms/step - loss: 6.9732 - mae: 7.4668\n",
            "Epoch 87/100\n",
            "10/10 [==============================] - 0s 26ms/step - loss: 26.6249 - mae: 27.1196\n",
            "Epoch 88/100\n",
            "10/10 [==============================] - 0s 26ms/step - loss: 50.0504 - mae: 50.5484\n",
            "Epoch 89/100\n",
            "10/10 [==============================] - 0s 25ms/step - loss: 64.3939 - mae: 64.8939\n",
            "Epoch 90/100\n",
            "10/10 [==============================] - 0s 25ms/step - loss: 22.3814 - mae: 22.8814\n",
            "Epoch 91/100\n",
            "10/10 [==============================] - 0s 27ms/step - loss: 24.2344 - mae: 24.7331\n",
            "Epoch 92/100\n",
            "10/10 [==============================] - 0s 26ms/step - loss: 29.3672 - mae: 29.8660\n",
            "Epoch 93/100\n",
            "10/10 [==============================] - 0s 25ms/step - loss: 25.1192 - mae: 25.6153\n",
            "Epoch 94/100\n",
            "10/10 [==============================] - 0s 26ms/step - loss: 59.5583 - mae: 60.0550\n",
            "Epoch 95/100\n",
            "10/10 [==============================] - 0s 25ms/step - loss: 103.5780 - mae: 104.0779\n",
            "Epoch 96/100\n",
            "10/10 [==============================] - 0s 26ms/step - loss: 94.2893 - mae: 94.7893\n",
            "Epoch 97/100\n",
            "10/10 [==============================] - 0s 27ms/step - loss: 173.1490 - mae: 173.6490\n",
            "Epoch 98/100\n",
            "10/10 [==============================] - 0s 25ms/step - loss: 85.4332 - mae: 85.9332\n",
            "Epoch 99/100\n",
            "10/10 [==============================] - 0s 26ms/step - loss: 216.6974 - mae: 217.1974\n",
            "Epoch 100/100\n",
            "10/10 [==============================] - 0s 25ms/step - loss: 368.7143 - mae: 369.2143\n"
          ],
          "name": "stdout"
        }
      ]
    },
    {
      "cell_type": "code",
      "metadata": {
        "colab": {
          "base_uri": "https://localhost:8080/",
          "height": 290
        },
        "id": "vVcKmg7Q_7rD",
        "outputId": "31f7ac54-68a7-4dfb-c25c-3923b9fcbdcd"
      },
      "source": [
        "plt.semilogx(history.history[\"lr\"], history.history[\"loss\"])\n",
        "plt.axis([1e-8, 1e-4, 0, 60])"
      ],
      "execution_count": 9,
      "outputs": [
        {
          "output_type": "execute_result",
          "data": {
            "text/plain": [
              "(1e-08, 0.0001, 0.0, 60.0)"
            ]
          },
          "metadata": {
            "tags": []
          },
          "execution_count": 9
        },
        {
          "output_type": "display_data",
          "data": {
            "image/png": "[encoded data removed]",
            "text/plain": [
              "<Figure size 432x288 with 1 Axes>"
            ]
          },
          "metadata": {
            "tags": [],
            "needs_background": "light"
          }
        }
      ]
    },
    {
      "cell_type": "code",
      "metadata": {
        "colab": {
          "base_uri": "https://localhost:8080/"
        },
        "id": "QsksvkcXAAgq",
        "outputId": "5a4417df-ebb0-40b4-d621-68965f91c916"
      },
      "source": [
        "tf.keras.backend.clear_session()\n",
        "tf.random.set_seed(51)\n",
        "np.random.seed(51)\n",
        "train_set = windowed_dataset(x_train, window_size=60, batch_size=100, shuffle_buffer=shuffle_buffer_size)\n",
        "model = tf.keras.models.Sequential([\n",
        "  tf.keras.layers.Conv1D(filters=60, kernel_size=5,\n",
        "                      strides=1, padding=\"causal\",\n",
        "                      activation=\"relu\",\n",
        "                      input_shape=[None, 1]),\n",
        "  tf.keras.layers.LSTM(60, return_sequences=True),\n",
        "  tf.keras.layers.LSTM(60, return_sequences=True),\n",
        "  tf.keras.layers.Dense(30, activation=\"relu\"),\n",
        "  tf.keras.layers.Dense(10, activation=\"relu\"),\n",
        "  tf.keras.layers.Dense(1),\n",
        "  tf.keras.layers.Lambda(lambda x: x * 400)\n",
        "])\n",
        "\n",
        "\n",
        "optimizer = tf.keras.optimizers.SGD(lr=1e-5, momentum=0.9)\n",
        "model.compile(loss=tf.keras.losses.Huber(),\n",
        "              optimizer=optimizer,\n",
        "              metrics=[\"mae\"])\n",
        "history = model.fit(train_set,epochs=150)"
      ],
      "execution_count": 10,
      "outputs": [
        {
          "output_type": "stream",
          "text": [
            "Epoch 1/150\n",
            "25/25 [==============================] - 0s 15ms/step - loss: 9.9814 - mae: 10.4694\n",
            "Epoch 2/150\n",
            "25/25 [==============================] - 0s 15ms/step - loss: 2.5295 - mae: 2.9922\n",
            "Epoch 3/150\n",
            "25/25 [==============================] - 0s 15ms/step - loss: 1.9502 - mae: 2.4047\n",
            "Epoch 4/150\n",
            "25/25 [==============================] - 0s 15ms/step - loss: 1.8619 - mae: 2.3151\n",
            "Epoch 5/150\n",
            "25/25 [==============================] - 0s 14ms/step - loss: 1.8215 - mae: 2.2733\n",
            "Epoch 6/150\n",
            "25/25 [==============================] - 0s 14ms/step - loss: 1.7909 - mae: 2.2418\n",
            "Epoch 7/150\n",
            "25/25 [==============================] - 0s 15ms/step - loss: 1.7686 - mae: 2.2186\n",
            "Epoch 8/150\n",
            "25/25 [==============================] - 0s 14ms/step - loss: 1.7413 - mae: 2.1906\n",
            "Epoch 9/150\n",
            "25/25 [==============================] - 0s 14ms/step - loss: 1.7193 - mae: 2.1681\n",
            "Epoch 10/150\n",
            "25/25 [==============================] - 0s 15ms/step - loss: 1.7000 - mae: 2.1482\n",
            "Epoch 11/150\n",
            "25/25 [==============================] - 0s 14ms/step - loss: 1.6811 - mae: 2.1287\n",
            "Epoch 12/150\n",
            "25/25 [==============================] - 0s 15ms/step - loss: 1.6688 - mae: 2.1159\n",
            "Epoch 13/150\n",
            "25/25 [==============================] - 0s 15ms/step - loss: 1.6566 - mae: 2.1030\n",
            "Epoch 14/150\n",
            "25/25 [==============================] - 0s 15ms/step - loss: 1.6434 - mae: 2.0891\n",
            "Epoch 15/150\n",
            "25/25 [==============================] - 0s 15ms/step - loss: 1.6354 - mae: 2.0803\n",
            "Epoch 16/150\n",
            "25/25 [==============================] - 0s 15ms/step - loss: 1.6263 - mae: 2.0710\n",
            "Epoch 17/150\n",
            "25/25 [==============================] - 0s 15ms/step - loss: 1.6140 - mae: 2.0581\n",
            "Epoch 18/150\n",
            "25/25 [==============================] - 0s 16ms/step - loss: 1.6115 - mae: 2.0553\n",
            "Epoch 19/150\n",
            "25/25 [==============================] - 0s 15ms/step - loss: 1.6011 - mae: 2.0444\n",
            "Epoch 20/150\n",
            "25/25 [==============================] - 0s 16ms/step - loss: 1.5933 - mae: 2.0365\n",
            "Epoch 21/150\n",
            "25/25 [==============================] - 0s 15ms/step - loss: 1.5917 - mae: 2.0348\n",
            "Epoch 22/150\n",
            "25/25 [==============================] - 0s 15ms/step - loss: 1.5849 - mae: 2.0276\n",
            "Epoch 23/150\n",
            "25/25 [==============================] - 0s 14ms/step - loss: 1.5807 - mae: 2.0232\n",
            "Epoch 24/150\n",
            "25/25 [==============================] - 0s 15ms/step - loss: 1.5797 - mae: 2.0222\n",
            "Epoch 25/150\n",
            "25/25 [==============================] - 0s 15ms/step - loss: 1.5701 - mae: 2.0121\n",
            "Epoch 26/150\n",
            "25/25 [==============================] - 0s 15ms/step - loss: 1.5665 - mae: 2.0085\n",
            "Epoch 27/150\n",
            "25/25 [==============================] - 0s 15ms/step - loss: 1.5639 - mae: 2.0057\n",
            "Epoch 28/150\n",
            "25/25 [==============================] - 0s 15ms/step - loss: 1.5596 - mae: 2.0014\n",
            "Epoch 29/150\n",
            "25/25 [==============================] - 0s 15ms/step - loss: 1.5573 - mae: 1.9991\n",
            "Epoch 30/150\n",
            "25/25 [==============================] - 0s 15ms/step - loss: 1.5553 - mae: 1.9972\n",
            "Epoch 31/150\n",
            "25/25 [==============================] - 0s 15ms/step - loss: 1.5546 - mae: 1.9967\n",
            "Epoch 32/150\n",
            "25/25 [==============================] - 0s 15ms/step - loss: 1.5520 - mae: 1.9937\n",
            "Epoch 33/150\n",
            "25/25 [==============================] - 0s 15ms/step - loss: 1.5480 - mae: 1.9897\n",
            "Epoch 34/150\n",
            "25/25 [==============================] - 0s 15ms/step - loss: 1.5520 - mae: 1.9939\n",
            "Epoch 35/150\n",
            "25/25 [==============================] - 0s 15ms/step - loss: 1.5489 - mae: 1.9909\n",
            "Epoch 36/150\n",
            "25/25 [==============================] - 0s 16ms/step - loss: 1.5430 - mae: 1.9846\n",
            "Epoch 37/150\n",
            "25/25 [==============================] - 0s 14ms/step - loss: 1.5421 - mae: 1.9836\n",
            "Epoch 38/150\n",
            "25/25 [==============================] - 0s 15ms/step - loss: 1.5402 - mae: 1.9816\n",
            "Epoch 39/150\n",
            "25/25 [==============================] - 0s 14ms/step - loss: 1.5404 - mae: 1.9822\n",
            "Epoch 40/150\n",
            "25/25 [==============================] - 0s 14ms/step - loss: 1.5411 - mae: 1.9829\n",
            "Epoch 41/150\n",
            "25/25 [==============================] - 0s 15ms/step - loss: 1.5354 - mae: 1.9768\n",
            "Epoch 42/150\n",
            "25/25 [==============================] - 0s 15ms/step - loss: 1.5354 - mae: 1.9770\n",
            "Epoch 43/150\n",
            "25/25 [==============================] - 0s 15ms/step - loss: 1.5351 - mae: 1.9768\n",
            "Epoch 44/150\n",
            "25/25 [==============================] - 0s 15ms/step - loss: 1.5360 - mae: 1.9781\n",
            "Epoch 45/150\n",
            "25/25 [==============================] - 0s 16ms/step - loss: 1.5308 - mae: 1.9723\n",
            "Epoch 46/150\n",
            "25/25 [==============================] - 0s 15ms/step - loss: 1.5330 - mae: 1.9748\n",
            "Epoch 47/150\n",
            "25/25 [==============================] - 0s 15ms/step - loss: 1.5285 - mae: 1.9699\n",
            "Epoch 48/150\n",
            "25/25 [==============================] - 0s 15ms/step - loss: 1.5312 - mae: 1.9730\n",
            "Epoch 49/150\n",
            "25/25 [==============================] - 0s 15ms/step - loss: 1.5306 - mae: 1.9724\n",
            "Epoch 50/150\n",
            "25/25 [==============================] - 0s 15ms/step - loss: 1.5262 - mae: 1.9678\n",
            "Epoch 51/150\n",
            "25/25 [==============================] - 0s 14ms/step - loss: 1.5291 - mae: 1.9708\n",
            "Epoch 52/150\n",
            "25/25 [==============================] - 0s 14ms/step - loss: 1.5274 - mae: 1.9692\n",
            "Epoch 53/150\n",
            "25/25 [==============================] - 0s 15ms/step - loss: 1.5288 - mae: 1.9708\n",
            "Epoch 54/150\n",
            "25/25 [==============================] - 0s 14ms/step - loss: 1.5239 - mae: 1.9656\n",
            "Epoch 55/150\n",
            "25/25 [==============================] - 0s 15ms/step - loss: 1.5236 - mae: 1.9654\n",
            "Epoch 56/150\n",
            "25/25 [==============================] - 0s 15ms/step - loss: 1.5214 - mae: 1.9629\n",
            "Epoch 57/150\n",
            "25/25 [==============================] - 0s 16ms/step - loss: 1.5219 - mae: 1.9634\n",
            "Epoch 58/150\n",
            "25/25 [==============================] - 0s 15ms/step - loss: 1.5347 - mae: 1.9776\n",
            "Epoch 59/150\n",
            "25/25 [==============================] - 0s 16ms/step - loss: 1.5252 - mae: 1.9669\n",
            "Epoch 60/150\n",
            "25/25 [==============================] - 0s 15ms/step - loss: 1.5221 - mae: 1.9638\n",
            "Epoch 61/150\n",
            "25/25 [==============================] - 0s 15ms/step - loss: 1.5185 - mae: 1.9600\n",
            "Epoch 62/150\n",
            "25/25 [==============================] - 0s 15ms/step - loss: 1.5197 - mae: 1.9612\n",
            "Epoch 63/150\n",
            "25/25 [==============================] - 0s 15ms/step - loss: 1.5169 - mae: 1.9584\n",
            "Epoch 64/150\n",
            "25/25 [==============================] - 0s 15ms/step - loss: 1.5173 - mae: 1.9589\n",
            "Epoch 65/150\n",
            "25/25 [==============================] - 0s 15ms/step - loss: 1.5167 - mae: 1.9581\n",
            "Epoch 66/150\n",
            "25/25 [==============================] - 0s 15ms/step - loss: 1.5169 - mae: 1.9585\n",
            "Epoch 67/150\n",
            "25/25 [==============================] - 0s 15ms/step - loss: 1.5218 - mae: 1.9636\n",
            "Epoch 68/150\n",
            "25/25 [==============================] - 0s 15ms/step - loss: 1.5163 - mae: 1.9579\n",
            "Epoch 69/150\n",
            "25/25 [==============================] - 0s 15ms/step - loss: 1.5146 - mae: 1.9561\n",
            "Epoch 70/150\n",
            "25/25 [==============================] - 0s 15ms/step - loss: 1.5145 - mae: 1.9559\n",
            "Epoch 71/150\n",
            "25/25 [==============================] - 0s 16ms/step - loss: 1.5129 - mae: 1.9542\n",
            "Epoch 72/150\n",
            "25/25 [==============================] - 0s 16ms/step - loss: 1.5123 - mae: 1.9537\n",
            "Epoch 73/150\n",
            "25/25 [==============================] - 0s 15ms/step - loss: 1.5152 - mae: 1.9568\n",
            "Epoch 74/150\n",
            "25/25 [==============================] - 0s 16ms/step - loss: 1.5112 - mae: 1.9527\n",
            "Epoch 75/150\n",
            "25/25 [==============================] - 0s 18ms/step - loss: 1.5127 - mae: 1.9542\n",
            "Epoch 76/150\n",
            "25/25 [==============================] - 0s 15ms/step - loss: 1.5114 - mae: 1.9527\n",
            "Epoch 77/150\n",
            "25/25 [==============================] - 0s 15ms/step - loss: 1.5104 - mae: 1.9520\n",
            "Epoch 78/150\n",
            "25/25 [==============================] - 0s 14ms/step - loss: 1.5143 - mae: 1.9559\n",
            "Epoch 79/150\n",
            "25/25 [==============================] - 0s 15ms/step - loss: 1.5090 - mae: 1.9505\n",
            "Epoch 80/150\n",
            "25/25 [==============================] - 0s 15ms/step - loss: 1.5104 - mae: 1.9520\n",
            "Epoch 81/150\n",
            "25/25 [==============================] - 0s 15ms/step - loss: 1.5148 - mae: 1.9566\n",
            "Epoch 82/150\n",
            "25/25 [==============================] - 0s 15ms/step - loss: 1.5074 - mae: 1.9490\n",
            "Epoch 83/150\n",
            "25/25 [==============================] - 0s 15ms/step - loss: 1.5080 - mae: 1.9494\n",
            "Epoch 84/150\n",
            "25/25 [==============================] - 0s 15ms/step - loss: 1.5084 - mae: 1.9501\n",
            "Epoch 85/150\n",
            "25/25 [==============================] - 0s 15ms/step - loss: 1.5069 - mae: 1.9484\n",
            "Epoch 86/150\n",
            "25/25 [==============================] - 0s 16ms/step - loss: 1.5061 - mae: 1.9475\n",
            "Epoch 87/150\n",
            "25/25 [==============================] - 0s 17ms/step - loss: 1.5074 - mae: 1.9489\n",
            "Epoch 88/150\n",
            "25/25 [==============================] - 0s 16ms/step - loss: 1.5053 - mae: 1.9467\n",
            "Epoch 89/150\n",
            "25/25 [==============================] - 0s 16ms/step - loss: 1.5050 - mae: 1.9463\n",
            "Epoch 90/150\n",
            "25/25 [==============================] - 0s 15ms/step - loss: 1.5064 - mae: 1.9479\n",
            "Epoch 91/150\n",
            "25/25 [==============================] - 0s 16ms/step - loss: 1.5055 - mae: 1.9468\n",
            "Epoch 92/150\n",
            "25/25 [==============================] - 0s 15ms/step - loss: 1.5045 - mae: 1.9459\n",
            "Epoch 93/150\n",
            "25/25 [==============================] - 0s 16ms/step - loss: 1.5032 - mae: 1.9445\n",
            "Epoch 94/150\n",
            "25/25 [==============================] - 0s 16ms/step - loss: 1.5023 - mae: 1.9437\n",
            "Epoch 95/150\n",
            "25/25 [==============================] - 0s 16ms/step - loss: 1.5110 - mae: 1.9529\n",
            "Epoch 96/150\n",
            "25/25 [==============================] - 0s 16ms/step - loss: 1.5034 - mae: 1.9449\n",
            "Epoch 97/150\n",
            "25/25 [==============================] - 0s 15ms/step - loss: 1.5052 - mae: 1.9469\n",
            "Epoch 98/150\n",
            "25/25 [==============================] - 0s 16ms/step - loss: 1.5057 - mae: 1.9469\n",
            "Epoch 99/150\n",
            "25/25 [==============================] - 0s 15ms/step - loss: 1.5012 - mae: 1.9426\n",
            "Epoch 100/150\n",
            "25/25 [==============================] - 0s 15ms/step - loss: 1.5012 - mae: 1.9425\n",
            "Epoch 101/150\n",
            "25/25 [==============================] - 0s 16ms/step - loss: 1.5013 - mae: 1.9427\n",
            "Epoch 102/150\n",
            "25/25 [==============================] - 0s 15ms/step - loss: 1.4997 - mae: 1.9410\n",
            "Epoch 103/150\n",
            "25/25 [==============================] - 0s 15ms/step - loss: 1.5000 - mae: 1.9412\n",
            "Epoch 104/150\n",
            "25/25 [==============================] - 0s 15ms/step - loss: 1.5005 - mae: 1.9418\n",
            "Epoch 105/150\n",
            "25/25 [==============================] - 0s 16ms/step - loss: 1.4998 - mae: 1.9410\n",
            "Epoch 106/150\n",
            "25/25 [==============================] - 0s 15ms/step - loss: 1.4998 - mae: 1.9411\n",
            "Epoch 107/150\n",
            "25/25 [==============================] - 0s 15ms/step - loss: 1.5015 - mae: 1.9430\n",
            "Epoch 108/150\n",
            "25/25 [==============================] - 0s 16ms/step - loss: 1.5003 - mae: 1.9414\n",
            "Epoch 109/150\n",
            "25/25 [==============================] - 0s 16ms/step - loss: 1.5000 - mae: 1.9413\n",
            "Epoch 110/150\n",
            "25/25 [==============================] - 0s 15ms/step - loss: 1.5014 - mae: 1.9427\n",
            "Epoch 111/150\n",
            "25/25 [==============================] - 0s 15ms/step - loss: 1.4987 - mae: 1.9401\n",
            "Epoch 112/150\n",
            "25/25 [==============================] - 0s 15ms/step - loss: 1.4976 - mae: 1.9388\n",
            "Epoch 113/150\n",
            "25/25 [==============================] - 0s 15ms/step - loss: 1.4965 - mae: 1.9378\n",
            "Epoch 114/150\n",
            "25/25 [==============================] - 0s 16ms/step - loss: 1.4968 - mae: 1.9380\n",
            "Epoch 115/150\n",
            "25/25 [==============================] - 0s 15ms/step - loss: 1.4966 - mae: 1.9377\n",
            "Epoch 116/150\n",
            "25/25 [==============================] - 0s 16ms/step - loss: 1.4979 - mae: 1.9391\n",
            "Epoch 117/150\n",
            "25/25 [==============================] - 0s 15ms/step - loss: 1.4965 - mae: 1.9377\n",
            "Epoch 118/150\n",
            "25/25 [==============================] - 0s 16ms/step - loss: 1.4972 - mae: 1.9383\n",
            "Epoch 119/150\n",
            "25/25 [==============================] - 0s 15ms/step - loss: 1.4959 - mae: 1.9370\n",
            "Epoch 120/150\n",
            "25/25 [==============================] - 0s 16ms/step - loss: 1.4970 - mae: 1.9381\n",
            "Epoch 121/150\n",
            "25/25 [==============================] - 0s 15ms/step - loss: 1.5010 - mae: 1.9426\n",
            "Epoch 122/150\n",
            "25/25 [==============================] - 0s 15ms/step - loss: 1.4966 - mae: 1.9375\n",
            "Epoch 123/150\n",
            "25/25 [==============================] - 0s 16ms/step - loss: 1.5012 - mae: 1.9424\n",
            "Epoch 124/150\n",
            "25/25 [==============================] - 0s 15ms/step - loss: 1.4958 - mae: 1.9370\n",
            "Epoch 125/150\n",
            "25/25 [==============================] - 0s 16ms/step - loss: 1.4954 - mae: 1.9366\n",
            "Epoch 126/150\n",
            "25/25 [==============================] - 0s 15ms/step - loss: 1.4951 - mae: 1.9359\n",
            "Epoch 127/150\n",
            "25/25 [==============================] - 0s 16ms/step - loss: 1.4944 - mae: 1.9353\n",
            "Epoch 128/150\n",
            "25/25 [==============================] - 0s 17ms/step - loss: 1.4941 - mae: 1.9349\n",
            "Epoch 129/150\n",
            "25/25 [==============================] - 0s 16ms/step - loss: 1.4927 - mae: 1.9336\n",
            "Epoch 130/150\n",
            "25/25 [==============================] - 0s 15ms/step - loss: 1.4961 - mae: 1.9373\n",
            "Epoch 131/150\n",
            "25/25 [==============================] - 0s 15ms/step - loss: 1.4925 - mae: 1.9335\n",
            "Epoch 132/150\n",
            "25/25 [==============================] - 0s 16ms/step - loss: 1.5003 - mae: 1.9414\n",
            "Epoch 133/150\n",
            "25/25 [==============================] - 0s 16ms/step - loss: 1.4970 - mae: 1.9379\n",
            "Epoch 134/150\n",
            "25/25 [==============================] - 0s 16ms/step - loss: 1.4968 - mae: 1.9382\n",
            "Epoch 135/150\n",
            "25/25 [==============================] - 0s 15ms/step - loss: 1.4916 - mae: 1.9322\n",
            "Epoch 136/150\n",
            "25/25 [==============================] - 0s 15ms/step - loss: 1.4927 - mae: 1.9333\n",
            "Epoch 137/150\n",
            "25/25 [==============================] - 0s 15ms/step - loss: 1.4956 - mae: 1.9363\n",
            "Epoch 138/150\n",
            "25/25 [==============================] - 0s 16ms/step - loss: 1.4922 - mae: 1.9329\n",
            "Epoch 139/150\n",
            "25/25 [==============================] - 0s 16ms/step - loss: 1.4915 - mae: 1.9321\n",
            "Epoch 140/150\n",
            "25/25 [==============================] - 0s 16ms/step - loss: 1.4917 - mae: 1.9325\n",
            "Epoch 141/150\n",
            "25/25 [==============================] - 0s 16ms/step - loss: 1.4904 - mae: 1.9311\n",
            "Epoch 142/150\n",
            "25/25 [==============================] - 0s 17ms/step - loss: 1.4896 - mae: 1.9304\n",
            "Epoch 143/150\n",
            "25/25 [==============================] - 0s 16ms/step - loss: 1.4924 - mae: 1.9333\n",
            "Epoch 144/150\n",
            "25/25 [==============================] - 0s 16ms/step - loss: 1.4920 - mae: 1.9326\n",
            "Epoch 145/150\n",
            "25/25 [==============================] - 0s 16ms/step - loss: 1.4893 - mae: 1.9299\n",
            "Epoch 146/150\n",
            "25/25 [==============================] - 0s 15ms/step - loss: 1.4956 - mae: 1.9364\n",
            "Epoch 147/150\n",
            "25/25 [==============================] - 0s 16ms/step - loss: 1.4900 - mae: 1.9306\n",
            "Epoch 148/150\n",
            "25/25 [==============================] - 0s 16ms/step - loss: 1.4892 - mae: 1.9300\n",
            "Epoch 149/150\n",
            "25/25 [==============================] - 0s 17ms/step - loss: 1.4900 - mae: 1.9307\n",
            "Epoch 150/150\n",
            "25/25 [==============================] - 0s 16ms/step - loss: 1.4889 - mae: 1.9292\n"
          ],
          "name": "stdout"
        }
      ]
    },
    {
      "cell_type": "code",
      "metadata": {
        "id": "GaC6NNMRp0lb"
      },
      "source": [
        "rnn_forecast = model_forecast(model, series[..., np.newaxis], window_size)\n",
        "rnn_forecast = rnn_forecast[split_time - window_size:-1, -1, 0]"
      ],
      "execution_count": 11,
      "outputs": []
    },
    {
      "cell_type": "code",
      "metadata": {
        "colab": {
          "base_uri": "https://localhost:8080/",
          "height": 389
        },
        "id": "PrktQX3hKYex",
        "outputId": "ef3dc74d-c998-43e6-e4b3-1ad457a79c5d"
      },
      "source": [
        "plt.figure(figsize=(10, 6))\n",
        "plot_series(time_valid, x_valid)\n",
        "plot_series(time_valid, rnn_forecast)"
      ],
      "execution_count": 12,
      "outputs": [
        {
          "output_type": "display_data",
          "data": {
            "image/png": "[encoded data removed]",
            "text/plain": [
              "<Figure size 720x432 with 1 Axes>"
            ]
          },
          "metadata": {
            "tags": [],
            "needs_background": "light"
          }
        }
      ]
    },
    {
      "cell_type": "code",
      "metadata": {
        "colab": {
          "base_uri": "https://localhost:8080/"
        },
        "id": "13XrorC5wQoE",
        "outputId": "8abfb2a6-a236-4080-84b5-c2eef0ac5770"
      },
      "source": [
        "tf.keras.metrics.mean_absolute_error(x_valid, rnn_forecast).numpy()"
      ],
      "execution_count": 13,
      "outputs": [
        {
          "output_type": "execute_result",
          "data": {
            "text/plain": [
              "1.7796298"
            ]
          },
          "metadata": {
            "tags": []
          },
          "execution_count": 13
        }
      ]
    },
    {
      "cell_type": "code",
      "metadata": {
        "id": "AOVzQXxCwkzP"
      },
      "source": [
        "model.save(\"model_week4_Exercise.h5\")"
      ],
      "execution_count": 14,
      "outputs": []
    },
    {
      "cell_type": "code",
      "metadata": {
        "id": "QSi3Ji-UqA57"
      },
      "source": [
        ""
      ],
      "execution_count": null,
      "outputs": []
    }
  ]
}