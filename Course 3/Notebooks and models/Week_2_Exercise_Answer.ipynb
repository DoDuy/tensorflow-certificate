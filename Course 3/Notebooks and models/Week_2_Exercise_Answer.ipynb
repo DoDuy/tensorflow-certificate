{
  "nbformat": 4,
  "nbformat_minor": 0,
  "metadata": {
    "accelerator": "GPU",
    "colab": {
      "name": "Bản sao của Course 3 - Week 2 - Exercise - Answer.ipynb",
      "provenance": [],
      "collapsed_sections": [],
      "toc_visible": true
    },
    "kernelspec": {
      "display_name": "Python 3",
      "language": "python",
      "name": "python3"
    },
    "language_info": {
      "codemirror_mode": {
        "name": "ipython",
        "version": 3
      },
      "file_extension": ".py",
      "mimetype": "text/x-python",
      "name": "python",
      "nbconvert_exporter": "python",
      "pygments_lexer": "ipython3",
      "version": "3.7.6"
    }
  },
  "cells": [
    {
      "cell_type": "code",
      "metadata": {
        "id": "zX4Kg8DUTKWO"
      },
      "source": [
        "#@title Licensed under the Apache License, Version 2.0 (the \"License\");\n",
        "# you may not use this file except in compliance with the License.\n",
        "# You may obtain a copy of the License at\n",
        "#\n",
        "# https://www.apache.org/licenses/LICENSE-2.0\n",
        "#\n",
        "# Unless required by applicable law or agreed to in writing, software\n",
        "# distributed under the License is distributed on an \"AS IS\" BASIS,\n",
        "# WITHOUT WARRANTIES OR CONDITIONS OF ANY KIND, either express or implied.\n",
        "# See the License for the specific language governing permissions and\n",
        "# limitations under the License."
      ],
      "execution_count": null,
      "outputs": []
    },
    {
      "cell_type": "markdown",
      "metadata": {
        "id": "view-in-github"
      },
      "source": [
        "<a href=\"https://colab.research.google.com/github/lmoroney/dlaicourse/blob/master/TensorFlow%20In%20Practice/Course%203%20-%20NLP/Course%203%20-%20Week%202%20-%20Exercise%20-%20Answer.ipynb\" target=\"_parent\"><img src=\"https://colab.research.google.com/assets/colab-badge.svg\" alt=\"Open In Colab\"/></a>"
      ]
    },
    {
      "cell_type": "markdown",
      "metadata": {
        "id": "rX8mhOLljYeM"
      },
      "source": [
        "##### Copyright 2019 The TensorFlow Authors."
      ]
    },
    {
      "cell_type": "code",
      "metadata": {
        "cellView": "form",
        "id": "BZSlp3DAjdYf"
      },
      "source": [
        "#@title Licensed under the Apache License, Version 2.0 (the \"License\");\n",
        "# you may not use this file except in compliance with the License.\n",
        "# You may obtain a copy of the License at\n",
        "#\n",
        "# https://www.apache.org/licenses/LICENSE-2.0\n",
        "#\n",
        "# Unless required by applicable law or agreed to in writing, software\n",
        "# distributed under the License is distributed on an \"AS IS\" BASIS,\n",
        "# WITHOUT WARRANTIES OR CONDITIONS OF ANY KIND, either express or implied.\n",
        "# See the License for the specific language governing permissions and\n",
        "# limitations under the License."
      ],
      "execution_count": null,
      "outputs": []
    },
    {
      "cell_type": "code",
      "metadata": {
        "id": "WA6zJ4DNshdn",
        "colab": {
          "base_uri": "https://localhost:8080/",
          "height": 1000
        },
        "outputId": "ea56661d-bb2c-4466-eb04-aa5beffbd49e"
      },
      "source": [
        "!pip install tensorflow==2.3.0\r\n",
        "!pip install tensorflow-datasets==3.2.1\r\n",
        "!pip install Pillow==7.2.0"
      ],
      "execution_count": 1,
      "outputs": [
        {
          "output_type": "stream",
          "text": [
            "Collecting tensorflow==2.3.0\n",
            "\u001b[?25l  Downloading https://files.pythonhosted.org/packages/97/ae/0b08f53498417914f2274cc3b5576d2b83179b0cbb209457d0fde0152174/tensorflow-2.3.0-cp36-cp36m-manylinux2010_x86_64.whl (320.4MB)\n",
            "\u001b[K     |████████████████████████████████| 320.4MB 53kB/s \n",
            "\u001b[?25hRequirement already satisfied: h5py<2.11.0,>=2.10.0 in /usr/local/lib/python3.6/dist-packages (from tensorflow==2.3.0) (2.10.0)\n",
            "Requirement already satisfied: astunparse==1.6.3 in /usr/local/lib/python3.6/dist-packages (from tensorflow==2.3.0) (1.6.3)\n",
            "Requirement already satisfied: protobuf>=3.9.2 in /usr/local/lib/python3.6/dist-packages (from tensorflow==2.3.0) (3.12.4)\n",
            "Requirement already satisfied: tensorboard<3,>=2.3.0 in /usr/local/lib/python3.6/dist-packages (from tensorflow==2.3.0) (2.4.0)\n",
            "Requirement already satisfied: keras-preprocessing<1.2,>=1.1.1 in /usr/local/lib/python3.6/dist-packages (from tensorflow==2.3.0) (1.1.2)\n",
            "Requirement already satisfied: absl-py>=0.7.0 in /usr/local/lib/python3.6/dist-packages (from tensorflow==2.3.0) (0.10.0)\n",
            "Requirement already satisfied: gast==0.3.3 in /usr/local/lib/python3.6/dist-packages (from tensorflow==2.3.0) (0.3.3)\n",
            "Requirement already satisfied: wheel>=0.26 in /usr/local/lib/python3.6/dist-packages (from tensorflow==2.3.0) (0.36.2)\n",
            "Collecting numpy<1.19.0,>=1.16.0\n",
            "\u001b[?25l  Downloading https://files.pythonhosted.org/packages/b3/a9/b1bc4c935ed063766bce7d3e8c7b20bd52e515ff1c732b02caacf7918e5a/numpy-1.18.5-cp36-cp36m-manylinux1_x86_64.whl (20.1MB)\n",
            "\u001b[K     |████████████████████████████████| 20.1MB 1.3MB/s \n",
            "\u001b[?25hRequirement already satisfied: google-pasta>=0.1.8 in /usr/local/lib/python3.6/dist-packages (from tensorflow==2.3.0) (0.2.0)\n",
            "Requirement already satisfied: termcolor>=1.1.0 in /usr/local/lib/python3.6/dist-packages (from tensorflow==2.3.0) (1.1.0)\n",
            "Collecting tensorflow-estimator<2.4.0,>=2.3.0\n",
            "\u001b[?25l  Downloading https://files.pythonhosted.org/packages/e9/ed/5853ec0ae380cba4588eab1524e18ece1583b65f7ae0e97321f5ff9dfd60/tensorflow_estimator-2.3.0-py2.py3-none-any.whl (459kB)\n",
            "\u001b[K     |████████████████████████████████| 460kB 51.2MB/s \n",
            "\u001b[?25hRequirement already satisfied: opt-einsum>=2.3.2 in /usr/local/lib/python3.6/dist-packages (from tensorflow==2.3.0) (3.3.0)\n",
            "Requirement already satisfied: wrapt>=1.11.1 in /usr/local/lib/python3.6/dist-packages (from tensorflow==2.3.0) (1.12.1)\n",
            "Requirement already satisfied: scipy==1.4.1 in /usr/local/lib/python3.6/dist-packages (from tensorflow==2.3.0) (1.4.1)\n",
            "Requirement already satisfied: six>=1.12.0 in /usr/local/lib/python3.6/dist-packages (from tensorflow==2.3.0) (1.15.0)\n",
            "Requirement already satisfied: grpcio>=1.8.6 in /usr/local/lib/python3.6/dist-packages (from tensorflow==2.3.0) (1.32.0)\n",
            "Requirement already satisfied: setuptools in /usr/local/lib/python3.6/dist-packages (from protobuf>=3.9.2->tensorflow==2.3.0) (51.0.0)\n",
            "Requirement already satisfied: markdown>=2.6.8 in /usr/local/lib/python3.6/dist-packages (from tensorboard<3,>=2.3.0->tensorflow==2.3.0) (3.3.3)\n",
            "Requirement already satisfied: werkzeug>=0.11.15 in /usr/local/lib/python3.6/dist-packages (from tensorboard<3,>=2.3.0->tensorflow==2.3.0) (1.0.1)\n",
            "Requirement already satisfied: google-auth-oauthlib<0.5,>=0.4.1 in /usr/local/lib/python3.6/dist-packages (from tensorboard<3,>=2.3.0->tensorflow==2.3.0) (0.4.2)\n",
            "Requirement already satisfied: requests<3,>=2.21.0 in /usr/local/lib/python3.6/dist-packages (from tensorboard<3,>=2.3.0->tensorflow==2.3.0) (2.23.0)\n",
            "Requirement already satisfied: tensorboard-plugin-wit>=1.6.0 in /usr/local/lib/python3.6/dist-packages (from tensorboard<3,>=2.3.0->tensorflow==2.3.0) (1.7.0)\n",
            "Requirement already satisfied: google-auth<2,>=1.6.3 in /usr/local/lib/python3.6/dist-packages (from tensorboard<3,>=2.3.0->tensorflow==2.3.0) (1.17.2)\n",
            "Requirement already satisfied: importlib-metadata; python_version < \"3.8\" in /usr/local/lib/python3.6/dist-packages (from markdown>=2.6.8->tensorboard<3,>=2.3.0->tensorflow==2.3.0) (3.3.0)\n",
            "Requirement already satisfied: requests-oauthlib>=0.7.0 in /usr/local/lib/python3.6/dist-packages (from google-auth-oauthlib<0.5,>=0.4.1->tensorboard<3,>=2.3.0->tensorflow==2.3.0) (1.3.0)\n",
            "Requirement already satisfied: chardet<4,>=3.0.2 in /usr/local/lib/python3.6/dist-packages (from requests<3,>=2.21.0->tensorboard<3,>=2.3.0->tensorflow==2.3.0) (3.0.4)\n",
            "Requirement already satisfied: idna<3,>=2.5 in /usr/local/lib/python3.6/dist-packages (from requests<3,>=2.21.0->tensorboard<3,>=2.3.0->tensorflow==2.3.0) (2.10)\n",
            "Requirement already satisfied: certifi>=2017.4.17 in /usr/local/lib/python3.6/dist-packages (from requests<3,>=2.21.0->tensorboard<3,>=2.3.0->tensorflow==2.3.0) (2020.12.5)\n",
            "Requirement already satisfied: urllib3!=1.25.0,!=1.25.1,<1.26,>=1.21.1 in /usr/local/lib/python3.6/dist-packages (from requests<3,>=2.21.0->tensorboard<3,>=2.3.0->tensorflow==2.3.0) (1.24.3)\n",
            "Requirement already satisfied: rsa<5,>=3.1.4; python_version >= \"3\" in /usr/local/lib/python3.6/dist-packages (from google-auth<2,>=1.6.3->tensorboard<3,>=2.3.0->tensorflow==2.3.0) (4.6)\n",
            "Requirement already satisfied: pyasn1-modules>=0.2.1 in /usr/local/lib/python3.6/dist-packages (from google-auth<2,>=1.6.3->tensorboard<3,>=2.3.0->tensorflow==2.3.0) (0.2.8)\n",
            "Requirement already satisfied: cachetools<5.0,>=2.0.0 in /usr/local/lib/python3.6/dist-packages (from google-auth<2,>=1.6.3->tensorboard<3,>=2.3.0->tensorflow==2.3.0) (4.2.0)\n",
            "Requirement already satisfied: zipp>=0.5 in /usr/local/lib/python3.6/dist-packages (from importlib-metadata; python_version < \"3.8\"->markdown>=2.6.8->tensorboard<3,>=2.3.0->tensorflow==2.3.0) (3.4.0)\n",
            "Requirement already satisfied: typing-extensions>=3.6.4; python_version < \"3.8\" in /usr/local/lib/python3.6/dist-packages (from importlib-metadata; python_version < \"3.8\"->markdown>=2.6.8->tensorboard<3,>=2.3.0->tensorflow==2.3.0) (3.7.4.3)\n",
            "Requirement already satisfied: oauthlib>=3.0.0 in /usr/local/lib/python3.6/dist-packages (from requests-oauthlib>=0.7.0->google-auth-oauthlib<0.5,>=0.4.1->tensorboard<3,>=2.3.0->tensorflow==2.3.0) (3.1.0)\n",
            "Requirement already satisfied: pyasn1>=0.1.3 in /usr/local/lib/python3.6/dist-packages (from rsa<5,>=3.1.4; python_version >= \"3\"->google-auth<2,>=1.6.3->tensorboard<3,>=2.3.0->tensorflow==2.3.0) (0.4.8)\n",
            "\u001b[31mERROR: datascience 0.10.6 has requirement folium==0.2.1, but you'll have folium 0.8.3 which is incompatible.\u001b[0m\n",
            "\u001b[31mERROR: albumentations 0.1.12 has requirement imgaug<0.2.7,>=0.2.5, but you'll have imgaug 0.2.9 which is incompatible.\u001b[0m\n",
            "Installing collected packages: numpy, tensorflow-estimator, tensorflow\n",
            "  Found existing installation: numpy 1.19.4\n",
            "    Uninstalling numpy-1.19.4:\n",
            "      Successfully uninstalled numpy-1.19.4\n",
            "  Found existing installation: tensorflow-estimator 2.4.0\n",
            "    Uninstalling tensorflow-estimator-2.4.0:\n",
            "      Successfully uninstalled tensorflow-estimator-2.4.0\n",
            "  Found existing installation: tensorflow 2.4.0\n",
            "    Uninstalling tensorflow-2.4.0:\n",
            "      Successfully uninstalled tensorflow-2.4.0\n",
            "Successfully installed numpy-1.18.5 tensorflow-2.3.0 tensorflow-estimator-2.3.0\n"
          ],
          "name": "stdout"
        },
        {
          "output_type": "display_data",
          "data": {
            "application/vnd.colab-display-data+json": {
              "pip_warning": {
                "packages": [
                  "numpy"
                ]
              }
            }
          },
          "metadata": {
            "tags": []
          }
        },
        {
          "output_type": "stream",
          "text": [
            "Collecting tensorflow-datasets==3.2.1\n",
            "\u001b[?25l  Downloading https://files.pythonhosted.org/packages/ca/c9/d97bdf931edbae9aebc767633d088bd674136d5fe7587ef693b7cb6a1883/tensorflow_datasets-3.2.1-py3-none-any.whl (3.4MB)\n",
            "\r\u001b[K     |                                | 10kB 20.6MB/s eta 0:00:01\r\u001b[K     |▏                               | 20kB 28.2MB/s eta 0:00:01\r\u001b[K     |▎                               | 30kB 32.7MB/s eta 0:00:01\r\u001b[K     |▍                               | 40kB 34.3MB/s eta 0:00:01\r\u001b[K     |▌                               | 51kB 33.1MB/s eta 0:00:01\r\u001b[K     |▋                               | 61kB 25.3MB/s eta 0:00:01\r\u001b[K     |▊                               | 71kB 26.9MB/s eta 0:00:01\r\u001b[K     |▊                               | 81kB 22.1MB/s eta 0:00:01\r\u001b[K     |▉                               | 92kB 23.6MB/s eta 0:00:01\r\u001b[K     |█                               | 102kB 22.1MB/s eta 0:00:01\r\u001b[K     |█                               | 112kB 22.1MB/s eta 0:00:01\r\u001b[K     |█▏                              | 122kB 22.1MB/s eta 0:00:01\r\u001b[K     |█▎                              | 133kB 22.1MB/s eta 0:00:01\r\u001b[K     |█▍                              | 143kB 22.1MB/s eta 0:00:01\r\u001b[K     |█▍                              | 153kB 22.1MB/s eta 0:00:01\r\u001b[K     |█▌                              | 163kB 22.1MB/s eta 0:00:01\r\u001b[K     |█▋                              | 174kB 22.1MB/s eta 0:00:01\r\u001b[K     |█▊                              | 184kB 22.1MB/s eta 0:00:01\r\u001b[K     |█▉                              | 194kB 22.1MB/s eta 0:00:01\r\u001b[K     |██                              | 204kB 22.1MB/s eta 0:00:01\r\u001b[K     |██                              | 215kB 22.1MB/s eta 0:00:01\r\u001b[K     |██▏                             | 225kB 22.1MB/s eta 0:00:01\r\u001b[K     |██▏                             | 235kB 22.1MB/s eta 0:00:01\r\u001b[K     |██▎                             | 245kB 22.1MB/s eta 0:00:01\r\u001b[K     |██▍                             | 256kB 22.1MB/s eta 0:00:01\r\u001b[K     |██▌                             | 266kB 22.1MB/s eta 0:00:01\r\u001b[K     |██▋                             | 276kB 22.1MB/s eta 0:00:01\r\u001b[K     |██▊                             | 286kB 22.1MB/s eta 0:00:01\r\u001b[K     |██▉                             | 296kB 22.1MB/s eta 0:00:01\r\u001b[K     |██▉                             | 307kB 22.1MB/s eta 0:00:01\r\u001b[K     |███                             | 317kB 22.1MB/s eta 0:00:01\r\u001b[K     |███                             | 327kB 22.1MB/s eta 0:00:01\r\u001b[K     |███▏                            | 337kB 22.1MB/s eta 0:00:01\r\u001b[K     |███▎                            | 348kB 22.1MB/s eta 0:00:01\r\u001b[K     |███▍                            | 358kB 22.1MB/s eta 0:00:01\r\u001b[K     |███▌                            | 368kB 22.1MB/s eta 0:00:01\r\u001b[K     |███▌                            | 378kB 22.1MB/s eta 0:00:01\r\u001b[K     |███▋                            | 389kB 22.1MB/s eta 0:00:01\r\u001b[K     |███▊                            | 399kB 22.1MB/s eta 0:00:01\r\u001b[K     |███▉                            | 409kB 22.1MB/s eta 0:00:01\r\u001b[K     |████                            | 419kB 22.1MB/s eta 0:00:01\r\u001b[K     |████                            | 430kB 22.1MB/s eta 0:00:01\r\u001b[K     |████▏                           | 440kB 22.1MB/s eta 0:00:01\r\u001b[K     |████▎                           | 450kB 22.1MB/s eta 0:00:01\r\u001b[K     |████▎                           | 460kB 22.1MB/s eta 0:00:01\r\u001b[K     |████▍                           | 471kB 22.1MB/s eta 0:00:01\r\u001b[K     |████▌                           | 481kB 22.1MB/s eta 0:00:01\r\u001b[K     |████▋                           | 491kB 22.1MB/s eta 0:00:01\r\u001b[K     |████▊                           | 501kB 22.1MB/s eta 0:00:01\r\u001b[K     |████▉                           | 512kB 22.1MB/s eta 0:00:01\r\u001b[K     |█████                           | 522kB 22.1MB/s eta 0:00:01\r\u001b[K     |█████                           | 532kB 22.1MB/s eta 0:00:01\r\u001b[K     |█████                           | 542kB 22.1MB/s eta 0:00:01\r\u001b[K     |█████▏                          | 552kB 22.1MB/s eta 0:00:01\r\u001b[K     |█████▎                          | 563kB 22.1MB/s eta 0:00:01\r\u001b[K     |█████▍                          | 573kB 22.1MB/s eta 0:00:01\r\u001b[K     |█████▌                          | 583kB 22.1MB/s eta 0:00:01\r\u001b[K     |█████▋                          | 593kB 22.1MB/s eta 0:00:01\r\u001b[K     |█████▋                          | 604kB 22.1MB/s eta 0:00:01\r\u001b[K     |█████▊                          | 614kB 22.1MB/s eta 0:00:01\r\u001b[K     |█████▉                          | 624kB 22.1MB/s eta 0:00:01\r\u001b[K     |██████                          | 634kB 22.1MB/s eta 0:00:01\r\u001b[K     |██████                          | 645kB 22.1MB/s eta 0:00:01\r\u001b[K     |██████▏                         | 655kB 22.1MB/s eta 0:00:01\r\u001b[K     |██████▎                         | 665kB 22.1MB/s eta 0:00:01\r\u001b[K     |██████▍                         | 675kB 22.1MB/s eta 0:00:01\r\u001b[K     |██████▍                         | 686kB 22.1MB/s eta 0:00:01\r\u001b[K     |██████▌                         | 696kB 22.1MB/s eta 0:00:01\r\u001b[K     |██████▋                         | 706kB 22.1MB/s eta 0:00:01\r\u001b[K     |██████▊                         | 716kB 22.1MB/s eta 0:00:01\r\u001b[K     |██████▉                         | 727kB 22.1MB/s eta 0:00:01\r\u001b[K     |███████                         | 737kB 22.1MB/s eta 0:00:01\r\u001b[K     |███████                         | 747kB 22.1MB/s eta 0:00:01\r\u001b[K     |███████                         | 757kB 22.1MB/s eta 0:00:01\r\u001b[K     |███████▏                        | 768kB 22.1MB/s eta 0:00:01\r\u001b[K     |███████▎                        | 778kB 22.1MB/s eta 0:00:01\r\u001b[K     |███████▍                        | 788kB 22.1MB/s eta 0:00:01\r\u001b[K     |███████▌                        | 798kB 22.1MB/s eta 0:00:01\r\u001b[K     |███████▋                        | 808kB 22.1MB/s eta 0:00:01\r\u001b[K     |███████▊                        | 819kB 22.1MB/s eta 0:00:01\r\u001b[K     |███████▊                        | 829kB 22.1MB/s eta 0:00:01\r\u001b[K     |███████▉                        | 839kB 22.1MB/s eta 0:00:01\r\u001b[K     |████████                        | 849kB 22.1MB/s eta 0:00:01\r\u001b[K     |████████                        | 860kB 22.1MB/s eta 0:00:01\r\u001b[K     |████████▏                       | 870kB 22.1MB/s eta 0:00:01\r\u001b[K     |████████▎                       | 880kB 22.1MB/s eta 0:00:01\r\u001b[K     |████████▍                       | 890kB 22.1MB/s eta 0:00:01\r\u001b[K     |████████▌                       | 901kB 22.1MB/s eta 0:00:01\r\u001b[K     |████████▌                       | 911kB 22.1MB/s eta 0:00:01\r\u001b[K     |████████▋                       | 921kB 22.1MB/s eta 0:00:01\r\u001b[K     |████████▊                       | 931kB 22.1MB/s eta 0:00:01\r\u001b[K     |████████▉                       | 942kB 22.1MB/s eta 0:00:01\r\u001b[K     |█████████                       | 952kB 22.1MB/s eta 0:00:01\r\u001b[K     |█████████                       | 962kB 22.1MB/s eta 0:00:01\r\u001b[K     |█████████▏                      | 972kB 22.1MB/s eta 0:00:01\r\u001b[K     |█████████▏                      | 983kB 22.1MB/s eta 0:00:01\r\u001b[K     |█████████▎                      | 993kB 22.1MB/s eta 0:00:01\r\u001b[K     |█████████▍                      | 1.0MB 22.1MB/s eta 0:00:01\r\u001b[K     |█████████▌                      | 1.0MB 22.1MB/s eta 0:00:01\r\u001b[K     |█████████▋                      | 1.0MB 22.1MB/s eta 0:00:01\r\u001b[K     |█████████▊                      | 1.0MB 22.1MB/s eta 0:00:01\r\u001b[K     |█████████▉                      | 1.0MB 22.1MB/s eta 0:00:01\r\u001b[K     |█████████▉                      | 1.1MB 22.1MB/s eta 0:00:01\r\u001b[K     |██████████                      | 1.1MB 22.1MB/s eta 0:00:01\r\u001b[K     |██████████                      | 1.1MB 22.1MB/s eta 0:00:01\r\u001b[K     |██████████▏                     | 1.1MB 22.1MB/s eta 0:00:01\r\u001b[K     |██████████▎                     | 1.1MB 22.1MB/s eta 0:00:01\r\u001b[K     |██████████▍                     | 1.1MB 22.1MB/s eta 0:00:01\r\u001b[K     |██████████▌                     | 1.1MB 22.1MB/s eta 0:00:01\r\u001b[K     |██████████▋                     | 1.1MB 22.1MB/s eta 0:00:01\r\u001b[K     |██████████▋                     | 1.1MB 22.1MB/s eta 0:00:01\r\u001b[K     |██████████▊                     | 1.1MB 22.1MB/s eta 0:00:01\r\u001b[K     |██████████▉                     | 1.2MB 22.1MB/s eta 0:00:01\r\u001b[K     |███████████                     | 1.2MB 22.1MB/s eta 0:00:01\r\u001b[K     |███████████                     | 1.2MB 22.1MB/s eta 0:00:01\r\u001b[K     |███████████▏                    | 1.2MB 22.1MB/s eta 0:00:01\r\u001b[K     |███████████▎                    | 1.2MB 22.1MB/s eta 0:00:01\r\u001b[K     |███████████▎                    | 1.2MB 22.1MB/s eta 0:00:01\r\u001b[K     |███████████▍                    | 1.2MB 22.1MB/s eta 0:00:01\r\u001b[K     |███████████▌                    | 1.2MB 22.1MB/s eta 0:00:01\r\u001b[K     |███████████▋                    | 1.2MB 22.1MB/s eta 0:00:01\r\u001b[K     |███████████▊                    | 1.2MB 22.1MB/s eta 0:00:01\r\u001b[K     |███████████▉                    | 1.3MB 22.1MB/s eta 0:00:01\r\u001b[K     |████████████                    | 1.3MB 22.1MB/s eta 0:00:01\r\u001b[K     |████████████                    | 1.3MB 22.1MB/s eta 0:00:01\r\u001b[K     |████████████                    | 1.3MB 22.1MB/s eta 0:00:01\r\u001b[K     |████████████▏                   | 1.3MB 22.1MB/s eta 0:00:01\r\u001b[K     |████████████▎                   | 1.3MB 22.1MB/s eta 0:00:01\r\u001b[K     |████████████▍                   | 1.3MB 22.1MB/s eta 0:00:01\r\u001b[K     |████████████▌                   | 1.3MB 22.1MB/s eta 0:00:01\r\u001b[K     |████████████▋                   | 1.3MB 22.1MB/s eta 0:00:01\r\u001b[K     |████████████▊                   | 1.4MB 22.1MB/s eta 0:00:01\r\u001b[K     |████████████▊                   | 1.4MB 22.1MB/s eta 0:00:01\r\u001b[K     |████████████▉                   | 1.4MB 22.1MB/s eta 0:00:01\r\u001b[K     |█████████████                   | 1.4MB 22.1MB/s eta 0:00:01\r\u001b[K     |█████████████                   | 1.4MB 22.1MB/s eta 0:00:01\r\u001b[K     |█████████████▏                  | 1.4MB 22.1MB/s eta 0:00:01\r\u001b[K     |█████████████▎                  | 1.4MB 22.1MB/s eta 0:00:01\r\u001b[K     |█████████████▍                  | 1.4MB 22.1MB/s eta 0:00:01\r\u001b[K     |█████████████▍                  | 1.4MB 22.1MB/s eta 0:00:01\r\u001b[K     |█████████████▌                  | 1.4MB 22.1MB/s eta 0:00:01\r\u001b[K     |█████████████▋                  | 1.5MB 22.1MB/s eta 0:00:01\r\u001b[K     |█████████████▊                  | 1.5MB 22.1MB/s eta 0:00:01\r\u001b[K     |█████████████▉                  | 1.5MB 22.1MB/s eta 0:00:01\r\u001b[K     |██████████████                  | 1.5MB 22.1MB/s eta 0:00:01\r\u001b[K     |██████████████                  | 1.5MB 22.1MB/s eta 0:00:01\r\u001b[K     |██████████████                  | 1.5MB 22.1MB/s eta 0:00:01\r\u001b[K     |██████████████▏                 | 1.5MB 22.1MB/s eta 0:00:01\r\u001b[K     |██████████████▎                 | 1.5MB 22.1MB/s eta 0:00:01\r\u001b[K     |██████████████▍                 | 1.5MB 22.1MB/s eta 0:00:01\r\u001b[K     |██████████████▌                 | 1.5MB 22.1MB/s eta 0:00:01\r\u001b[K     |██████████████▋                 | 1.6MB 22.1MB/s eta 0:00:01\r\u001b[K     |██████████████▊                 | 1.6MB 22.1MB/s eta 0:00:01\r\u001b[K     |██████████████▉                 | 1.6MB 22.1MB/s eta 0:00:01\r\u001b[K     |██████████████▉                 | 1.6MB 22.1MB/s eta 0:00:01\r\u001b[K     |███████████████                 | 1.6MB 22.1MB/s eta 0:00:01\r\u001b[K     |███████████████                 | 1.6MB 22.1MB/s eta 0:00:01\r\u001b[K     |███████████████▏                | 1.6MB 22.1MB/s eta 0:00:01\r\u001b[K     |███████████████▎                | 1.6MB 22.1MB/s eta 0:00:01\r\u001b[K     |███████████████▍                | 1.6MB 22.1MB/s eta 0:00:01\r\u001b[K     |███████████████▌                | 1.6MB 22.1MB/s eta 0:00:01\r\u001b[K     |███████████████▌                | 1.7MB 22.1MB/s eta 0:00:01\r\u001b[K     |███████████████▋                | 1.7MB 22.1MB/s eta 0:00:01\r\u001b[K     |███████████████▊                | 1.7MB 22.1MB/s eta 0:00:01\r\u001b[K     |███████████████▉                | 1.7MB 22.1MB/s eta 0:00:01\r\u001b[K     |████████████████                | 1.7MB 22.1MB/s eta 0:00:01\r\u001b[K     |████████████████                | 1.7MB 22.1MB/s eta 0:00:01\r\u001b[K     |████████████████▏               | 1.7MB 22.1MB/s eta 0:00:01\r\u001b[K     |████████████████▏               | 1.7MB 22.1MB/s eta 0:00:01\r\u001b[K     |████████████████▎               | 1.7MB 22.1MB/s eta 0:00:01\r\u001b[K     |████████████████▍               | 1.8MB 22.1MB/s eta 0:00:01\r\u001b[K     |████████████████▌               | 1.8MB 22.1MB/s eta 0:00:01\r\u001b[K     |████████████████▋               | 1.8MB 22.1MB/s eta 0:00:01\r\u001b[K     |████████████████▊               | 1.8MB 22.1MB/s eta 0:00:01\r\u001b[K     |████████████████▉               | 1.8MB 22.1MB/s eta 0:00:01\r\u001b[K     |█████████████████               | 1.8MB 22.1MB/s eta 0:00:01\r\u001b[K     |█████████████████               | 1.8MB 22.1MB/s eta 0:00:01\r\u001b[K     |█████████████████               | 1.8MB 22.1MB/s eta 0:00:01\r\u001b[K     |█████████████████▏              | 1.8MB 22.1MB/s eta 0:00:01\r\u001b[K     |█████████████████▎              | 1.8MB 22.1MB/s eta 0:00:01\r\u001b[K     |█████████████████▍              | 1.9MB 22.1MB/s eta 0:00:01\r\u001b[K     |█████████████████▌              | 1.9MB 22.1MB/s eta 0:00:01\r\u001b[K     |█████████████████▋              | 1.9MB 22.1MB/s eta 0:00:01\r\u001b[K     |█████████████████▋              | 1.9MB 22.1MB/s eta 0:00:01\r\u001b[K     |█████████████████▊              | 1.9MB 22.1MB/s eta 0:00:01\r\u001b[K     |█████████████████▉              | 1.9MB 22.1MB/s eta 0:00:01\r\u001b[K     |██████████████████              | 1.9MB 22.1MB/s eta 0:00:01\r\u001b[K     |██████████████████              | 1.9MB 22.1MB/s eta 0:00:01\r\u001b[K     |██████████████████▏             | 1.9MB 22.1MB/s eta 0:00:01\r\u001b[K     |██████████████████▎             | 1.9MB 22.1MB/s eta 0:00:01\r\u001b[K     |██████████████████▎             | 2.0MB 22.1MB/s eta 0:00:01\r\u001b[K     |██████████████████▍             | 2.0MB 22.1MB/s eta 0:00:01\r\u001b[K     |██████████████████▌             | 2.0MB 22.1MB/s eta 0:00:01\r\u001b[K     |██████████████████▋             | 2.0MB 22.1MB/s eta 0:00:01\r\u001b[K     |██████████████████▊             | 2.0MB 22.1MB/s eta 0:00:01\r\u001b[K     |██████████████████▉             | 2.0MB 22.1MB/s eta 0:00:01\r\u001b[K     |███████████████████             | 2.0MB 22.1MB/s eta 0:00:01\r\u001b[K     |███████████████████             | 2.0MB 22.1MB/s eta 0:00:01\r\u001b[K     |███████████████████             | 2.0MB 22.1MB/s eta 0:00:01\r\u001b[K     |███████████████████▏            | 2.0MB 22.1MB/s eta 0:00:01\r\u001b[K     |███████████████████▎            | 2.1MB 22.1MB/s eta 0:00:01\r\u001b[K     |███████████████████▍            | 2.1MB 22.1MB/s eta 0:00:01\r\u001b[K     |███████████████████▌            | 2.1MB 22.1MB/s eta 0:00:01\r\u001b[K     |███████████████████▋            | 2.1MB 22.1MB/s eta 0:00:01\r\u001b[K     |███████████████████▊            | 2.1MB 22.1MB/s eta 0:00:01\r\u001b[K     |███████████████████▊            | 2.1MB 22.1MB/s eta 0:00:01\r\u001b[K     |███████████████████▉            | 2.1MB 22.1MB/s eta 0:00:01\r\u001b[K     |████████████████████            | 2.1MB 22.1MB/s eta 0:00:01\r\u001b[K     |████████████████████            | 2.1MB 22.1MB/s eta 0:00:01\r\u001b[K     |████████████████████▏           | 2.2MB 22.1MB/s eta 0:00:01\r\u001b[K     |████████████████████▎           | 2.2MB 22.1MB/s eta 0:00:01\r\u001b[K     |████████████████████▍           | 2.2MB 22.1MB/s eta 0:00:01\r\u001b[K     |████████████████████▍           | 2.2MB 22.1MB/s eta 0:00:01\r\u001b[K     |████████████████████▌           | 2.2MB 22.1MB/s eta 0:00:01\r\u001b[K     |████████████████████▋           | 2.2MB 22.1MB/s eta 0:00:01\r\u001b[K     |████████████████████▊           | 2.2MB 22.1MB/s eta 0:00:01\r\u001b[K     |████████████████████▉           | 2.2MB 22.1MB/s eta 0:00:01\r\u001b[K     |█████████████████████           | 2.2MB 22.1MB/s eta 0:00:01\r\u001b[K     |█████████████████████           | 2.2MB 22.1MB/s eta 0:00:01\r\u001b[K     |█████████████████████▏          | 2.3MB 22.1MB/s eta 0:00:01\r\u001b[K     |█████████████████████▏          | 2.3MB 22.1MB/s eta 0:00:01\r\u001b[K     |█████████████████████▎          | 2.3MB 22.1MB/s eta 0:00:01\r\u001b[K     |█████████████████████▍          | 2.3MB 22.1MB/s eta 0:00:01\r\u001b[K     |█████████████████████▌          | 2.3MB 22.1MB/s eta 0:00:01\r\u001b[K     |█████████████████████▋          | 2.3MB 22.1MB/s eta 0:00:01\r\u001b[K     |█████████████████████▊          | 2.3MB 22.1MB/s eta 0:00:01\r\u001b[K     |█████████████████████▉          | 2.3MB 22.1MB/s eta 0:00:01\r\u001b[K     |█████████████████████▉          | 2.3MB 22.1MB/s eta 0:00:01\r\u001b[K     |██████████████████████          | 2.3MB 22.1MB/s eta 0:00:01\r\u001b[K     |██████████████████████          | 2.4MB 22.1MB/s eta 0:00:01\r\u001b[K     |██████████████████████▏         | 2.4MB 22.1MB/s eta 0:00:01\r\u001b[K     |██████████████████████▎         | 2.4MB 22.1MB/s eta 0:00:01\r\u001b[K     |██████████████████████▍         | 2.4MB 22.1MB/s eta 0:00:01\r\u001b[K     |██████████████████████▌         | 2.4MB 22.1MB/s eta 0:00:01\r\u001b[K     |██████████████████████▌         | 2.4MB 22.1MB/s eta 0:00:01\r\u001b[K     |██████████████████████▋         | 2.4MB 22.1MB/s eta 0:00:01\r\u001b[K     |██████████████████████▊         | 2.4MB 22.1MB/s eta 0:00:01\r\u001b[K     |██████████████████████▉         | 2.4MB 22.1MB/s eta 0:00:01\r\u001b[K     |███████████████████████         | 2.4MB 22.1MB/s eta 0:00:01\r\u001b[K     |███████████████████████         | 2.5MB 22.1MB/s eta 0:00:01\r\u001b[K     |███████████████████████▏        | 2.5MB 22.1MB/s eta 0:00:01\r\u001b[K     |███████████████████████▎        | 2.5MB 22.1MB/s eta 0:00:01\r\u001b[K     |███████████████████████▎        | 2.5MB 22.1MB/s eta 0:00:01\r\u001b[K     |███████████████████████▍        | 2.5MB 22.1MB/s eta 0:00:01\r\u001b[K     |███████████████████████▌        | 2.5MB 22.1MB/s eta 0:00:01\r\u001b[K     |███████████████████████▋        | 2.5MB 22.1MB/s eta 0:00:01\r\u001b[K     |███████████████████████▊        | 2.5MB 22.1MB/s eta 0:00:01\r\u001b[K     |███████████████████████▉        | 2.5MB 22.1MB/s eta 0:00:01\r\u001b[K     |████████████████████████        | 2.5MB 22.1MB/s eta 0:00:01\r\u001b[K     |████████████████████████        | 2.6MB 22.1MB/s eta 0:00:01\r\u001b[K     |████████████████████████        | 2.6MB 22.1MB/s eta 0:00:01\r\u001b[K     |████████████████████████▏       | 2.6MB 22.1MB/s eta 0:00:01\r\u001b[K     |████████████████████████▎       | 2.6MB 22.1MB/s eta 0:00:01\r\u001b[K     |████████████████████████▍       | 2.6MB 22.1MB/s eta 0:00:01\r\u001b[K     |████████████████████████▌       | 2.6MB 22.1MB/s eta 0:00:01\r\u001b[K     |████████████████████████▋       | 2.6MB 22.1MB/s eta 0:00:01\r\u001b[K     |████████████████████████▋       | 2.6MB 22.1MB/s eta 0:00:01\r\u001b[K     |████████████████████████▊       | 2.6MB 22.1MB/s eta 0:00:01\r\u001b[K     |████████████████████████▉       | 2.7MB 22.1MB/s eta 0:00:01\r\u001b[K     |█████████████████████████       | 2.7MB 22.1MB/s eta 0:00:01\r\u001b[K     |█████████████████████████       | 2.7MB 22.1MB/s eta 0:00:01\r\u001b[K     |█████████████████████████▏      | 2.7MB 22.1MB/s eta 0:00:01\r\u001b[K     |█████████████████████████▎      | 2.7MB 22.1MB/s eta 0:00:01\r\u001b[K     |█████████████████████████▍      | 2.7MB 22.1MB/s eta 0:00:01\r\u001b[K     |█████████████████████████▍      | 2.7MB 22.1MB/s eta 0:00:01\r\u001b[K     |█████████████████████████▌      | 2.7MB 22.1MB/s eta 0:00:01\r\u001b[K     |█████████████████████████▋      | 2.7MB 22.1MB/s eta 0:00:01\r\u001b[K     |█████████████████████████▊      | 2.7MB 22.1MB/s eta 0:00:01\r\u001b[K     |█████████████████████████▉      | 2.8MB 22.1MB/s eta 0:00:01\r\u001b[K     |██████████████████████████      | 2.8MB 22.1MB/s eta 0:00:01\r\u001b[K     |██████████████████████████      | 2.8MB 22.1MB/s eta 0:00:01\r\u001b[K     |██████████████████████████      | 2.8MB 22.1MB/s eta 0:00:01\r\u001b[K     |██████████████████████████▏     | 2.8MB 22.1MB/s eta 0:00:01\r\u001b[K     |██████████████████████████▎     | 2.8MB 22.1MB/s eta 0:00:01\r\u001b[K     |██████████████████████████▍     | 2.8MB 22.1MB/s eta 0:00:01\r\u001b[K     |██████████████████████████▌     | 2.8MB 22.1MB/s eta 0:00:01\r\u001b[K     |██████████████████████████▋     | 2.8MB 22.1MB/s eta 0:00:01\r\u001b[K     |██████████████████████████▊     | 2.8MB 22.1MB/s eta 0:00:01\r\u001b[K     |██████████████████████████▊     | 2.9MB 22.1MB/s eta 0:00:01\r\u001b[K     |██████████████████████████▉     | 2.9MB 22.1MB/s eta 0:00:01\r\u001b[K     |███████████████████████████     | 2.9MB 22.1MB/s eta 0:00:01\r\u001b[K     |███████████████████████████     | 2.9MB 22.1MB/s eta 0:00:01\r\u001b[K     |███████████████████████████▏    | 2.9MB 22.1MB/s eta 0:00:01\r\u001b[K     |███████████████████████████▎    | 2.9MB 22.1MB/s eta 0:00:01\r\u001b[K     |███████████████████████████▍    | 2.9MB 22.1MB/s eta 0:00:01\r\u001b[K     |███████████████████████████▌    | 2.9MB 22.1MB/s eta 0:00:01\r\u001b[K     |███████████████████████████▌    | 2.9MB 22.1MB/s eta 0:00:01\r\u001b[K     |███████████████████████████▋    | 2.9MB 22.1MB/s eta 0:00:01\r\u001b[K     |███████████████████████████▊    | 3.0MB 22.1MB/s eta 0:00:01\r\u001b[K     |███████████████████████████▉    | 3.0MB 22.1MB/s eta 0:00:01\r\u001b[K     |████████████████████████████    | 3.0MB 22.1MB/s eta 0:00:01\r\u001b[K     |████████████████████████████    | 3.0MB 22.1MB/s eta 0:00:01\r\u001b[K     |████████████████████████████▏   | 3.0MB 22.1MB/s eta 0:00:01\r\u001b[K     |████████████████████████████▏   | 3.0MB 22.1MB/s eta 0:00:01\r\u001b[K     |████████████████████████████▎   | 3.0MB 22.1MB/s eta 0:00:01\r\u001b[K     |████████████████████████████▍   | 3.0MB 22.1MB/s eta 0:00:01\r\u001b[K     |████████████████████████████▌   | 3.0MB 22.1MB/s eta 0:00:01\r\u001b[K     |████████████████████████████▋   | 3.1MB 22.1MB/s eta 0:00:01\r\u001b[K     |████████████████████████████▊   | 3.1MB 22.1MB/s eta 0:00:01\r\u001b[K     |████████████████████████████▉   | 3.1MB 22.1MB/s eta 0:00:01\r\u001b[K     |████████████████████████████▉   | 3.1MB 22.1MB/s eta 0:00:01\r\u001b[K     |█████████████████████████████   | 3.1MB 22.1MB/s eta 0:00:01\r\u001b[K     |█████████████████████████████   | 3.1MB 22.1MB/s eta 0:00:01\r\u001b[K     |█████████████████████████████▏  | 3.1MB 22.1MB/s eta 0:00:01\r\u001b[K     |█████████████████████████████▎  | 3.1MB 22.1MB/s eta 0:00:01\r\u001b[K     |█████████████████████████████▍  | 3.1MB 22.1MB/s eta 0:00:01\r\u001b[K     |█████████████████████████████▌  | 3.1MB 22.1MB/s eta 0:00:01\r\u001b[K     |█████████████████████████████▋  | 3.2MB 22.1MB/s eta 0:00:01\r\u001b[K     |█████████████████████████████▋  | 3.2MB 22.1MB/s eta 0:00:01\r\u001b[K     |█████████████████████████████▊  | 3.2MB 22.1MB/s eta 0:00:01\r\u001b[K     |█████████████████████████████▉  | 3.2MB 22.1MB/s eta 0:00:01\r\u001b[K     |██████████████████████████████  | 3.2MB 22.1MB/s eta 0:00:01\r\u001b[K     |██████████████████████████████  | 3.2MB 22.1MB/s eta 0:00:01\r\u001b[K     |██████████████████████████████▏ | 3.2MB 22.1MB/s eta 0:00:01\r\u001b[K     |██████████████████████████████▎ | 3.2MB 22.1MB/s eta 0:00:01\r\u001b[K     |██████████████████████████████▎ | 3.2MB 22.1MB/s eta 0:00:01\r\u001b[K     |██████████████████████████████▍ | 3.2MB 22.1MB/s eta 0:00:01\r\u001b[K     |██████████████████████████████▌ | 3.3MB 22.1MB/s eta 0:00:01\r\u001b[K     |██████████████████████████████▋ | 3.3MB 22.1MB/s eta 0:00:01\r\u001b[K     |██████████████████████████████▊ | 3.3MB 22.1MB/s eta 0:00:01\r\u001b[K     |██████████████████████████████▉ | 3.3MB 22.1MB/s eta 0:00:01\r\u001b[K     |███████████████████████████████ | 3.3MB 22.1MB/s eta 0:00:01\r\u001b[K     |███████████████████████████████ | 3.3MB 22.1MB/s eta 0:00:01\r\u001b[K     |███████████████████████████████ | 3.3MB 22.1MB/s eta 0:00:01\r\u001b[K     |███████████████████████████████▏| 3.3MB 22.1MB/s eta 0:00:01\r\u001b[K     |███████████████████████████████▎| 3.3MB 22.1MB/s eta 0:00:01\r\u001b[K     |███████████████████████████████▍| 3.3MB 22.1MB/s eta 0:00:01\r\u001b[K     |███████████████████████████████▌| 3.4MB 22.1MB/s eta 0:00:01\r\u001b[K     |███████████████████████████████▋| 3.4MB 22.1MB/s eta 0:00:01\r\u001b[K     |███████████████████████████████▊| 3.4MB 22.1MB/s eta 0:00:01\r\u001b[K     |███████████████████████████████▊| 3.4MB 22.1MB/s eta 0:00:01\r\u001b[K     |███████████████████████████████▉| 3.4MB 22.1MB/s eta 0:00:01\r\u001b[K     |████████████████████████████████| 3.4MB 22.1MB/s eta 0:00:01\r\u001b[K     |████████████████████████████████| 3.4MB 22.1MB/s \n",
            "\u001b[?25hRequirement already satisfied: six in /usr/local/lib/python3.6/dist-packages (from tensorflow-datasets==3.2.1) (1.15.0)\n",
            "Requirement already satisfied: numpy in /usr/local/lib/python3.6/dist-packages (from tensorflow-datasets==3.2.1) (1.18.5)\n",
            "Requirement already satisfied: tensorflow-metadata in /usr/local/lib/python3.6/dist-packages (from tensorflow-datasets==3.2.1) (0.26.0)\n",
            "Requirement already satisfied: tqdm in /usr/local/lib/python3.6/dist-packages (from tensorflow-datasets==3.2.1) (4.41.1)\n",
            "Requirement already satisfied: requests>=2.19.0 in /usr/local/lib/python3.6/dist-packages (from tensorflow-datasets==3.2.1) (2.23.0)\n",
            "Requirement already satisfied: promise in /usr/local/lib/python3.6/dist-packages (from tensorflow-datasets==3.2.1) (2.3)\n",
            "Requirement already satisfied: absl-py in /usr/local/lib/python3.6/dist-packages (from tensorflow-datasets==3.2.1) (0.10.0)\n",
            "Requirement already satisfied: attrs>=18.1.0 in /usr/local/lib/python3.6/dist-packages (from tensorflow-datasets==3.2.1) (20.3.0)\n",
            "Requirement already satisfied: protobuf>=3.6.1 in /usr/local/lib/python3.6/dist-packages (from tensorflow-datasets==3.2.1) (3.12.4)\n",
            "Requirement already satisfied: future in /usr/local/lib/python3.6/dist-packages (from tensorflow-datasets==3.2.1) (0.16.0)\n",
            "Requirement already satisfied: termcolor in /usr/local/lib/python3.6/dist-packages (from tensorflow-datasets==3.2.1) (1.1.0)\n",
            "Requirement already satisfied: dill in /usr/local/lib/python3.6/dist-packages (from tensorflow-datasets==3.2.1) (0.3.3)\n",
            "Requirement already satisfied: wrapt in /usr/local/lib/python3.6/dist-packages (from tensorflow-datasets==3.2.1) (1.12.1)\n",
            "Requirement already satisfied: googleapis-common-protos<2,>=1.52.0 in /usr/local/lib/python3.6/dist-packages (from tensorflow-metadata->tensorflow-datasets==3.2.1) (1.52.0)\n",
            "Requirement already satisfied: idna<3,>=2.5 in /usr/local/lib/python3.6/dist-packages (from requests>=2.19.0->tensorflow-datasets==3.2.1) (2.10)\n",
            "Requirement already satisfied: urllib3!=1.25.0,!=1.25.1,<1.26,>=1.21.1 in /usr/local/lib/python3.6/dist-packages (from requests>=2.19.0->tensorflow-datasets==3.2.1) (1.24.3)\n",
            "Requirement already satisfied: certifi>=2017.4.17 in /usr/local/lib/python3.6/dist-packages (from requests>=2.19.0->tensorflow-datasets==3.2.1) (2020.12.5)\n",
            "Requirement already satisfied: chardet<4,>=3.0.2 in /usr/local/lib/python3.6/dist-packages (from requests>=2.19.0->tensorflow-datasets==3.2.1) (3.0.4)\n",
            "Requirement already satisfied: setuptools in /usr/local/lib/python3.6/dist-packages (from protobuf>=3.6.1->tensorflow-datasets==3.2.1) (51.0.0)\n",
            "Installing collected packages: tensorflow-datasets\n",
            "  Found existing installation: tensorflow-datasets 4.0.1\n",
            "    Uninstalling tensorflow-datasets-4.0.1:\n",
            "      Successfully uninstalled tensorflow-datasets-4.0.1\n",
            "Successfully installed tensorflow-datasets-3.2.1\n",
            "Collecting Pillow==7.2.0\n",
            "\u001b[?25l  Downloading https://files.pythonhosted.org/packages/30/bf/92385b4262178ca22b34f82e0e09c2922eb351fe39f3cc7b8ba9ea555b41/Pillow-7.2.0-cp36-cp36m-manylinux1_x86_64.whl (2.2MB)\n",
            "\u001b[K     |████████████████████████████████| 2.2MB 12.2MB/s \n",
            "\u001b[31mERROR: albumentations 0.1.12 has requirement imgaug<0.2.7,>=0.2.5, but you'll have imgaug 0.2.9 which is incompatible.\u001b[0m\n",
            "\u001b[?25hInstalling collected packages: Pillow\n",
            "  Found existing installation: Pillow 7.0.0\n",
            "    Uninstalling Pillow-7.0.0:\n",
            "      Successfully uninstalled Pillow-7.0.0\n",
            "Successfully installed Pillow-7.2.0\n"
          ],
          "name": "stdout"
        },
        {
          "output_type": "display_data",
          "data": {
            "application/vnd.colab-display-data+json": {
              "pip_warning": {
                "packages": [
                  "PIL"
                ]
              }
            }
          },
          "metadata": {
            "tags": []
          }
        }
      ]
    },
    {
      "cell_type": "code",
      "metadata": {
        "id": "gnwiOnGyW5JK",
        "colab": {
          "base_uri": "https://localhost:8080/"
        },
        "outputId": "eca484f0-d622-421d-a320-5fa455119aaf"
      },
      "source": [
        "import csv\n",
        "import tensorflow as tf\n",
        "import numpy as np\n",
        "from tensorflow.keras.preprocessing.text import Tokenizer\n",
        "from tensorflow.keras.preprocessing.sequence import pad_sequences\n",
        "\n",
        "!wget --no-check-certificate \\\n",
        "    https://storage.googleapis.com/laurencemoroney-blog.appspot.com/bbc-text.csv \\\n",
        "    -O /tmp/bbc-text.csv"
      ],
      "execution_count": 1,
      "outputs": [
        {
          "output_type": "stream",
          "text": [
            "--2020-12-24 03:03:42--  https://storage.googleapis.com/laurencemoroney-blog.appspot.com/bbc-text.csv\n",
            "Resolving storage.googleapis.com (storage.googleapis.com)... 172.253.115.128, 142.250.31.128, 172.217.5.240, ...\n",
            "Connecting to storage.googleapis.com (storage.googleapis.com)|172.253.115.128|:443... connected.\n",
            "HTTP request sent, awaiting response... 200 OK\n",
            "Length: 5057493 (4.8M) [application/octet-stream]\n",
            "Saving to: ‘/tmp/bbc-text.csv’\n",
            "\n",
            "\r/tmp/bbc-text.csv     0%[                    ]       0  --.-KB/s               \r/tmp/bbc-text.csv   100%[===================>]   4.82M  --.-KB/s    in 0.02s   \n",
            "\n",
            "2020-12-24 03:03:42 (250 MB/s) - ‘/tmp/bbc-text.csv’ saved [5057493/5057493]\n",
            "\n"
          ],
          "name": "stdout"
        }
      ]
    },
    {
      "cell_type": "code",
      "metadata": {
        "id": "EYo6A4v5ZABQ"
      },
      "source": [
        "vocab_size = 1000\n",
        "embedding_dim = 16\n",
        "max_length = 120\n",
        "trunc_type='post'\n",
        "padding_type='post'\n",
        "oov_tok = \"<OOV>\"\n",
        "training_portion = .8"
      ],
      "execution_count": 2,
      "outputs": []
    },
    {
      "cell_type": "code",
      "metadata": {
        "id": "iU1qq3_SZBx_",
        "colab": {
          "base_uri": "https://localhost:8080/"
        },
        "outputId": "fd42dbf5-51f9-4ab9-e542-8d8f3e6708a1"
      },
      "source": [
        "sentences = []\n",
        "labels = []\n",
        "stopwords = [ \"a\", \"about\", \"above\", \"after\", \"again\", \"against\", \"all\", \"am\", \"an\", \"and\", \"any\", \"are\", \"as\", \"at\", \"be\", \"because\", \"been\", \"before\", \"being\", \"below\", \"between\", \"both\", \"but\", \"by\", \"could\", \"did\", \"do\", \"does\", \"doing\", \"down\", \"during\", \"each\", \"few\", \"for\", \"from\", \"further\", \"had\", \"has\", \"have\", \"having\", \"he\", \"he'd\", \"he'll\", \"he's\", \"her\", \"here\", \"here's\", \"hers\", \"herself\", \"him\", \"himself\", \"his\", \"how\", \"how's\", \"i\", \"i'd\", \"i'll\", \"i'm\", \"i've\", \"if\", \"in\", \"into\", \"is\", \"it\", \"it's\", \"its\", \"itself\", \"let's\", \"me\", \"more\", \"most\", \"my\", \"myself\", \"nor\", \"of\", \"on\", \"once\", \"only\", \"or\", \"other\", \"ought\", \"our\", \"ours\", \"ourselves\", \"out\", \"over\", \"own\", \"same\", \"she\", \"she'd\", \"she'll\", \"she's\", \"should\", \"so\", \"some\", \"such\", \"than\", \"that\", \"that's\", \"the\", \"their\", \"theirs\", \"them\", \"themselves\", \"then\", \"there\", \"there's\", \"these\", \"they\", \"they'd\", \"they'll\", \"they're\", \"they've\", \"this\", \"those\", \"through\", \"to\", \"too\", \"under\", \"until\", \"up\", \"very\", \"was\", \"we\", \"we'd\", \"we'll\", \"we're\", \"we've\", \"were\", \"what\", \"what's\", \"when\", \"when's\", \"where\", \"where's\", \"which\", \"while\", \"who\", \"who's\", \"whom\", \"why\", \"why's\", \"with\", \"would\", \"you\", \"you'd\", \"you'll\", \"you're\", \"you've\", \"your\", \"yours\", \"yourself\", \"yourselves\" ]\n",
        "print(len(stopwords))\n",
        "# Expected Output\n",
        "# 153"
      ],
      "execution_count": 3,
      "outputs": [
        {
          "output_type": "stream",
          "text": [
            "153\n"
          ],
          "name": "stdout"
        }
      ]
    },
    {
      "cell_type": "code",
      "metadata": {
        "id": "eutB2xMiZD0e",
        "colab": {
          "base_uri": "https://localhost:8080/"
        },
        "outputId": "4a222851-ddf5-4ba1-d572-0c3c082bdd48"
      },
      "source": [
        "with open(\"/tmp/bbc-text.csv\", 'r') as csvfile:\n",
        "    reader = csv.reader(csvfile, delimiter=',')\n",
        "    next(reader)\n",
        "    for row in reader:\n",
        "        labels.append(row[0])\n",
        "        sentence = row[1]\n",
        "        for word in stopwords:\n",
        "            token = \" \" + word + \" \"\n",
        "            sentence = sentence.replace(token, \" \")\n",
        "        sentences.append(sentence)\n",
        "\n",
        "print(len(labels))\n",
        "print(len(sentences))\n",
        "print(sentences[0])\n",
        "# Expected Output\n",
        "# 2225\n",
        "# 2225\n",
        "# tv future hands viewers home theatre systems  plasma high-definition tvs  digital video recorders moving living room  way people watch tv will radically different five years  time.  according expert panel gathered annual consumer electronics show las vegas discuss new technologies will impact one favourite pastimes. us leading trend  programmes content will delivered viewers via home networks  cable  satellite  telecoms companies  broadband service providers front rooms portable devices.  one talked-about technologies ces digital personal video recorders (dvr pvr). set-top boxes  like us s tivo uk s sky+ system  allow people record  store  play  pause forward wind tv programmes want.  essentially  technology allows much personalised tv. also built-in high-definition tv sets  big business japan us  slower take off europe lack high-definition programming. not can people forward wind adverts  can also forget abiding network channel schedules  putting together a-la-carte entertainment. us networks cable satellite companies worried means terms advertising revenues well  brand identity  viewer loyalty channels. although us leads technology moment  also concern raised europe  particularly growing uptake services like sky+.  happens today  will see nine months years  time uk   adam hume  bbc broadcast s futurologist told bbc news website. likes bbc  no issues lost advertising revenue yet. pressing issue moment commercial uk broadcasters  brand loyalty important everyone.  will talking content brands rather network brands   said tim hanlon  brand communications firm starcom mediavest.  reality broadband connections  anybody can producer content.  added:  challenge now hard promote programme much choice.   means  said stacey jolna  senior vice president tv guide tv group  way people find content want watch simplified tv viewers. means networks  us terms  channels take leaf google s book search engine future  instead scheduler help people find want watch. kind channel model might work younger ipod generation used taking control gadgets play them. might not suit everyone  panel recognised. older generations comfortable familiar schedules channel brands know getting. perhaps not want much choice put hands  mr hanlon suggested.  end  kids just diapers pushing buttons already - everything possible available   said mr hanlon.  ultimately  consumer will tell market want.   50 000 new gadgets technologies showcased ces  many enhancing tv-watching experience. high-definition tv sets everywhere many new models lcd (liquid crystal display) tvs launched dvr capability built  instead external boxes. one example launched show humax s 26-inch lcd tv 80-hour tivo dvr dvd recorder. one us s biggest satellite tv companies  directtv  even launched branded dvr show 100-hours recording capability  instant replay  search function. set can pause rewind tv 90 hours. microsoft chief bill gates announced pre-show keynote speech partnership tivo  called tivotogo  means people can play recorded programmes windows pcs mobile devices. reflect increasing trend freeing multimedia people can watch want  want."
      ],
      "execution_count": 4,
      "outputs": [
        {
          "output_type": "stream",
          "text": [
            "2225\n",
            "2225\n",
            "tv future hands viewers home theatre systems  plasma high-definition tvs  digital video recorders moving living room  way people watch tv will radically different five years  time.  according expert panel gathered annual consumer electronics show las vegas discuss new technologies will impact one favourite pastimes. us leading trend  programmes content will delivered viewers via home networks  cable  satellite  telecoms companies  broadband service providers front rooms portable devices.  one talked-about technologies ces digital personal video recorders (dvr pvr). set-top boxes  like us s tivo uk s sky+ system  allow people record  store  play  pause forward wind tv programmes want.  essentially  technology allows much personalised tv. also built-in high-definition tv sets  big business japan us  slower take off europe lack high-definition programming. not can people forward wind adverts  can also forget abiding network channel schedules  putting together a-la-carte entertainment. us networks cable satellite companies worried means terms advertising revenues well  brand identity  viewer loyalty channels. although us leads technology moment  also concern raised europe  particularly growing uptake services like sky+.  happens today  will see nine months years  time uk   adam hume  bbc broadcast s futurologist told bbc news website. likes bbc  no issues lost advertising revenue yet. pressing issue moment commercial uk broadcasters  brand loyalty important everyone.  will talking content brands rather network brands   said tim hanlon  brand communications firm starcom mediavest.  reality broadband connections  anybody can producer content.  added:  challenge now hard promote programme much choice.   means  said stacey jolna  senior vice president tv guide tv group  way people find content want watch simplified tv viewers. means networks  us terms  channels take leaf google s book search engine future  instead scheduler help people find want watch. kind channel model might work younger ipod generation used taking control gadgets play them. might not suit everyone  panel recognised. older generations comfortable familiar schedules channel brands know getting. perhaps not want much choice put hands  mr hanlon suggested.  end  kids just diapers pushing buttons already - everything possible available   said mr hanlon.  ultimately  consumer will tell market want.   50 000 new gadgets technologies showcased ces  many enhancing tv-watching experience. high-definition tv sets everywhere many new models lcd (liquid crystal display) tvs launched dvr capability built  instead external boxes. one example launched show humax s 26-inch lcd tv 80-hour tivo dvr dvd recorder. one us s biggest satellite tv companies  directtv  even launched branded dvr show 100-hours recording capability  instant replay  search function. set can pause rewind tv 90 hours. microsoft chief bill gates announced pre-show keynote speech partnership tivo  called tivotogo  means people can play recorded programmes windows pcs mobile devices. reflect increasing trend freeing multimedia people can watch want  want.\n"
          ],
          "name": "stdout"
        }
      ]
    },
    {
      "cell_type": "code",
      "metadata": {
        "id": "XfdaWh06ZGe3",
        "colab": {
          "base_uri": "https://localhost:8080/"
        },
        "outputId": "023bdb09-ffa6-4de2-d1a7-7493e50f8703"
      },
      "source": [
        "train_size = int(len(sentences) * training_portion)\n",
        "\n",
        "train_sentences = sentences[:train_size]\n",
        "train_labels = labels[:train_size]\n",
        "\n",
        "validation_sentences = sentences[train_size:]\n",
        "validation_labels = labels[train_size:]\n",
        "\n",
        "print(train_size)\n",
        "print(len(train_sentences))\n",
        "print(len(train_labels))\n",
        "print(len(validation_sentences))\n",
        "print(len(validation_labels))\n",
        "\n",
        "# Expected output (if training_portion=.8)\n",
        "# 1780\n",
        "# 1780\n",
        "# 1780\n",
        "# 445\n",
        "# 445"
      ],
      "execution_count": 5,
      "outputs": [
        {
          "output_type": "stream",
          "text": [
            "1780\n",
            "1780\n",
            "1780\n",
            "445\n",
            "445\n"
          ],
          "name": "stdout"
        }
      ]
    },
    {
      "cell_type": "code",
      "metadata": {
        "id": "ULzA8xhwZI22",
        "colab": {
          "base_uri": "https://localhost:8080/"
        },
        "outputId": "51213ce4-fa36-4285-a035-c4a45858024f"
      },
      "source": [
        "tokenizer = Tokenizer(num_words = vocab_size, oov_token=oov_tok)\n",
        "tokenizer.fit_on_texts(train_sentences)\n",
        "word_index = tokenizer.word_index\n",
        "\n",
        "train_sequences = tokenizer.texts_to_sequences(train_sentences)\n",
        "train_padded = pad_sequences(train_sequences, padding=padding_type, maxlen=max_length)\n",
        "\n",
        "print(len(train_sequences[0]))\n",
        "print(len(train_padded[0]))\n",
        "\n",
        "print(len(train_sequences[1]))\n",
        "print(len(train_padded[1]))\n",
        "\n",
        "print(len(train_sequences[10]))\n",
        "print(len(train_padded[10]))\n",
        "\n",
        "# Expected Ouput\n",
        "# 449\n",
        "# 120\n",
        "# 200\n",
        "# 120\n",
        "# 192\n",
        "# 120"
      ],
      "execution_count": 6,
      "outputs": [
        {
          "output_type": "stream",
          "text": [
            "449\n",
            "120\n",
            "200\n",
            "120\n",
            "192\n",
            "120\n"
          ],
          "name": "stdout"
        }
      ]
    },
    {
      "cell_type": "code",
      "metadata": {
        "id": "c8PeFWzPZLW_",
        "colab": {
          "base_uri": "https://localhost:8080/"
        },
        "outputId": "b6b45c5f-f808-433d-d243-59429c563d3f"
      },
      "source": [
        "validation_sequences = tokenizer.texts_to_sequences(validation_sentences)\n",
        "validation_padded = pad_sequences(validation_sequences, padding=padding_type, maxlen=max_length)\n",
        "\n",
        "print(len(validation_sequences))\n",
        "print(validation_padded.shape)\n",
        "\n",
        "# Expected output\n",
        "# 445\n",
        "# (445, 120)"
      ],
      "execution_count": 7,
      "outputs": [
        {
          "output_type": "stream",
          "text": [
            "445\n",
            "(445, 120)\n"
          ],
          "name": "stdout"
        }
      ]
    },
    {
      "cell_type": "code",
      "metadata": {
        "id": "XkWiQ_FKZNp2",
        "colab": {
          "base_uri": "https://localhost:8080/"
        },
        "outputId": "e8dd78e0-8cc7-4159-9328-e0af881db9ae"
      },
      "source": [
        "label_tokenizer = Tokenizer()\n",
        "label_tokenizer.fit_on_texts(labels)\n",
        "\n",
        "training_label_seq = np.array(label_tokenizer.texts_to_sequences(train_labels))\n",
        "validation_label_seq = np.array(label_tokenizer.texts_to_sequences(validation_labels))\n",
        "\n",
        "print(training_label_seq[0])\n",
        "print(training_label_seq[1])\n",
        "print(training_label_seq[2])\n",
        "print(training_label_seq.shape)\n",
        "\n",
        "print(validation_label_seq[0])\n",
        "print(validation_label_seq[1])\n",
        "print(validation_label_seq[2])\n",
        "print(validation_label_seq.shape)\n",
        "\n",
        "# Expected output\n",
        "# [4]\n",
        "# [2]\n",
        "# [1]\n",
        "# (1780, 1)\n",
        "# [5]\n",
        "# [4]\n",
        "# [3]\n",
        "# (445, 1)"
      ],
      "execution_count": 8,
      "outputs": [
        {
          "output_type": "stream",
          "text": [
            "[4]\n",
            "[2]\n",
            "[1]\n",
            "(1780, 1)\n",
            "[5]\n",
            "[4]\n",
            "[3]\n",
            "(445, 1)\n"
          ],
          "name": "stdout"
        }
      ]
    },
    {
      "cell_type": "code",
      "metadata": {
        "id": "HZ5um4MWZP-W",
        "colab": {
          "base_uri": "https://localhost:8080/"
        },
        "outputId": "06f5dc14-d507-404b-cc79-7c40b70d7ee5"
      },
      "source": [
        "model = tf.keras.Sequential([\n",
        "    tf.keras.layers.Embedding(vocab_size, embedding_dim, input_length=max_length),\n",
        "    tf.keras.layers.GlobalAveragePooling1D(),\n",
        "    tf.keras.layers.Dense(24, activation='relu'),\n",
        "    tf.keras.layers.Dense(6, activation='softmax')\n",
        "])\n",
        "model.compile(loss='sparse_categorical_crossentropy',optimizer='adam',metrics=['accuracy'])\n",
        "model.summary()\n",
        "\n",
        "# Expected Output\n",
        "# Layer (type)                 Output Shape              Param #   \n",
        "# =================================================================\n",
        "# embedding (Embedding)        (None, 120, 16)           16000     \n",
        "# _________________________________________________________________\n",
        "# global_average_pooling1d (Gl (None, 16)                0         \n",
        "# _________________________________________________________________\n",
        "# dense (Dense)                (None, 24)                408       \n",
        "# _________________________________________________________________\n",
        "# dense_1 (Dense)              (None, 6)                 150       \n",
        "# =================================================================\n",
        "# Total params: 16,558\n",
        "# Trainable params: 16,558\n",
        "# Non-trainable params: 0"
      ],
      "execution_count": 9,
      "outputs": [
        {
          "output_type": "stream",
          "text": [
            "Model: \"sequential\"\n",
            "_________________________________________________________________\n",
            "Layer (type)                 Output Shape              Param #   \n",
            "=================================================================\n",
            "embedding (Embedding)        (None, 120, 16)           16000     \n",
            "_________________________________________________________________\n",
            "global_average_pooling1d (Gl (None, 16)                0         \n",
            "_________________________________________________________________\n",
            "dense (Dense)                (None, 24)                408       \n",
            "_________________________________________________________________\n",
            "dense_1 (Dense)              (None, 6)                 150       \n",
            "=================================================================\n",
            "Total params: 16,558\n",
            "Trainable params: 16,558\n",
            "Non-trainable params: 0\n",
            "_________________________________________________________________\n"
          ],
          "name": "stdout"
        }
      ]
    },
    {
      "cell_type": "code",
      "metadata": {
        "id": "XsfdxySKZSXu",
        "colab": {
          "base_uri": "https://localhost:8080/"
        },
        "outputId": "00c2621e-f688-4064-ccb1-cb2796d9812e"
      },
      "source": [
        "num_epochs = 30\n",
        "history = model.fit(train_padded, training_label_seq, epochs=num_epochs, validation_data=(validation_padded, validation_label_seq), verbose=2)"
      ],
      "execution_count": 10,
      "outputs": [
        {
          "output_type": "stream",
          "text": [
            "Epoch 1/30\n",
            "56/56 - 0s - loss: 1.7531 - accuracy: 0.2298 - val_loss: 1.7117 - val_accuracy: 0.2270\n",
            "Epoch 2/30\n",
            "56/56 - 0s - loss: 1.6649 - accuracy: 0.2303 - val_loss: 1.6257 - val_accuracy: 0.2315\n",
            "Epoch 3/30\n",
            "56/56 - 0s - loss: 1.5748 - accuracy: 0.2820 - val_loss: 1.5399 - val_accuracy: 0.4247\n",
            "Epoch 4/30\n",
            "56/56 - 0s - loss: 1.4671 - accuracy: 0.5348 - val_loss: 1.4199 - val_accuracy: 0.6180\n",
            "Epoch 5/30\n",
            "56/56 - 0s - loss: 1.3197 - accuracy: 0.6983 - val_loss: 1.2693 - val_accuracy: 0.6697\n",
            "Epoch 6/30\n",
            "56/56 - 0s - loss: 1.1465 - accuracy: 0.7466 - val_loss: 1.1059 - val_accuracy: 0.7213\n",
            "Epoch 7/30\n",
            "56/56 - 0s - loss: 0.9720 - accuracy: 0.8298 - val_loss: 0.9502 - val_accuracy: 0.8225\n",
            "Epoch 8/30\n",
            "56/56 - 0s - loss: 0.8183 - accuracy: 0.8803 - val_loss: 0.8216 - val_accuracy: 0.8562\n",
            "Epoch 9/30\n",
            "56/56 - 0s - loss: 0.6873 - accuracy: 0.9000 - val_loss: 0.7057 - val_accuracy: 0.8764\n",
            "Epoch 10/30\n",
            "56/56 - 0s - loss: 0.5756 - accuracy: 0.9129 - val_loss: 0.6123 - val_accuracy: 0.8921\n",
            "Epoch 11/30\n",
            "56/56 - 0s - loss: 0.4829 - accuracy: 0.9225 - val_loss: 0.5343 - val_accuracy: 0.8989\n",
            "Epoch 12/30\n",
            "56/56 - 0s - loss: 0.4055 - accuracy: 0.9326 - val_loss: 0.4696 - val_accuracy: 0.9011\n",
            "Epoch 13/30\n",
            "56/56 - 0s - loss: 0.3428 - accuracy: 0.9404 - val_loss: 0.4152 - val_accuracy: 0.9079\n",
            "Epoch 14/30\n",
            "56/56 - 0s - loss: 0.2927 - accuracy: 0.9483 - val_loss: 0.3761 - val_accuracy: 0.9169\n",
            "Epoch 15/30\n",
            "56/56 - 0s - loss: 0.2507 - accuracy: 0.9584 - val_loss: 0.3372 - val_accuracy: 0.9281\n",
            "Epoch 16/30\n",
            "56/56 - 0s - loss: 0.2179 - accuracy: 0.9646 - val_loss: 0.3125 - val_accuracy: 0.9281\n",
            "Epoch 17/30\n",
            "56/56 - 0s - loss: 0.1895 - accuracy: 0.9674 - val_loss: 0.2955 - val_accuracy: 0.9236\n",
            "Epoch 18/30\n",
            "56/56 - 0s - loss: 0.1676 - accuracy: 0.9697 - val_loss: 0.2729 - val_accuracy: 0.9326\n",
            "Epoch 19/30\n",
            "56/56 - 0s - loss: 0.1480 - accuracy: 0.9736 - val_loss: 0.2571 - val_accuracy: 0.9281\n",
            "Epoch 20/30\n",
            "56/56 - 0s - loss: 0.1320 - accuracy: 0.9787 - val_loss: 0.2468 - val_accuracy: 0.9326\n",
            "Epoch 21/30\n",
            "56/56 - 0s - loss: 0.1174 - accuracy: 0.9809 - val_loss: 0.2369 - val_accuracy: 0.9348\n",
            "Epoch 22/30\n",
            "56/56 - 0s - loss: 0.1055 - accuracy: 0.9860 - val_loss: 0.2250 - val_accuracy: 0.9393\n",
            "Epoch 23/30\n",
            "56/56 - 0s - loss: 0.0947 - accuracy: 0.9871 - val_loss: 0.2228 - val_accuracy: 0.9348\n",
            "Epoch 24/30\n",
            "56/56 - 0s - loss: 0.0854 - accuracy: 0.9876 - val_loss: 0.2138 - val_accuracy: 0.9348\n",
            "Epoch 25/30\n",
            "56/56 - 0s - loss: 0.0767 - accuracy: 0.9904 - val_loss: 0.2104 - val_accuracy: 0.9326\n",
            "Epoch 26/30\n",
            "56/56 - 0s - loss: 0.0692 - accuracy: 0.9949 - val_loss: 0.2030 - val_accuracy: 0.9371\n",
            "Epoch 27/30\n",
            "56/56 - 0s - loss: 0.0635 - accuracy: 0.9955 - val_loss: 0.1990 - val_accuracy: 0.9371\n",
            "Epoch 28/30\n",
            "56/56 - 0s - loss: 0.0569 - accuracy: 0.9972 - val_loss: 0.1962 - val_accuracy: 0.9348\n",
            "Epoch 29/30\n",
            "56/56 - 0s - loss: 0.0512 - accuracy: 0.9972 - val_loss: 0.1944 - val_accuracy: 0.9326\n",
            "Epoch 30/30\n",
            "56/56 - 0s - loss: 0.0458 - accuracy: 0.9978 - val_loss: 0.1934 - val_accuracy: 0.9371\n"
          ],
          "name": "stdout"
        }
      ]
    },
    {
      "cell_type": "code",
      "metadata": {
        "id": "dQ0BX2apXS9u",
        "colab": {
          "base_uri": "https://localhost:8080/",
          "height": 541
        },
        "outputId": "3a838b8e-1961-4f58-e738-97822e576ebc"
      },
      "source": [
        "import matplotlib.pyplot as plt\n",
        "\n",
        "\n",
        "def plot_graphs(history, string):\n",
        "  plt.plot(history.history[string])\n",
        "  plt.plot(history.history['val_'+string])\n",
        "  plt.xlabel(\"Epochs\")\n",
        "  plt.ylabel(string)\n",
        "  plt.legend([string, 'val_'+string])\n",
        "  plt.show()\n",
        "  \n",
        "plot_graphs(history, \"accuracy\")\n",
        "plot_graphs(history, \"loss\")"
      ],
      "execution_count": 11,
      "outputs": [
        {
          "output_type": "display_data",
          "data": {
            "image/png": "[encoded data removed]",
            "text/plain": [
              "<Figure size 432x288 with 1 Axes>"
            ]
          },
          "metadata": {
            "tags": [],
            "needs_background": "light"
          }
        },
        {
          "output_type": "display_data",
          "data": {
            "image/png": "[encoded data removed]",
            "text/plain": [
              "<Figure size 432x288 with 1 Axes>"
            ]
          },
          "metadata": {
            "tags": [],
            "needs_background": "light"
          }
        }
      ]
    },
    {
      "cell_type": "code",
      "metadata": {
        "id": "w7Xc-uWxXhML"
      },
      "source": [
        "reverse_word_index = dict([(value, key) for (key, value) in word_index.items()])\n",
        "\n",
        "def decode_sentence(text):\n",
        "    return ' '.join([reverse_word_index.get(i, '?') for i in text])\n"
      ],
      "execution_count": 12,
      "outputs": []
    },
    {
      "cell_type": "code",
      "metadata": {
        "id": "OhnFA_TDXrih",
        "colab": {
          "base_uri": "https://localhost:8080/"
        },
        "outputId": "da68d9be-7b45-48f7-b285-3c8bc8173bb8"
      },
      "source": [
        "e = model.layers[0]\n",
        "weights = e.get_weights()[0]\n",
        "print(weights.shape) # shape: (vocab_size, embedding_dim)\n",
        "\n",
        "# Expected output\n",
        "# (1000, 16)"
      ],
      "execution_count": 13,
      "outputs": [
        {
          "output_type": "stream",
          "text": [
            "(1000, 16)\n"
          ],
          "name": "stdout"
        }
      ]
    },
    {
      "cell_type": "code",
      "metadata": {
        "id": "_POzcWWAXudL"
      },
      "source": [
        "import io\n",
        "\n",
        "out_v = io.open('vecs.tsv', 'w', encoding='utf-8')\n",
        "out_m = io.open('meta.tsv', 'w', encoding='utf-8')\n",
        "for word_num in range(1, vocab_size):\n",
        "  word = reverse_word_index[word_num]\n",
        "  embeddings = weights[word_num]\n",
        "  out_m.write(word + \"\\n\")\n",
        "  out_v.write('\\t'.join([str(x) for x in embeddings]) + \"\\n\")\n",
        "out_v.close()\n",
        "out_m.close()"
      ],
      "execution_count": 14,
      "outputs": []
    },
    {
      "cell_type": "code",
      "metadata": {
        "id": "VmqpQMZ_XyOa",
        "colab": {
          "base_uri": "https://localhost:8080/",
          "height": 17
        },
        "outputId": "d96d4f71-014d-42cc-cc32-514580e706b4"
      },
      "source": [
        "try:\n",
        "  from google.colab import files\n",
        "except ImportError:\n",
        "  pass\n",
        "else:\n",
        "  files.download('vecs.tsv')\n",
        "  files.download('meta.tsv')"
      ],
      "execution_count": 15,
      "outputs": [
        {
          "output_type": "display_data",
          "data": {
            "application/javascript": [
              "\n",
              "    async function download(id, filename, size) {\n",
              "      if (!google.colab.kernel.accessAllowed) {\n",
              "        return;\n",
              "      }\n",
              "      const div = document.createElement('div');\n",
              "      const label = document.createElement('label');\n",
              "      label.textContent = `Downloading \"${filename}\": `;\n",
              "      div.appendChild(label);\n",
              "      const progress = document.createElement('progress');\n",
              "      progress.max = size;\n",
              "      div.appendChild(progress);\n",
              "      document.body.appendChild(div);\n",
              "\n",
              "      const buffers = [];\n",
              "      let downloaded = 0;\n",
              "\n",
              "      const channel = await google.colab.kernel.comms.open(id);\n",
              "      // Send a message to notify the kernel that we're ready.\n",
              "      channel.send({})\n",
              "\n",
              "      for await (const message of channel.messages) {\n",
              "        // Send a message to notify the kernel that we're ready.\n",
              "        channel.send({})\n",
              "        if (message.buffers) {\n",
              "          for (const buffer of message.buffers) {\n",
              "            buffers.push(buffer);\n",
              "            downloaded += buffer.byteLength;\n",
              "            progress.value = downloaded;\n",
              "          }\n",
              "        }\n",
              "      }\n",
              "      const blob = new Blob(buffers, {type: 'application/binary'});\n",
              "      const a = document.createElement('a');\n",
              "      a.href = window.URL.createObjectURL(blob);\n",
              "      a.download = filename;\n",
              "      div.appendChild(a);\n",
              "      a.click();\n",
              "      div.remove();\n",
              "    }\n",
              "  "
            ],
            "text/plain": [
              "<IPython.core.display.Javascript object>"
            ]
          },
          "metadata": {
            "tags": []
          }
        },
        {
          "output_type": "display_data",
          "data": {
            "application/javascript": [
              "download(\"download_b2a02fd2-7a20-4930-b3f5-93d42da06dad\", \"vecs.tsv\", 181756)"
            ],
            "text/plain": [
              "<IPython.core.display.Javascript object>"
            ]
          },
          "metadata": {
            "tags": []
          }
        },
        {
          "output_type": "display_data",
          "data": {
            "application/javascript": [
              "\n",
              "    async function download(id, filename, size) {\n",
              "      if (!google.colab.kernel.accessAllowed) {\n",
              "        return;\n",
              "      }\n",
              "      const div = document.createElement('div');\n",
              "      const label = document.createElement('label');\n",
              "      label.textContent = `Downloading \"${filename}\": `;\n",
              "      div.appendChild(label);\n",
              "      const progress = document.createElement('progress');\n",
              "      progress.max = size;\n",
              "      div.appendChild(progress);\n",
              "      document.body.appendChild(div);\n",
              "\n",
              "      const buffers = [];\n",
              "      let downloaded = 0;\n",
              "\n",
              "      const channel = await google.colab.kernel.comms.open(id);\n",
              "      // Send a message to notify the kernel that we're ready.\n",
              "      channel.send({})\n",
              "\n",
              "      for await (const message of channel.messages) {\n",
              "        // Send a message to notify the kernel that we're ready.\n",
              "        channel.send({})\n",
              "        if (message.buffers) {\n",
              "          for (const buffer of message.buffers) {\n",
              "            buffers.push(buffer);\n",
              "            downloaded += buffer.byteLength;\n",
              "            progress.value = downloaded;\n",
              "          }\n",
              "        }\n",
              "      }\n",
              "      const blob = new Blob(buffers, {type: 'application/binary'});\n",
              "      const a = document.createElement('a');\n",
              "      a.href = window.URL.createObjectURL(blob);\n",
              "      a.download = filename;\n",
              "      div.appendChild(a);\n",
              "      a.click();\n",
              "      div.remove();\n",
              "    }\n",
              "  "
            ],
            "text/plain": [
              "<IPython.core.display.Javascript object>"
            ]
          },
          "metadata": {
            "tags": []
          }
        },
        {
          "output_type": "display_data",
          "data": {
            "application/javascript": [
              "download(\"download_16419093-55d5-42cf-9771-13ecbed6f2f6\", \"meta.tsv\", 6529)"
            ],
            "text/plain": [
              "<IPython.core.display.Javascript object>"
            ]
          },
          "metadata": {
            "tags": []
          }
        }
      ]
    },
    {
      "cell_type": "code",
      "metadata": {
        "id": "gGTgoUvgtkrh"
      },
      "source": [
        "model.save(\"model_week2.h5\")"
      ],
      "execution_count": 16,
      "outputs": []
    },
    {
      "cell_type": "code",
      "metadata": {
        "id": "BOuOFxm8tqkd"
      },
      "source": [
        ""
      ],
      "execution_count": null,
      "outputs": []
    }
  ]
}