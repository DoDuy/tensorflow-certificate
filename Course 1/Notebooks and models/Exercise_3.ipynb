{
  "nbformat": 4,
  "nbformat_minor": 0,
  "metadata": {
    "colab": {
      "name": "Exercise 3.ipynb",
      "provenance": [],
      "collapsed_sections": [],
      "toc_visible": true
    },
    "kernelspec": {
      "display_name": "Python 3",
      "name": "python3"
    },
    "accelerator": "GPU"
  },
  "cells": [
    {
      "cell_type": "code",
      "metadata": {
        "id": "zX4Kg8DUTKWO"
      },
      "source": [
        "#@title Licensed under the Apache License, Version 2.0 (the \"License\");\n",
        "# you may not use this file except in compliance with the License.\n",
        "# You may obtain a copy of the License at\n",
        "#\n",
        "# https://www.apache.org/licenses/LICENSE-2.0\n",
        "#\n",
        "# Unless required by applicable law or agreed to in writing, software\n",
        "# distributed under the License is distributed on an \"AS IS\" BASIS,\n",
        "# WITHOUT WARRANTIES OR CONDITIONS OF ANY KIND, either express or implied.\n",
        "# See the License for the specific language governing permissions and\n",
        "# limitations under the License."
      ],
      "execution_count": null,
      "outputs": []
    },
    {
      "cell_type": "markdown",
      "metadata": {
        "id": "iQjHqsmTAVLU"
      },
      "source": [
        "## Exercise 3\n",
        "In the videos you looked at how you would improve Fashion MNIST using Convolutions. For your exercise see if you can improve MNIST to 99.8% accuracy or more using only a single convolutional layer and a single MaxPooling 2D. You should stop training once the accuracy goes above this amount. It should happen in less than 20 epochs, so it's ok to hard code the number of epochs for training, but your training must end once it hits the above metric. If it doesn't, then you'll need to redesign your layers.\n",
        "\n",
        "I've started the code for you -- you need to finish it!\n",
        "\n",
        "When 99.8% accuracy has been hit, you should print out the string \"Reached 99.8% accuracy so cancelling training!\"\n"
      ]
    },
    {
      "cell_type": "code",
      "metadata": {
        "colab": {
          "base_uri": "https://localhost:8080/",
          "height": 1000
        },
        "id": "Ke4zd-qXeIAo",
        "outputId": "e771be67-9ea5-403f-b2f8-2f58ed115f00"
      },
      "source": [
        "!pip install tensorflow==2.3.0\n",
        "!pip install tensorflow-datasets==3.2.1\n",
        "!pip install Pillow==7.2.0"
      ],
      "execution_count": 1,
      "outputs": [
        {
          "output_type": "stream",
          "text": [
            "Collecting tensorflow==2.3.0\n",
            "\u001b[?25l  Downloading https://files.pythonhosted.org/packages/97/ae/0b08f53498417914f2274cc3b5576d2b83179b0cbb209457d0fde0152174/tensorflow-2.3.0-cp36-cp36m-manylinux2010_x86_64.whl (320.4MB)\n",
            "\u001b[K     |████████████████████████████████| 320.4MB 47kB/s \n",
            "\u001b[?25hRequirement already satisfied: gast==0.3.3 in /usr/local/lib/python3.6/dist-packages (from tensorflow==2.3.0) (0.3.3)\n",
            "Requirement already satisfied: h5py<2.11.0,>=2.10.0 in /usr/local/lib/python3.6/dist-packages (from tensorflow==2.3.0) (2.10.0)\n",
            "Requirement already satisfied: grpcio>=1.8.6 in /usr/local/lib/python3.6/dist-packages (from tensorflow==2.3.0) (1.32.0)\n",
            "Requirement already satisfied: astunparse==1.6.3 in /usr/local/lib/python3.6/dist-packages (from tensorflow==2.3.0) (1.6.3)\n",
            "Requirement already satisfied: termcolor>=1.1.0 in /usr/local/lib/python3.6/dist-packages (from tensorflow==2.3.0) (1.1.0)\n",
            "Requirement already satisfied: wrapt>=1.11.1 in /usr/local/lib/python3.6/dist-packages (from tensorflow==2.3.0) (1.12.1)\n",
            "Requirement already satisfied: scipy==1.4.1 in /usr/local/lib/python3.6/dist-packages (from tensorflow==2.3.0) (1.4.1)\n",
            "Requirement already satisfied: six>=1.12.0 in /usr/local/lib/python3.6/dist-packages (from tensorflow==2.3.0) (1.15.0)\n",
            "Requirement already satisfied: absl-py>=0.7.0 in /usr/local/lib/python3.6/dist-packages (from tensorflow==2.3.0) (0.10.0)\n",
            "Requirement already satisfied: opt-einsum>=2.3.2 in /usr/local/lib/python3.6/dist-packages (from tensorflow==2.3.0) (3.3.0)\n",
            "Requirement already satisfied: protobuf>=3.9.2 in /usr/local/lib/python3.6/dist-packages (from tensorflow==2.3.0) (3.12.4)\n",
            "Requirement already satisfied: google-pasta>=0.1.8 in /usr/local/lib/python3.6/dist-packages (from tensorflow==2.3.0) (0.2.0)\n",
            "Collecting numpy<1.19.0,>=1.16.0\n",
            "\u001b[?25l  Downloading https://files.pythonhosted.org/packages/b3/a9/b1bc4c935ed063766bce7d3e8c7b20bd52e515ff1c732b02caacf7918e5a/numpy-1.18.5-cp36-cp36m-manylinux1_x86_64.whl (20.1MB)\n",
            "\u001b[K     |████████████████████████████████| 20.1MB 1.2MB/s \n",
            "\u001b[?25hCollecting tensorflow-estimator<2.4.0,>=2.3.0\n",
            "\u001b[?25l  Downloading https://files.pythonhosted.org/packages/e9/ed/5853ec0ae380cba4588eab1524e18ece1583b65f7ae0e97321f5ff9dfd60/tensorflow_estimator-2.3.0-py2.py3-none-any.whl (459kB)\n",
            "\u001b[K     |████████████████████████████████| 460kB 19.5MB/s \n",
            "\u001b[?25hRequirement already satisfied: wheel>=0.26 in /usr/local/lib/python3.6/dist-packages (from tensorflow==2.3.0) (0.36.2)\n",
            "Requirement already satisfied: tensorboard<3,>=2.3.0 in /usr/local/lib/python3.6/dist-packages (from tensorflow==2.3.0) (2.4.0)\n",
            "Requirement already satisfied: keras-preprocessing<1.2,>=1.1.1 in /usr/local/lib/python3.6/dist-packages (from tensorflow==2.3.0) (1.1.2)\n",
            "Requirement already satisfied: setuptools in /usr/local/lib/python3.6/dist-packages (from protobuf>=3.9.2->tensorflow==2.3.0) (51.0.0)\n",
            "Requirement already satisfied: markdown>=2.6.8 in /usr/local/lib/python3.6/dist-packages (from tensorboard<3,>=2.3.0->tensorflow==2.3.0) (3.3.3)\n",
            "Requirement already satisfied: requests<3,>=2.21.0 in /usr/local/lib/python3.6/dist-packages (from tensorboard<3,>=2.3.0->tensorflow==2.3.0) (2.23.0)\n",
            "Requirement already satisfied: google-auth-oauthlib<0.5,>=0.4.1 in /usr/local/lib/python3.6/dist-packages (from tensorboard<3,>=2.3.0->tensorflow==2.3.0) (0.4.2)\n",
            "Requirement already satisfied: google-auth<2,>=1.6.3 in /usr/local/lib/python3.6/dist-packages (from tensorboard<3,>=2.3.0->tensorflow==2.3.0) (1.17.2)\n",
            "Requirement already satisfied: tensorboard-plugin-wit>=1.6.0 in /usr/local/lib/python3.6/dist-packages (from tensorboard<3,>=2.3.0->tensorflow==2.3.0) (1.7.0)\n",
            "Requirement already satisfied: werkzeug>=0.11.15 in /usr/local/lib/python3.6/dist-packages (from tensorboard<3,>=2.3.0->tensorflow==2.3.0) (1.0.1)\n",
            "Requirement already satisfied: importlib-metadata; python_version < \"3.8\" in /usr/local/lib/python3.6/dist-packages (from markdown>=2.6.8->tensorboard<3,>=2.3.0->tensorflow==2.3.0) (3.3.0)\n",
            "Requirement already satisfied: urllib3!=1.25.0,!=1.25.1,<1.26,>=1.21.1 in /usr/local/lib/python3.6/dist-packages (from requests<3,>=2.21.0->tensorboard<3,>=2.3.0->tensorflow==2.3.0) (1.24.3)\n",
            "Requirement already satisfied: idna<3,>=2.5 in /usr/local/lib/python3.6/dist-packages (from requests<3,>=2.21.0->tensorboard<3,>=2.3.0->tensorflow==2.3.0) (2.10)\n",
            "Requirement already satisfied: certifi>=2017.4.17 in /usr/local/lib/python3.6/dist-packages (from requests<3,>=2.21.0->tensorboard<3,>=2.3.0->tensorflow==2.3.0) (2020.12.5)\n",
            "Requirement already satisfied: chardet<4,>=3.0.2 in /usr/local/lib/python3.6/dist-packages (from requests<3,>=2.21.0->tensorboard<3,>=2.3.0->tensorflow==2.3.0) (3.0.4)\n",
            "Requirement already satisfied: requests-oauthlib>=0.7.0 in /usr/local/lib/python3.6/dist-packages (from google-auth-oauthlib<0.5,>=0.4.1->tensorboard<3,>=2.3.0->tensorflow==2.3.0) (1.3.0)\n",
            "Requirement already satisfied: cachetools<5.0,>=2.0.0 in /usr/local/lib/python3.6/dist-packages (from google-auth<2,>=1.6.3->tensorboard<3,>=2.3.0->tensorflow==2.3.0) (4.2.0)\n",
            "Requirement already satisfied: rsa<5,>=3.1.4; python_version >= \"3\" in /usr/local/lib/python3.6/dist-packages (from google-auth<2,>=1.6.3->tensorboard<3,>=2.3.0->tensorflow==2.3.0) (4.6)\n",
            "Requirement already satisfied: pyasn1-modules>=0.2.1 in /usr/local/lib/python3.6/dist-packages (from google-auth<2,>=1.6.3->tensorboard<3,>=2.3.0->tensorflow==2.3.0) (0.2.8)\n",
            "Requirement already satisfied: zipp>=0.5 in /usr/local/lib/python3.6/dist-packages (from importlib-metadata; python_version < \"3.8\"->markdown>=2.6.8->tensorboard<3,>=2.3.0->tensorflow==2.3.0) (3.4.0)\n",
            "Requirement already satisfied: typing-extensions>=3.6.4; python_version < \"3.8\" in /usr/local/lib/python3.6/dist-packages (from importlib-metadata; python_version < \"3.8\"->markdown>=2.6.8->tensorboard<3,>=2.3.0->tensorflow==2.3.0) (3.7.4.3)\n",
            "Requirement already satisfied: oauthlib>=3.0.0 in /usr/local/lib/python3.6/dist-packages (from requests-oauthlib>=0.7.0->google-auth-oauthlib<0.5,>=0.4.1->tensorboard<3,>=2.3.0->tensorflow==2.3.0) (3.1.0)\n",
            "Requirement already satisfied: pyasn1>=0.1.3 in /usr/local/lib/python3.6/dist-packages (from rsa<5,>=3.1.4; python_version >= \"3\"->google-auth<2,>=1.6.3->tensorboard<3,>=2.3.0->tensorflow==2.3.0) (0.4.8)\n",
            "\u001b[31mERROR: datascience 0.10.6 has requirement folium==0.2.1, but you'll have folium 0.8.3 which is incompatible.\u001b[0m\n",
            "\u001b[31mERROR: albumentations 0.1.12 has requirement imgaug<0.2.7,>=0.2.5, but you'll have imgaug 0.2.9 which is incompatible.\u001b[0m\n",
            "Installing collected packages: numpy, tensorflow-estimator, tensorflow\n",
            "  Found existing installation: numpy 1.19.4\n",
            "    Uninstalling numpy-1.19.4:\n",
            "      Successfully uninstalled numpy-1.19.4\n",
            "  Found existing installation: tensorflow-estimator 2.4.0\n",
            "    Uninstalling tensorflow-estimator-2.4.0:\n",
            "      Successfully uninstalled tensorflow-estimator-2.4.0\n",
            "  Found existing installation: tensorflow 2.4.0\n",
            "    Uninstalling tensorflow-2.4.0:\n",
            "      Successfully uninstalled tensorflow-2.4.0\n",
            "Successfully installed numpy-1.18.5 tensorflow-2.3.0 tensorflow-estimator-2.3.0\n"
          ],
          "name": "stdout"
        },
        {
          "output_type": "display_data",
          "data": {
            "application/vnd.colab-display-data+json": {
              "pip_warning": {
                "packages": [
                  "numpy"
                ]
              }
            }
          },
          "metadata": {
            "tags": []
          }
        },
        {
          "output_type": "stream",
          "text": [
            "Collecting tensorflow-datasets==3.2.1\n",
            "\u001b[?25l  Downloading https://files.pythonhosted.org/packages/ca/c9/d97bdf931edbae9aebc767633d088bd674136d5fe7587ef693b7cb6a1883/tensorflow_datasets-3.2.1-py3-none-any.whl (3.4MB)\n",
            "\r\u001b[K     |                                | 10kB 22.5MB/s eta 0:00:01\r\u001b[K     |▏                               | 20kB 19.8MB/s eta 0:00:01\r\u001b[K     |▎                               | 30kB 16.5MB/s eta 0:00:01\r\u001b[K     |▍                               | 40kB 15.8MB/s eta 0:00:01\r\u001b[K     |▌                               | 51kB 12.3MB/s eta 0:00:01\r\u001b[K     |▋                               | 61kB 12.7MB/s eta 0:00:01\r\u001b[K     |▊                               | 71kB 12.5MB/s eta 0:00:01\r\u001b[K     |▊                               | 81kB 12.5MB/s eta 0:00:01\r\u001b[K     |▉                               | 92kB 13.6MB/s eta 0:00:01\r\u001b[K     |█                               | 102kB 13.7MB/s eta 0:00:01\r\u001b[K     |█                               | 112kB 13.7MB/s eta 0:00:01\r\u001b[K     |█▏                              | 122kB 13.7MB/s eta 0:00:01\r\u001b[K     |█▎                              | 133kB 13.7MB/s eta 0:00:01\r\u001b[K     |█▍                              | 143kB 13.7MB/s eta 0:00:01\r\u001b[K     |█▍                              | 153kB 13.7MB/s eta 0:00:01\r\u001b[K     |█▌                              | 163kB 13.7MB/s eta 0:00:01\r\u001b[K     |█▋                              | 174kB 13.7MB/s eta 0:00:01\r\u001b[K     |█▊                              | 184kB 13.7MB/s eta 0:00:01\r\u001b[K     |█▉                              | 194kB 13.7MB/s eta 0:00:01\r\u001b[K     |██                              | 204kB 13.7MB/s eta 0:00:01\r\u001b[K     |██                              | 215kB 13.7MB/s eta 0:00:01\r\u001b[K     |██▏                             | 225kB 13.7MB/s eta 0:00:01\r\u001b[K     |██▏                             | 235kB 13.7MB/s eta 0:00:01\r\u001b[K     |██▎                             | 245kB 13.7MB/s eta 0:00:01\r\u001b[K     |██▍                             | 256kB 13.7MB/s eta 0:00:01\r\u001b[K     |██▌                             | 266kB 13.7MB/s eta 0:00:01\r\u001b[K     |██▋                             | 276kB 13.7MB/s eta 0:00:01\r\u001b[K     |██▊                             | 286kB 13.7MB/s eta 0:00:01\r\u001b[K     |██▉                             | 296kB 13.7MB/s eta 0:00:01\r\u001b[K     |██▉                             | 307kB 13.7MB/s eta 0:00:01\r\u001b[K     |███                             | 317kB 13.7MB/s eta 0:00:01\r\u001b[K     |███                             | 327kB 13.7MB/s eta 0:00:01\r\u001b[K     |███▏                            | 337kB 13.7MB/s eta 0:00:01\r\u001b[K     |███▎                            | 348kB 13.7MB/s eta 0:00:01\r\u001b[K     |███▍                            | 358kB 13.7MB/s eta 0:00:01\r\u001b[K     |███▌                            | 368kB 13.7MB/s eta 0:00:01\r\u001b[K     |███▌                            | 378kB 13.7MB/s eta 0:00:01\r\u001b[K     |███▋                            | 389kB 13.7MB/s eta 0:00:01\r\u001b[K     |███▊                            | 399kB 13.7MB/s eta 0:00:01\r\u001b[K     |███▉                            | 409kB 13.7MB/s eta 0:00:01\r\u001b[K     |████                            | 419kB 13.7MB/s eta 0:00:01\r\u001b[K     |████                            | 430kB 13.7MB/s eta 0:00:01\r\u001b[K     |████▏                           | 440kB 13.7MB/s eta 0:00:01\r\u001b[K     |████▎                           | 450kB 13.7MB/s eta 0:00:01\r\u001b[K     |████▎                           | 460kB 13.7MB/s eta 0:00:01\r\u001b[K     |████▍                           | 471kB 13.7MB/s eta 0:00:01\r\u001b[K     |████▌                           | 481kB 13.7MB/s eta 0:00:01\r\u001b[K     |████▋                           | 491kB 13.7MB/s eta 0:00:01\r\u001b[K     |████▊                           | 501kB 13.7MB/s eta 0:00:01\r\u001b[K     |████▉                           | 512kB 13.7MB/s eta 0:00:01\r\u001b[K     |█████                           | 522kB 13.7MB/s eta 0:00:01\r\u001b[K     |█████                           | 532kB 13.7MB/s eta 0:00:01\r\u001b[K     |█████                           | 542kB 13.7MB/s eta 0:00:01\r\u001b[K     |█████▏                          | 552kB 13.7MB/s eta 0:00:01\r\u001b[K     |█████▎                          | 563kB 13.7MB/s eta 0:00:01\r\u001b[K     |█████▍                          | 573kB 13.7MB/s eta 0:00:01\r\u001b[K     |█████▌                          | 583kB 13.7MB/s eta 0:00:01\r\u001b[K     |█████▋                          | 593kB 13.7MB/s eta 0:00:01\r\u001b[K     |█████▋                          | 604kB 13.7MB/s eta 0:00:01\r\u001b[K     |█████▊                          | 614kB 13.7MB/s eta 0:00:01\r\u001b[K     |█████▉                          | 624kB 13.7MB/s eta 0:00:01\r\u001b[K     |██████                          | 634kB 13.7MB/s eta 0:00:01\r\u001b[K     |██████                          | 645kB 13.7MB/s eta 0:00:01\r\u001b[K     |██████▏                         | 655kB 13.7MB/s eta 0:00:01\r\u001b[K     |██████▎                         | 665kB 13.7MB/s eta 0:00:01\r\u001b[K     |██████▍                         | 675kB 13.7MB/s eta 0:00:01\r\u001b[K     |██████▍                         | 686kB 13.7MB/s eta 0:00:01\r\u001b[K     |██████▌                         | 696kB 13.7MB/s eta 0:00:01\r\u001b[K     |██████▋                         | 706kB 13.7MB/s eta 0:00:01\r\u001b[K     |██████▊                         | 716kB 13.7MB/s eta 0:00:01\r\u001b[K     |██████▉                         | 727kB 13.7MB/s eta 0:00:01\r\u001b[K     |███████                         | 737kB 13.7MB/s eta 0:00:01\r\u001b[K     |███████                         | 747kB 13.7MB/s eta 0:00:01\r\u001b[K     |███████                         | 757kB 13.7MB/s eta 0:00:01\r\u001b[K     |███████▏                        | 768kB 13.7MB/s eta 0:00:01\r\u001b[K     |███████▎                        | 778kB 13.7MB/s eta 0:00:01\r\u001b[K     |███████▍                        | 788kB 13.7MB/s eta 0:00:01\r\u001b[K     |███████▌                        | 798kB 13.7MB/s eta 0:00:01\r\u001b[K     |███████▋                        | 808kB 13.7MB/s eta 0:00:01\r\u001b[K     |███████▊                        | 819kB 13.7MB/s eta 0:00:01\r\u001b[K     |███████▊                        | 829kB 13.7MB/s eta 0:00:01\r\u001b[K     |███████▉                        | 839kB 13.7MB/s eta 0:00:01\r\u001b[K     |████████                        | 849kB 13.7MB/s eta 0:00:01\r\u001b[K     |████████                        | 860kB 13.7MB/s eta 0:00:01\r\u001b[K     |████████▏                       | 870kB 13.7MB/s eta 0:00:01\r\u001b[K     |████████▎                       | 880kB 13.7MB/s eta 0:00:01\r\u001b[K     |████████▍                       | 890kB 13.7MB/s eta 0:00:01\r\u001b[K     |████████▌                       | 901kB 13.7MB/s eta 0:00:01\r\u001b[K     |████████▌                       | 911kB 13.7MB/s eta 0:00:01\r\u001b[K     |████████▋                       | 921kB 13.7MB/s eta 0:00:01\r\u001b[K     |████████▊                       | 931kB 13.7MB/s eta 0:00:01\r\u001b[K     |████████▉                       | 942kB 13.7MB/s eta 0:00:01\r\u001b[K     |█████████                       | 952kB 13.7MB/s eta 0:00:01\r\u001b[K     |█████████                       | 962kB 13.7MB/s eta 0:00:01\r\u001b[K     |█████████▏                      | 972kB 13.7MB/s eta 0:00:01\r\u001b[K     |█████████▏                      | 983kB 13.7MB/s eta 0:00:01\r\u001b[K     |█████████▎                      | 993kB 13.7MB/s eta 0:00:01\r\u001b[K     |█████████▍                      | 1.0MB 13.7MB/s eta 0:00:01\r\u001b[K     |█████████▌                      | 1.0MB 13.7MB/s eta 0:00:01\r\u001b[K     |█████████▋                      | 1.0MB 13.7MB/s eta 0:00:01\r\u001b[K     |█████████▊                      | 1.0MB 13.7MB/s eta 0:00:01\r\u001b[K     |█████████▉                      | 1.0MB 13.7MB/s eta 0:00:01\r\u001b[K     |█████████▉                      | 1.1MB 13.7MB/s eta 0:00:01\r\u001b[K     |██████████                      | 1.1MB 13.7MB/s eta 0:00:01\r\u001b[K     |██████████                      | 1.1MB 13.7MB/s eta 0:00:01\r\u001b[K     |██████████▏                     | 1.1MB 13.7MB/s eta 0:00:01\r\u001b[K     |██████████▎                     | 1.1MB 13.7MB/s eta 0:00:01\r\u001b[K     |██████████▍                     | 1.1MB 13.7MB/s eta 0:00:01\r\u001b[K     |██████████▌                     | 1.1MB 13.7MB/s eta 0:00:01\r\u001b[K     |██████████▋                     | 1.1MB 13.7MB/s eta 0:00:01\r\u001b[K     |██████████▋                     | 1.1MB 13.7MB/s eta 0:00:01\r\u001b[K     |██████████▊                     | 1.1MB 13.7MB/s eta 0:00:01\r\u001b[K     |██████████▉                     | 1.2MB 13.7MB/s eta 0:00:01\r\u001b[K     |███████████                     | 1.2MB 13.7MB/s eta 0:00:01\r\u001b[K     |███████████                     | 1.2MB 13.7MB/s eta 0:00:01\r\u001b[K     |███████████▏                    | 1.2MB 13.7MB/s eta 0:00:01\r\u001b[K     |███████████▎                    | 1.2MB 13.7MB/s eta 0:00:01\r\u001b[K     |███████████▎                    | 1.2MB 13.7MB/s eta 0:00:01\r\u001b[K     |███████████▍                    | 1.2MB 13.7MB/s eta 0:00:01\r\u001b[K     |███████████▌                    | 1.2MB 13.7MB/s eta 0:00:01\r\u001b[K     |███████████▋                    | 1.2MB 13.7MB/s eta 0:00:01\r\u001b[K     |███████████▊                    | 1.2MB 13.7MB/s eta 0:00:01\r\u001b[K     |███████████▉                    | 1.3MB 13.7MB/s eta 0:00:01\r\u001b[K     |████████████                    | 1.3MB 13.7MB/s eta 0:00:01\r\u001b[K     |████████████                    | 1.3MB 13.7MB/s eta 0:00:01\r\u001b[K     |████████████                    | 1.3MB 13.7MB/s eta 0:00:01\r\u001b[K     |████████████▏                   | 1.3MB 13.7MB/s eta 0:00:01\r\u001b[K     |████████████▎                   | 1.3MB 13.7MB/s eta 0:00:01\r\u001b[K     |████████████▍                   | 1.3MB 13.7MB/s eta 0:00:01\r\u001b[K     |████████████▌                   | 1.3MB 13.7MB/s eta 0:00:01\r\u001b[K     |████████████▋                   | 1.3MB 13.7MB/s eta 0:00:01\r\u001b[K     |████████████▊                   | 1.4MB 13.7MB/s eta 0:00:01\r\u001b[K     |████████████▊                   | 1.4MB 13.7MB/s eta 0:00:01\r\u001b[K     |████████████▉                   | 1.4MB 13.7MB/s eta 0:00:01\r\u001b[K     |█████████████                   | 1.4MB 13.7MB/s eta 0:00:01\r\u001b[K     |█████████████                   | 1.4MB 13.7MB/s eta 0:00:01\r\u001b[K     |█████████████▏                  | 1.4MB 13.7MB/s eta 0:00:01\r\u001b[K     |█████████████▎                  | 1.4MB 13.7MB/s eta 0:00:01\r\u001b[K     |█████████████▍                  | 1.4MB 13.7MB/s eta 0:00:01\r\u001b[K     |█████████████▍                  | 1.4MB 13.7MB/s eta 0:00:01\r\u001b[K     |█████████████▌                  | 1.4MB 13.7MB/s eta 0:00:01\r\u001b[K     |█████████████▋                  | 1.5MB 13.7MB/s eta 0:00:01\r\u001b[K     |█████████████▊                  | 1.5MB 13.7MB/s eta 0:00:01\r\u001b[K     |█████████████▉                  | 1.5MB 13.7MB/s eta 0:00:01\r\u001b[K     |██████████████                  | 1.5MB 13.7MB/s eta 0:00:01\r\u001b[K     |██████████████                  | 1.5MB 13.7MB/s eta 0:00:01\r\u001b[K     |██████████████                  | 1.5MB 13.7MB/s eta 0:00:01\r\u001b[K     |██████████████▏                 | 1.5MB 13.7MB/s eta 0:00:01\r\u001b[K     |██████████████▎                 | 1.5MB 13.7MB/s eta 0:00:01\r\u001b[K     |██████████████▍                 | 1.5MB 13.7MB/s eta 0:00:01\r\u001b[K     |██████████████▌                 | 1.5MB 13.7MB/s eta 0:00:01\r\u001b[K     |██████████████▋                 | 1.6MB 13.7MB/s eta 0:00:01\r\u001b[K     |██████████████▊                 | 1.6MB 13.7MB/s eta 0:00:01\r\u001b[K     |██████████████▉                 | 1.6MB 13.7MB/s eta 0:00:01\r\u001b[K     |██████████████▉                 | 1.6MB 13.7MB/s eta 0:00:01\r\u001b[K     |███████████████                 | 1.6MB 13.7MB/s eta 0:00:01\r\u001b[K     |███████████████                 | 1.6MB 13.7MB/s eta 0:00:01\r\u001b[K     |███████████████▏                | 1.6MB 13.7MB/s eta 0:00:01\r\u001b[K     |███████████████▎                | 1.6MB 13.7MB/s eta 0:00:01\r\u001b[K     |███████████████▍                | 1.6MB 13.7MB/s eta 0:00:01\r\u001b[K     |███████████████▌                | 1.6MB 13.7MB/s eta 0:00:01\r\u001b[K     |███████████████▌                | 1.7MB 13.7MB/s eta 0:00:01\r\u001b[K     |███████████████▋                | 1.7MB 13.7MB/s eta 0:00:01\r\u001b[K     |███████████████▊                | 1.7MB 13.7MB/s eta 0:00:01\r\u001b[K     |███████████████▉                | 1.7MB 13.7MB/s eta 0:00:01\r\u001b[K     |████████████████                | 1.7MB 13.7MB/s eta 0:00:01\r\u001b[K     |████████████████                | 1.7MB 13.7MB/s eta 0:00:01\r\u001b[K     |████████████████▏               | 1.7MB 13.7MB/s eta 0:00:01\r\u001b[K     |████████████████▏               | 1.7MB 13.7MB/s eta 0:00:01\r\u001b[K     |████████████████▎               | 1.7MB 13.7MB/s eta 0:00:01\r\u001b[K     |████████████████▍               | 1.8MB 13.7MB/s eta 0:00:01\r\u001b[K     |████████████████▌               | 1.8MB 13.7MB/s eta 0:00:01\r\u001b[K     |████████████████▋               | 1.8MB 13.7MB/s eta 0:00:01\r\u001b[K     |████████████████▊               | 1.8MB 13.7MB/s eta 0:00:01\r\u001b[K     |████████████████▉               | 1.8MB 13.7MB/s eta 0:00:01\r\u001b[K     |█████████████████               | 1.8MB 13.7MB/s eta 0:00:01\r\u001b[K     |█████████████████               | 1.8MB 13.7MB/s eta 0:00:01\r\u001b[K     |█████████████████               | 1.8MB 13.7MB/s eta 0:00:01\r\u001b[K     |█████████████████▏              | 1.8MB 13.7MB/s eta 0:00:01\r\u001b[K     |█████████████████▎              | 1.8MB 13.7MB/s eta 0:00:01\r\u001b[K     |█████████████████▍              | 1.9MB 13.7MB/s eta 0:00:01\r\u001b[K     |█████████████████▌              | 1.9MB 13.7MB/s eta 0:00:01\r\u001b[K     |█████████████████▋              | 1.9MB 13.7MB/s eta 0:00:01\r\u001b[K     |█████████████████▋              | 1.9MB 13.7MB/s eta 0:00:01\r\u001b[K     |█████████████████▊              | 1.9MB 13.7MB/s eta 0:00:01\r\u001b[K     |█████████████████▉              | 1.9MB 13.7MB/s eta 0:00:01\r\u001b[K     |██████████████████              | 1.9MB 13.7MB/s eta 0:00:01\r\u001b[K     |██████████████████              | 1.9MB 13.7MB/s eta 0:00:01\r\u001b[K     |██████████████████▏             | 1.9MB 13.7MB/s eta 0:00:01\r\u001b[K     |██████████████████▎             | 1.9MB 13.7MB/s eta 0:00:01\r\u001b[K     |██████████████████▎             | 2.0MB 13.7MB/s eta 0:00:01\r\u001b[K     |██████████████████▍             | 2.0MB 13.7MB/s eta 0:00:01\r\u001b[K     |██████████████████▌             | 2.0MB 13.7MB/s eta 0:00:01\r\u001b[K     |██████████████████▋             | 2.0MB 13.7MB/s eta 0:00:01\r\u001b[K     |██████████████████▊             | 2.0MB 13.7MB/s eta 0:00:01\r\u001b[K     |██████████████████▉             | 2.0MB 13.7MB/s eta 0:00:01\r\u001b[K     |███████████████████             | 2.0MB 13.7MB/s eta 0:00:01\r\u001b[K     |███████████████████             | 2.0MB 13.7MB/s eta 0:00:01\r\u001b[K     |███████████████████             | 2.0MB 13.7MB/s eta 0:00:01\r\u001b[K     |███████████████████▏            | 2.0MB 13.7MB/s eta 0:00:01\r\u001b[K     |███████████████████▎            | 2.1MB 13.7MB/s eta 0:00:01\r\u001b[K     |███████████████████▍            | 2.1MB 13.7MB/s eta 0:00:01\r\u001b[K     |███████████████████▌            | 2.1MB 13.7MB/s eta 0:00:01\r\u001b[K     |███████████████████▋            | 2.1MB 13.7MB/s eta 0:00:01\r\u001b[K     |███████████████████▊            | 2.1MB 13.7MB/s eta 0:00:01\r\u001b[K     |███████████████████▊            | 2.1MB 13.7MB/s eta 0:00:01\r\u001b[K     |███████████████████▉            | 2.1MB 13.7MB/s eta 0:00:01\r\u001b[K     |████████████████████            | 2.1MB 13.7MB/s eta 0:00:01\r\u001b[K     |████████████████████            | 2.1MB 13.7MB/s eta 0:00:01\r\u001b[K     |████████████████████▏           | 2.2MB 13.7MB/s eta 0:00:01\r\u001b[K     |████████████████████▎           | 2.2MB 13.7MB/s eta 0:00:01\r\u001b[K     |████████████████████▍           | 2.2MB 13.7MB/s eta 0:00:01\r\u001b[K     |████████████████████▍           | 2.2MB 13.7MB/s eta 0:00:01\r\u001b[K     |████████████████████▌           | 2.2MB 13.7MB/s eta 0:00:01\r\u001b[K     |████████████████████▋           | 2.2MB 13.7MB/s eta 0:00:01\r\u001b[K     |████████████████████▊           | 2.2MB 13.7MB/s eta 0:00:01\r\u001b[K     |████████████████████▉           | 2.2MB 13.7MB/s eta 0:00:01\r\u001b[K     |█████████████████████           | 2.2MB 13.7MB/s eta 0:00:01\r\u001b[K     |█████████████████████           | 2.2MB 13.7MB/s eta 0:00:01\r\u001b[K     |█████████████████████▏          | 2.3MB 13.7MB/s eta 0:00:01\r\u001b[K     |█████████████████████▏          | 2.3MB 13.7MB/s eta 0:00:01\r\u001b[K     |█████████████████████▎          | 2.3MB 13.7MB/s eta 0:00:01\r\u001b[K     |█████████████████████▍          | 2.3MB 13.7MB/s eta 0:00:01\r\u001b[K     |█████████████████████▌          | 2.3MB 13.7MB/s eta 0:00:01\r\u001b[K     |█████████████████████▋          | 2.3MB 13.7MB/s eta 0:00:01\r\u001b[K     |█████████████████████▊          | 2.3MB 13.7MB/s eta 0:00:01\r\u001b[K     |█████████████████████▉          | 2.3MB 13.7MB/s eta 0:00:01\r\u001b[K     |█████████████████████▉          | 2.3MB 13.7MB/s eta 0:00:01\r\u001b[K     |██████████████████████          | 2.3MB 13.7MB/s eta 0:00:01\r\u001b[K     |██████████████████████          | 2.4MB 13.7MB/s eta 0:00:01\r\u001b[K     |██████████████████████▏         | 2.4MB 13.7MB/s eta 0:00:01\r\u001b[K     |██████████████████████▎         | 2.4MB 13.7MB/s eta 0:00:01\r\u001b[K     |██████████████████████▍         | 2.4MB 13.7MB/s eta 0:00:01\r\u001b[K     |██████████████████████▌         | 2.4MB 13.7MB/s eta 0:00:01\r\u001b[K     |██████████████████████▌         | 2.4MB 13.7MB/s eta 0:00:01\r\u001b[K     |██████████████████████▋         | 2.4MB 13.7MB/s eta 0:00:01\r\u001b[K     |██████████████████████▊         | 2.4MB 13.7MB/s eta 0:00:01\r\u001b[K     |██████████████████████▉         | 2.4MB 13.7MB/s eta 0:00:01\r\u001b[K     |███████████████████████         | 2.4MB 13.7MB/s eta 0:00:01\r\u001b[K     |███████████████████████         | 2.5MB 13.7MB/s eta 0:00:01\r\u001b[K     |███████████████████████▏        | 2.5MB 13.7MB/s eta 0:00:01\r\u001b[K     |███████████████████████▎        | 2.5MB 13.7MB/s eta 0:00:01\r\u001b[K     |███████████████████████▎        | 2.5MB 13.7MB/s eta 0:00:01\r\u001b[K     |███████████████████████▍        | 2.5MB 13.7MB/s eta 0:00:01\r\u001b[K     |███████████████████████▌        | 2.5MB 13.7MB/s eta 0:00:01\r\u001b[K     |███████████████████████▋        | 2.5MB 13.7MB/s eta 0:00:01\r\u001b[K     |███████████████████████▊        | 2.5MB 13.7MB/s eta 0:00:01\r\u001b[K     |███████████████████████▉        | 2.5MB 13.7MB/s eta 0:00:01\r\u001b[K     |████████████████████████        | 2.5MB 13.7MB/s eta 0:00:01\r\u001b[K     |████████████████████████        | 2.6MB 13.7MB/s eta 0:00:01\r\u001b[K     |████████████████████████        | 2.6MB 13.7MB/s eta 0:00:01\r\u001b[K     |████████████████████████▏       | 2.6MB 13.7MB/s eta 0:00:01\r\u001b[K     |████████████████████████▎       | 2.6MB 13.7MB/s eta 0:00:01\r\u001b[K     |████████████████████████▍       | 2.6MB 13.7MB/s eta 0:00:01\r\u001b[K     |████████████████████████▌       | 2.6MB 13.7MB/s eta 0:00:01\r\u001b[K     |████████████████████████▋       | 2.6MB 13.7MB/s eta 0:00:01\r\u001b[K     |████████████████████████▋       | 2.6MB 13.7MB/s eta 0:00:01\r\u001b[K     |████████████████████████▊       | 2.6MB 13.7MB/s eta 0:00:01\r\u001b[K     |████████████████████████▉       | 2.7MB 13.7MB/s eta 0:00:01\r\u001b[K     |█████████████████████████       | 2.7MB 13.7MB/s eta 0:00:01\r\u001b[K     |█████████████████████████       | 2.7MB 13.7MB/s eta 0:00:01\r\u001b[K     |█████████████████████████▏      | 2.7MB 13.7MB/s eta 0:00:01\r\u001b[K     |█████████████████████████▎      | 2.7MB 13.7MB/s eta 0:00:01\r\u001b[K     |█████████████████████████▍      | 2.7MB 13.7MB/s eta 0:00:01\r\u001b[K     |█████████████████████████▍      | 2.7MB 13.7MB/s eta 0:00:01\r\u001b[K     |█████████████████████████▌      | 2.7MB 13.7MB/s eta 0:00:01\r\u001b[K     |█████████████████████████▋      | 2.7MB 13.7MB/s eta 0:00:01\r\u001b[K     |█████████████████████████▊      | 2.7MB 13.7MB/s eta 0:00:01\r\u001b[K     |█████████████████████████▉      | 2.8MB 13.7MB/s eta 0:00:01\r\u001b[K     |██████████████████████████      | 2.8MB 13.7MB/s eta 0:00:01\r\u001b[K     |██████████████████████████      | 2.8MB 13.7MB/s eta 0:00:01\r\u001b[K     |██████████████████████████      | 2.8MB 13.7MB/s eta 0:00:01\r\u001b[K     |██████████████████████████▏     | 2.8MB 13.7MB/s eta 0:00:01\r\u001b[K     |██████████████████████████▎     | 2.8MB 13.7MB/s eta 0:00:01\r\u001b[K     |██████████████████████████▍     | 2.8MB 13.7MB/s eta 0:00:01\r\u001b[K     |██████████████████████████▌     | 2.8MB 13.7MB/s eta 0:00:01\r\u001b[K     |██████████████████████████▋     | 2.8MB 13.7MB/s eta 0:00:01\r\u001b[K     |██████████████████████████▊     | 2.8MB 13.7MB/s eta 0:00:01\r\u001b[K     |██████████████████████████▊     | 2.9MB 13.7MB/s eta 0:00:01\r\u001b[K     |██████████████████████████▉     | 2.9MB 13.7MB/s eta 0:00:01\r\u001b[K     |███████████████████████████     | 2.9MB 13.7MB/s eta 0:00:01\r\u001b[K     |███████████████████████████     | 2.9MB 13.7MB/s eta 0:00:01\r\u001b[K     |███████████████████████████▏    | 2.9MB 13.7MB/s eta 0:00:01\r\u001b[K     |███████████████████████████▎    | 2.9MB 13.7MB/s eta 0:00:01\r\u001b[K     |███████████████████████████▍    | 2.9MB 13.7MB/s eta 0:00:01\r\u001b[K     |███████████████████████████▌    | 2.9MB 13.7MB/s eta 0:00:01\r\u001b[K     |███████████████████████████▌    | 2.9MB 13.7MB/s eta 0:00:01\r\u001b[K     |███████████████████████████▋    | 2.9MB 13.7MB/s eta 0:00:01\r\u001b[K     |███████████████████████████▊    | 3.0MB 13.7MB/s eta 0:00:01\r\u001b[K     |███████████████████████████▉    | 3.0MB 13.7MB/s eta 0:00:01\r\u001b[K     |████████████████████████████    | 3.0MB 13.7MB/s eta 0:00:01\r\u001b[K     |████████████████████████████    | 3.0MB 13.7MB/s eta 0:00:01\r\u001b[K     |████████████████████████████▏   | 3.0MB 13.7MB/s eta 0:00:01\r\u001b[K     |████████████████████████████▏   | 3.0MB 13.7MB/s eta 0:00:01\r\u001b[K     |████████████████████████████▎   | 3.0MB 13.7MB/s eta 0:00:01\r\u001b[K     |████████████████████████████▍   | 3.0MB 13.7MB/s eta 0:00:01\r\u001b[K     |████████████████████████████▌   | 3.0MB 13.7MB/s eta 0:00:01\r\u001b[K     |████████████████████████████▋   | 3.1MB 13.7MB/s eta 0:00:01\r\u001b[K     |████████████████████████████▊   | 3.1MB 13.7MB/s eta 0:00:01\r\u001b[K     |████████████████████████████▉   | 3.1MB 13.7MB/s eta 0:00:01\r\u001b[K     |████████████████████████████▉   | 3.1MB 13.7MB/s eta 0:00:01\r\u001b[K     |█████████████████████████████   | 3.1MB 13.7MB/s eta 0:00:01\r\u001b[K     |█████████████████████████████   | 3.1MB 13.7MB/s eta 0:00:01\r\u001b[K     |█████████████████████████████▏  | 3.1MB 13.7MB/s eta 0:00:01\r\u001b[K     |█████████████████████████████▎  | 3.1MB 13.7MB/s eta 0:00:01\r\u001b[K     |█████████████████████████████▍  | 3.1MB 13.7MB/s eta 0:00:01\r\u001b[K     |█████████████████████████████▌  | 3.1MB 13.7MB/s eta 0:00:01\r\u001b[K     |█████████████████████████████▋  | 3.2MB 13.7MB/s eta 0:00:01\r\u001b[K     |█████████████████████████████▋  | 3.2MB 13.7MB/s eta 0:00:01\r\u001b[K     |█████████████████████████████▊  | 3.2MB 13.7MB/s eta 0:00:01\r\u001b[K     |█████████████████████████████▉  | 3.2MB 13.7MB/s eta 0:00:01\r\u001b[K     |██████████████████████████████  | 3.2MB 13.7MB/s eta 0:00:01\r\u001b[K     |██████████████████████████████  | 3.2MB 13.7MB/s eta 0:00:01\r\u001b[K     |██████████████████████████████▏ | 3.2MB 13.7MB/s eta 0:00:01\r\u001b[K     |██████████████████████████████▎ | 3.2MB 13.7MB/s eta 0:00:01\r\u001b[K     |██████████████████████████████▎ | 3.2MB 13.7MB/s eta 0:00:01\r\u001b[K     |██████████████████████████████▍ | 3.2MB 13.7MB/s eta 0:00:01\r\u001b[K     |██████████████████████████████▌ | 3.3MB 13.7MB/s eta 0:00:01\r\u001b[K     |██████████████████████████████▋ | 3.3MB 13.7MB/s eta 0:00:01\r\u001b[K     |██████████████████████████████▊ | 3.3MB 13.7MB/s eta 0:00:01\r\u001b[K     |██████████████████████████████▉ | 3.3MB 13.7MB/s eta 0:00:01\r\u001b[K     |███████████████████████████████ | 3.3MB 13.7MB/s eta 0:00:01\r\u001b[K     |███████████████████████████████ | 3.3MB 13.7MB/s eta 0:00:01\r\u001b[K     |███████████████████████████████ | 3.3MB 13.7MB/s eta 0:00:01\r\u001b[K     |███████████████████████████████▏| 3.3MB 13.7MB/s eta 0:00:01\r\u001b[K     |███████████████████████████████▎| 3.3MB 13.7MB/s eta 0:00:01\r\u001b[K     |███████████████████████████████▍| 3.3MB 13.7MB/s eta 0:00:01\r\u001b[K     |███████████████████████████████▌| 3.4MB 13.7MB/s eta 0:00:01\r\u001b[K     |███████████████████████████████▋| 3.4MB 13.7MB/s eta 0:00:01\r\u001b[K     |███████████████████████████████▊| 3.4MB 13.7MB/s eta 0:00:01\r\u001b[K     |███████████████████████████████▊| 3.4MB 13.7MB/s eta 0:00:01\r\u001b[K     |███████████████████████████████▉| 3.4MB 13.7MB/s eta 0:00:01\r\u001b[K     |████████████████████████████████| 3.4MB 13.7MB/s eta 0:00:01\r\u001b[K     |████████████████████████████████| 3.4MB 13.7MB/s \n",
            "\u001b[?25hRequirement already satisfied: protobuf>=3.6.1 in /usr/local/lib/python3.6/dist-packages (from tensorflow-datasets==3.2.1) (3.12.4)\n",
            "Requirement already satisfied: attrs>=18.1.0 in /usr/local/lib/python3.6/dist-packages (from tensorflow-datasets==3.2.1) (20.3.0)\n",
            "Requirement already satisfied: requests>=2.19.0 in /usr/local/lib/python3.6/dist-packages (from tensorflow-datasets==3.2.1) (2.23.0)\n",
            "Requirement already satisfied: future in /usr/local/lib/python3.6/dist-packages (from tensorflow-datasets==3.2.1) (0.16.0)\n",
            "Requirement already satisfied: six in /usr/local/lib/python3.6/dist-packages (from tensorflow-datasets==3.2.1) (1.15.0)\n",
            "Requirement already satisfied: wrapt in /usr/local/lib/python3.6/dist-packages (from tensorflow-datasets==3.2.1) (1.12.1)\n",
            "Requirement already satisfied: tensorflow-metadata in /usr/local/lib/python3.6/dist-packages (from tensorflow-datasets==3.2.1) (0.26.0)\n",
            "Requirement already satisfied: promise in /usr/local/lib/python3.6/dist-packages (from tensorflow-datasets==3.2.1) (2.3)\n",
            "Requirement already satisfied: termcolor in /usr/local/lib/python3.6/dist-packages (from tensorflow-datasets==3.2.1) (1.1.0)\n",
            "Requirement already satisfied: absl-py in /usr/local/lib/python3.6/dist-packages (from tensorflow-datasets==3.2.1) (0.10.0)\n",
            "Requirement already satisfied: tqdm in /usr/local/lib/python3.6/dist-packages (from tensorflow-datasets==3.2.1) (4.41.1)\n",
            "Requirement already satisfied: dill in /usr/local/lib/python3.6/dist-packages (from tensorflow-datasets==3.2.1) (0.3.3)\n",
            "Requirement already satisfied: numpy in /usr/local/lib/python3.6/dist-packages (from tensorflow-datasets==3.2.1) (1.18.5)\n",
            "Requirement already satisfied: setuptools in /usr/local/lib/python3.6/dist-packages (from protobuf>=3.6.1->tensorflow-datasets==3.2.1) (51.0.0)\n",
            "Requirement already satisfied: idna<3,>=2.5 in /usr/local/lib/python3.6/dist-packages (from requests>=2.19.0->tensorflow-datasets==3.2.1) (2.10)\n",
            "Requirement already satisfied: urllib3!=1.25.0,!=1.25.1,<1.26,>=1.21.1 in /usr/local/lib/python3.6/dist-packages (from requests>=2.19.0->tensorflow-datasets==3.2.1) (1.24.3)\n",
            "Requirement already satisfied: chardet<4,>=3.0.2 in /usr/local/lib/python3.6/dist-packages (from requests>=2.19.0->tensorflow-datasets==3.2.1) (3.0.4)\n",
            "Requirement already satisfied: certifi>=2017.4.17 in /usr/local/lib/python3.6/dist-packages (from requests>=2.19.0->tensorflow-datasets==3.2.1) (2020.12.5)\n",
            "Requirement already satisfied: googleapis-common-protos<2,>=1.52.0 in /usr/local/lib/python3.6/dist-packages (from tensorflow-metadata->tensorflow-datasets==3.2.1) (1.52.0)\n",
            "Installing collected packages: tensorflow-datasets\n",
            "  Found existing installation: tensorflow-datasets 4.0.1\n",
            "    Uninstalling tensorflow-datasets-4.0.1:\n",
            "      Successfully uninstalled tensorflow-datasets-4.0.1\n",
            "Successfully installed tensorflow-datasets-3.2.1\n",
            "Collecting Pillow==7.2.0\n",
            "\u001b[?25l  Downloading https://files.pythonhosted.org/packages/30/bf/92385b4262178ca22b34f82e0e09c2922eb351fe39f3cc7b8ba9ea555b41/Pillow-7.2.0-cp36-cp36m-manylinux1_x86_64.whl (2.2MB)\n",
            "\u001b[K     |████████████████████████████████| 2.2MB 22.4MB/s \n",
            "\u001b[31mERROR: albumentations 0.1.12 has requirement imgaug<0.2.7,>=0.2.5, but you'll have imgaug 0.2.9 which is incompatible.\u001b[0m\n",
            "\u001b[?25hInstalling collected packages: Pillow\n",
            "  Found existing installation: Pillow 7.0.0\n",
            "    Uninstalling Pillow-7.0.0:\n",
            "      Successfully uninstalled Pillow-7.0.0\n",
            "Successfully installed Pillow-7.2.0\n"
          ],
          "name": "stdout"
        },
        {
          "output_type": "display_data",
          "data": {
            "application/vnd.colab-display-data+json": {
              "pip_warning": {
                "packages": [
                  "PIL"
                ]
              }
            }
          },
          "metadata": {
            "tags": []
          }
        }
      ]
    },
    {
      "cell_type": "code",
      "metadata": {
        "id": "sfQRyaJWAIdg",
        "colab": {
          "base_uri": "https://localhost:8080/"
        },
        "outputId": "e27c1b57-6bf1-4b2c-9d11-bade37a908fd"
      },
      "source": [
        "import tensorflow as tf\n",
        "\n",
        "# YOUR CODE STARTS HERE\n",
        "class Reachs_99_Callback(tf.keras.callbacks.Callback):\n",
        "    def on_epoch_end(self, epoch, logs={}):\n",
        "        if logs.get('acc')>0.998:\n",
        "            print(\"Reached 99.8% accuracy so cancelling training!\")\n",
        "            self.model.stop_training = True\n",
        "# YOUR CODE ENDS HERE\n",
        "\n",
        "mnist = tf.keras.datasets.mnist\n",
        "(training_images, training_labels), (test_images, test_labels) = mnist.load_data()\n",
        "\n",
        "# YOUR CODE STARTS HERE\n",
        "training_images = training_images.reshape(60000, 28, 28, 1)/255.0\n",
        "test_images = test_images.reshape(10000, 28, 28, 1)/255.0\n",
        "\n",
        "callback = Reachs_99_Callback()\n",
        "# YOUR CODE ENDS HERE\n",
        "\n",
        "model = tf.keras.models.Sequential([\n",
        "    # YOUR CODE STARTS HERE\n",
        "    tf.keras.layers.Conv2D(32, (3,3), activation='relu', input_shape=(28, 28, 1)),\n",
        "    tf.keras.layers.MaxPooling2D((2, 2)),\n",
        "    tf.keras.layers.Flatten(),\n",
        "    tf.keras.layers.Dense(units=128, activation='relu'),\n",
        "    tf.keras.layers.Dense(units=10, activation='softmax')\n",
        "    # YOUR CODE ENDS HERE\n",
        "])\n",
        "\n",
        "# YOUR CODE STARTS HERE\n",
        "model.compile(optimizer='adam', loss='sparse_categorical_crossentropy', metrics=['accuracy'])\n",
        "    # model fitting\n",
        "history = model.fit(\n",
        "    # YOUR CODE STARTS HERE\n",
        "    training_images, training_labels,\n",
        "    epochs=50,\n",
        "    validation_data=(test_images, test_labels)\n",
        "    # callbacks=[callback]\n",
        "    # YOUR CODE ENDS HERE\n",
        ")\n",
        "# YOUR CODE ENDS HERE\n"
      ],
      "execution_count": 1,
      "outputs": [
        {
          "output_type": "stream",
          "text": [
            "Epoch 1/50\n",
            "1875/1875 [==============================] - 5s 2ms/step - loss: 0.1525 - accuracy: 0.9548 - val_loss: 0.0675 - val_accuracy: 0.9782\n",
            "Epoch 2/50\n",
            "1875/1875 [==============================] - 4s 2ms/step - loss: 0.0515 - accuracy: 0.9844 - val_loss: 0.0496 - val_accuracy: 0.9839\n",
            "Epoch 3/50\n",
            "1875/1875 [==============================] - 4s 2ms/step - loss: 0.0328 - accuracy: 0.9898 - val_loss: 0.0423 - val_accuracy: 0.9861\n",
            "Epoch 4/50\n",
            "1875/1875 [==============================] - 4s 2ms/step - loss: 0.0221 - accuracy: 0.9926 - val_loss: 0.0474 - val_accuracy: 0.9843\n",
            "Epoch 5/50\n",
            "1875/1875 [==============================] - 4s 2ms/step - loss: 0.0153 - accuracy: 0.9950 - val_loss: 0.0430 - val_accuracy: 0.9880\n",
            "Epoch 6/50\n",
            "1875/1875 [==============================] - 4s 2ms/step - loss: 0.0109 - accuracy: 0.9965 - val_loss: 0.0592 - val_accuracy: 0.9821\n",
            "Epoch 7/50\n",
            "1875/1875 [==============================] - 4s 2ms/step - loss: 0.0079 - accuracy: 0.9974 - val_loss: 0.0410 - val_accuracy: 0.9863\n",
            "Epoch 8/50\n",
            "1875/1875 [==============================] - 4s 2ms/step - loss: 0.0064 - accuracy: 0.9979 - val_loss: 0.0587 - val_accuracy: 0.9849\n",
            "Epoch 9/50\n",
            "1875/1875 [==============================] - 4s 2ms/step - loss: 0.0050 - accuracy: 0.9983 - val_loss: 0.0509 - val_accuracy: 0.9879\n",
            "Epoch 10/50\n",
            "1875/1875 [==============================] - 4s 2ms/step - loss: 0.0037 - accuracy: 0.9986 - val_loss: 0.0476 - val_accuracy: 0.9897\n",
            "Epoch 11/50\n",
            "1875/1875 [==============================] - 4s 2ms/step - loss: 0.0044 - accuracy: 0.9984 - val_loss: 0.0567 - val_accuracy: 0.9852\n",
            "Epoch 12/50\n",
            "1875/1875 [==============================] - 4s 2ms/step - loss: 0.0033 - accuracy: 0.9989 - val_loss: 0.0615 - val_accuracy: 0.9858\n",
            "Epoch 13/50\n",
            "1875/1875 [==============================] - 4s 2ms/step - loss: 0.0033 - accuracy: 0.9990 - val_loss: 0.0606 - val_accuracy: 0.9878\n",
            "Epoch 14/50\n",
            "1875/1875 [==============================] - 4s 2ms/step - loss: 0.0019 - accuracy: 0.9994 - val_loss: 0.0650 - val_accuracy: 0.9874\n",
            "Epoch 15/50\n",
            "1875/1875 [==============================] - 4s 2ms/step - loss: 0.0035 - accuracy: 0.9988 - val_loss: 0.0599 - val_accuracy: 0.9876\n",
            "Epoch 16/50\n",
            "1875/1875 [==============================] - 4s 2ms/step - loss: 0.0017 - accuracy: 0.9995 - val_loss: 0.0583 - val_accuracy: 0.9891\n",
            "Epoch 17/50\n",
            "1875/1875 [==============================] - 4s 2ms/step - loss: 0.0028 - accuracy: 0.9991 - val_loss: 0.0622 - val_accuracy: 0.9882\n",
            "Epoch 18/50\n",
            "1875/1875 [==============================] - 4s 2ms/step - loss: 0.0023 - accuracy: 0.9995 - val_loss: 0.0688 - val_accuracy: 0.9871\n",
            "Epoch 19/50\n",
            "1875/1875 [==============================] - 4s 2ms/step - loss: 7.0850e-04 - accuracy: 0.9999 - val_loss: 0.0777 - val_accuracy: 0.9859\n",
            "Epoch 20/50\n",
            "1875/1875 [==============================] - 4s 2ms/step - loss: 0.0033 - accuracy: 0.9988 - val_loss: 0.0687 - val_accuracy: 0.9872\n",
            "Epoch 21/50\n",
            "1875/1875 [==============================] - 4s 2ms/step - loss: 0.0014 - accuracy: 0.9995 - val_loss: 0.0663 - val_accuracy: 0.9884\n",
            "Epoch 22/50\n",
            "1875/1875 [==============================] - 4s 2ms/step - loss: 0.0029 - accuracy: 0.9992 - val_loss: 0.0780 - val_accuracy: 0.9862\n",
            "Epoch 23/50\n",
            "1875/1875 [==============================] - 4s 2ms/step - loss: 0.0022 - accuracy: 0.9993 - val_loss: 0.0718 - val_accuracy: 0.9866\n",
            "Epoch 24/50\n",
            "1875/1875 [==============================] - 4s 2ms/step - loss: 0.0010 - accuracy: 0.9997 - val_loss: 0.0749 - val_accuracy: 0.9878\n",
            "Epoch 25/50\n",
            "1875/1875 [==============================] - 4s 2ms/step - loss: 0.0013 - accuracy: 0.9997 - val_loss: 0.0841 - val_accuracy: 0.9850\n",
            "Epoch 26/50\n",
            "1875/1875 [==============================] - 4s 2ms/step - loss: 0.0020 - accuracy: 0.9992 - val_loss: 0.0898 - val_accuracy: 0.9864\n",
            "Epoch 27/50\n",
            "1875/1875 [==============================] - 4s 2ms/step - loss: 8.9331e-04 - accuracy: 0.9997 - val_loss: 0.0833 - val_accuracy: 0.9872\n",
            "Epoch 28/50\n",
            "1875/1875 [==============================] - 4s 2ms/step - loss: 4.9222e-04 - accuracy: 0.9998 - val_loss: 0.0855 - val_accuracy: 0.9873\n",
            "Epoch 29/50\n",
            "1875/1875 [==============================] - 4s 2ms/step - loss: 0.0024 - accuracy: 0.9992 - val_loss: 0.0834 - val_accuracy: 0.9867\n",
            "Epoch 30/50\n",
            "1875/1875 [==============================] - 4s 2ms/step - loss: 0.0015 - accuracy: 0.9995 - val_loss: 0.0911 - val_accuracy: 0.9864\n",
            "Epoch 31/50\n",
            "1875/1875 [==============================] - 4s 2ms/step - loss: 8.7263e-04 - accuracy: 0.9997 - val_loss: 0.0963 - val_accuracy: 0.9859\n",
            "Epoch 32/50\n",
            "1875/1875 [==============================] - 4s 2ms/step - loss: 0.0013 - accuracy: 0.9995 - val_loss: 0.1023 - val_accuracy: 0.9867\n",
            "Epoch 33/50\n",
            "1875/1875 [==============================] - 4s 2ms/step - loss: 0.0014 - accuracy: 0.9996 - val_loss: 0.0964 - val_accuracy: 0.9875\n",
            "Epoch 34/50\n",
            "1875/1875 [==============================] - 4s 2ms/step - loss: 0.0012 - accuracy: 0.9996 - val_loss: 0.0982 - val_accuracy: 0.9873\n",
            "Epoch 35/50\n",
            "1875/1875 [==============================] - 4s 2ms/step - loss: 0.0017 - accuracy: 0.9995 - val_loss: 0.0892 - val_accuracy: 0.9874\n",
            "Epoch 36/50\n",
            "1875/1875 [==============================] - 4s 2ms/step - loss: 2.3641e-04 - accuracy: 0.9999 - val_loss: 0.0937 - val_accuracy: 0.9875\n",
            "Epoch 37/50\n",
            "1875/1875 [==============================] - 4s 2ms/step - loss: 7.4381e-05 - accuracy: 1.0000 - val_loss: 0.1228 - val_accuracy: 0.9867\n",
            "Epoch 38/50\n",
            "1875/1875 [==============================] - 4s 2ms/step - loss: 0.0023 - accuracy: 0.9994 - val_loss: 0.1046 - val_accuracy: 0.9865\n",
            "Epoch 39/50\n",
            "1875/1875 [==============================] - 4s 2ms/step - loss: 0.0010 - accuracy: 0.9997 - val_loss: 0.1094 - val_accuracy: 0.9868\n",
            "Epoch 40/50\n",
            "1875/1875 [==============================] - 4s 2ms/step - loss: 5.7500e-04 - accuracy: 0.9999 - val_loss: 0.1149 - val_accuracy: 0.9869\n",
            "Epoch 41/50\n",
            "1875/1875 [==============================] - 4s 2ms/step - loss: 9.2679e-04 - accuracy: 0.9997 - val_loss: 0.0969 - val_accuracy: 0.9887\n",
            "Epoch 42/50\n",
            "1875/1875 [==============================] - 5s 2ms/step - loss: 0.0014 - accuracy: 0.9996 - val_loss: 0.1094 - val_accuracy: 0.9873\n",
            "Epoch 43/50\n",
            "1875/1875 [==============================] - 5s 3ms/step - loss: 0.0016 - accuracy: 0.9997 - val_loss: 0.1081 - val_accuracy: 0.9879\n",
            "Epoch 44/50\n",
            "1875/1875 [==============================] - 5s 2ms/step - loss: 7.4414e-04 - accuracy: 0.9998 - val_loss: 0.1075 - val_accuracy: 0.9880\n",
            "Epoch 45/50\n",
            "1875/1875 [==============================] - 4s 2ms/step - loss: 0.0013 - accuracy: 0.9996 - val_loss: 0.1212 - val_accuracy: 0.9870\n",
            "Epoch 46/50\n",
            "1875/1875 [==============================] - 4s 2ms/step - loss: 5.9388e-04 - accuracy: 0.9998 - val_loss: 0.1008 - val_accuracy: 0.9888\n",
            "Epoch 47/50\n",
            "1875/1875 [==============================] - 4s 2ms/step - loss: 0.0012 - accuracy: 0.9996 - val_loss: 0.1151 - val_accuracy: 0.9867\n",
            "Epoch 48/50\n",
            "1875/1875 [==============================] - 4s 2ms/step - loss: 5.6449e-04 - accuracy: 0.9998 - val_loss: 0.1104 - val_accuracy: 0.9885\n",
            "Epoch 49/50\n",
            "1875/1875 [==============================] - 4s 2ms/step - loss: 1.0941e-05 - accuracy: 1.0000 - val_loss: 0.1106 - val_accuracy: 0.9889\n",
            "Epoch 50/50\n",
            "1875/1875 [==============================] - 4s 2ms/step - loss: 6.2730e-07 - accuracy: 1.0000 - val_loss: 0.1106 - val_accuracy: 0.9890\n"
          ],
          "name": "stdout"
        }
      ]
    },
    {
      "cell_type": "code",
      "metadata": {
        "id": "eSxo97G0jVFz"
      },
      "source": [
        "model.save(\"model_week3.h5\")"
      ],
      "execution_count": 2,
      "outputs": []
    },
    {
      "cell_type": "code",
      "metadata": {
        "id": "L7d_brfYjZAg"
      },
      "source": [
        ""
      ],
      "execution_count": null,
      "outputs": []
    }
  ]
}